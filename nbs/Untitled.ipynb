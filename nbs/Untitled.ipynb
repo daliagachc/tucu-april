{
 "cells": [
  {
   "cell_type": "code",
   "execution_count": 52,
   "metadata": {
    "attributes": {
     "classes": [],
     "id": "",
     "n": "1"
    }
   },
   "outputs": [],
   "source": [
    "import os\n",
    "import glob\n",
    "import pandas as pd\n",
    "import matplotlib.pyplot as plt\n",
    "from netCDF4 import Dataset as netcdf_dataset\n",
    "import netCDF4"
   ]
  },
  {
   "cell_type": "code",
   "execution_count": 44,
   "metadata": {
    "attributes": {
     "classes": [],
     "id": "",
     "n": "72"
    }
   },
   "outputs": [],
   "source": [
    "# to mount \n",
    "#sudo sshfs -o allow_other aliagadi@sisu-login2.csc.fi:/wrk/aliagadi/DONOTREMOVE/saltena_2018/tucu-april-data/ ./tucu-april-data\n",
    "dir = '../tucu-april-data/WPS/'\n",
    "dir = '../tucu-april-data/WRF/'"
   ]
  },
  {
   "cell_type": "code",
   "execution_count": 45,
   "metadata": {
    "attributes": {
     "classes": [],
     "id": "",
     "n": "73"
    }
   },
   "outputs": [],
   "source": [
    "all_files = pd.DataFrame(os.listdir(dir),columns = ['name'])"
   ]
  },
  {
   "cell_type": "code",
   "execution_count": 46,
   "metadata": {
    "attributes": {
     "classes": [],
     "id": "",
     "n": "75"
    }
   },
   "outputs": [
    {
     "data": {
      "text/html": [
       "<div>\n",
       "<style scoped>\n",
       "    .dataframe tbody tr th:only-of-type {\n",
       "        vertical-align: middle;\n",
       "    }\n",
       "\n",
       "    .dataframe tbody tr th {\n",
       "        vertical-align: top;\n",
       "    }\n",
       "\n",
       "    .dataframe thead th {\n",
       "        text-align: right;\n",
       "    }\n",
       "</style>\n",
       "<table border=\"1\" class=\"dataframe\">\n",
       "  <thead>\n",
       "    <tr style=\"text-align: right;\">\n",
       "      <th></th>\n",
       "      <th>name</th>\n",
       "      <th>d</th>\n",
       "    </tr>\n",
       "  </thead>\n",
       "  <tbody>\n",
       "    <tr>\n",
       "      <th>0</th>\n",
       "      <td>wrfout_d02_2018-04-05_12:00:00</td>\n",
       "      <td>d02</td>\n",
       "    </tr>\n",
       "    <tr>\n",
       "      <th>1</th>\n",
       "      <td>wrfout_d04_2018-04-05_12:00:00</td>\n",
       "      <td>d04</td>\n",
       "    </tr>\n",
       "    <tr>\n",
       "      <th>2</th>\n",
       "      <td>wrfout_d03_2018-04-05_06:00:00</td>\n",
       "      <td>d03</td>\n",
       "    </tr>\n",
       "    <tr>\n",
       "      <th>3</th>\n",
       "      <td>wrfout_d01_2018-04-05_18:00:00</td>\n",
       "      <td>d01</td>\n",
       "    </tr>\n",
       "    <tr>\n",
       "      <th>4</th>\n",
       "      <td>wrfout_d03_2018-04-05_18:00:00</td>\n",
       "      <td>d03</td>\n",
       "    </tr>\n",
       "  </tbody>\n",
       "</table>\n",
       "</div>"
      ],
      "text/plain": [
       "                             name    d\n",
       "0  wrfout_d02_2018-04-05_12:00:00  d02\n",
       "1  wrfout_d04_2018-04-05_12:00:00  d04\n",
       "2  wrfout_d03_2018-04-05_06:00:00  d03\n",
       "3  wrfout_d01_2018-04-05_18:00:00  d01\n",
       "4  wrfout_d03_2018-04-05_18:00:00  d03"
      ]
     },
     "execution_count": 46,
     "metadata": {},
     "output_type": "execute_result"
    }
   ],
   "source": [
    "boo = all_files.name.str.contains('wrfout_d0') & all_files.name.str.contains('d0')\n",
    "met_em_files = all_files[boo].reset_index(drop=True)\n",
    "met_em_files['d']=None\n",
    "_l = ['d01','d02','d03','d04']\n",
    "l = 'd01'\n",
    "for l in _l:\n",
    "    _b = met_em_files.name.str.contains(l)\n",
    "    met_em_files.loc[_b,'d'] = l \n",
    "met_em_files.head()"
   ]
  },
  {
   "cell_type": "code",
   "execution_count": 47,
   "metadata": {},
   "outputs": [
    {
     "data": {
      "text/plain": [
       "'../tucu-april-data/WRF/wrfout_d04_2018-04-05_12:00:00'"
      ]
     },
     "execution_count": 47,
     "metadata": {},
     "output_type": "execute_result"
    }
   ],
   "source": [
    "import os.path\n",
    "file = met_em_files[met_em_files.d=='d04'].name.iloc[0]\n",
    "file_path = os.path.join(dir,file) \n",
    "file_path"
   ]
  },
  {
   "cell_type": "code",
   "execution_count": 48,
   "metadata": {},
   "outputs": [],
   "source": [
    "file_ds = netcdf_dataset(file_path, 'r')"
   ]
  },
  {
   "cell_type": "code",
   "execution_count": 49,
   "metadata": {},
   "outputs": [],
   "source": [
    "import di_python.ya_esta as ye "
   ]
  },
  {
   "cell_type": "code",
   "execution_count": 50,
   "metadata": {},
   "outputs": [
    {
     "data": {
      "text/html": [
       "<div>\n",
       "<style scoped>\n",
       "    .dataframe tbody tr th:only-of-type {\n",
       "        vertical-align: middle;\n",
       "    }\n",
       "\n",
       "    .dataframe tbody tr th {\n",
       "        vertical-align: top;\n",
       "    }\n",
       "\n",
       "    .dataframe thead th {\n",
       "        text-align: right;\n",
       "    }\n",
       "</style>\n",
       "<table border=\"1\" class=\"dataframe\">\n",
       "  <thead>\n",
       "    <tr style=\"text-align: right;\">\n",
       "      <th></th>\n",
       "      <th>variable</th>\n",
       "    </tr>\n",
       "  </thead>\n",
       "  <tbody>\n",
       "    <tr>\n",
       "      <th>1</th>\n",
       "      <td>XLAT</td>\n",
       "    </tr>\n",
       "    <tr>\n",
       "      <th>163</th>\n",
       "      <td>XLAT_U</td>\n",
       "    </tr>\n",
       "    <tr>\n",
       "      <th>165</th>\n",
       "      <td>XLAT_V</td>\n",
       "    </tr>\n",
       "    <tr>\n",
       "      <th>168</th>\n",
       "      <td>CLAT</td>\n",
       "    </tr>\n",
       "  </tbody>\n",
       "</table>\n",
       "</div>"
      ],
      "text/plain": [
       "    variable\n",
       "1       XLAT\n",
       "163   XLAT_U\n",
       "165   XLAT_V\n",
       "168     CLAT"
      ]
     },
     "execution_count": 50,
     "metadata": {},
     "output_type": "execute_result"
    }
   ],
   "source": [
    "var = file_ds.variables\n",
    "var = list(var)\n",
    "var = pd.DataFrame(var,columns=['variable'] )\n",
    "boo = var.variable.str.contains('LAT')\n",
    "# varp = ye.partition(var,15) \n",
    "# pd.DataFrame(varp)\n",
    "var[boo]"
   ]
  },
  {
   "cell_type": "code",
   "execution_count": 53,
   "metadata": {},
   "outputs": [],
   "source": [
    "import wrf"
   ]
  },
  {
   "cell_type": "code",
   "execution_count": 51,
   "metadata": {},
   "outputs": [
    {
     "data": {
      "text/plain": [
       "<class 'netCDF4._netCDF4.Variable'>\n",
       "float32 XLAT(Time, south_north, west_east)\n",
       "    FieldType: 104\n",
       "    MemoryOrder: XY \n",
       "    description: LATITUDE, SOUTH IS NEGATIVE\n",
       "    units: degree_north\n",
       "    stagger: \n",
       "    coordinates: XLONG XLAT\n",
       "unlimited dimensions: Time\n",
       "current shape = (1, 78, 99)\n",
       "filling on, default _FillValue of 9.969209968386869e+36 used"
      ]
     },
     "execution_count": 51,
     "metadata": {},
     "output_type": "execute_result"
    }
   ],
   "source": [
    "file_ds.variables[\"XLAT\"]"
   ]
  },
  {
   "cell_type": "code",
   "execution_count": 57,
   "metadata": {},
   "outputs": [
    {
     "data": {
      "text/plain": [
       "<xarray.DataArray 'XLAT' (south_north: 78, west_east: 99)>\n",
       "array([[-16.45932 , -16.45932 , -16.45932 , ..., -16.45932 , -16.45932 ,\n",
       "        -16.45932 ],\n",
       "       [-16.448807, -16.448807, -16.448807, ..., -16.448807, -16.448807,\n",
       "        -16.448807],\n",
       "       [-16.438293, -16.438293, -16.438293, ..., -16.438293, -16.438293,\n",
       "        -16.438293],\n",
       "       ...,\n",
       "       [-15.669197, -15.669197, -15.669197, ..., -15.669197, -15.669197,\n",
       "        -15.669197],\n",
       "       [-15.658646, -15.658646, -15.658646, ..., -15.658646, -15.658646,\n",
       "        -15.658646],\n",
       "       [-15.648087, -15.648087, -15.648087, ..., -15.648087, -15.648087,\n",
       "        -15.648087]], dtype=float32)\n",
       "Coordinates:\n",
       "    XLONG    (south_north, west_east) float32 -68.826996 -68.81603 ... -67.75261\n",
       "    XLAT     (south_north, west_east) float32 -16.45932 -16.45932 ... -15.648087\n",
       "    Time     datetime64[ns] 2018-04-05T12:00:00\n",
       "Dimensions without coordinates: south_north, west_east\n",
       "Attributes:\n",
       "    FieldType:    104\n",
       "    MemoryOrder:  XY \n",
       "    description:  LATITUDE, SOUTH IS NEGATIVE\n",
       "    units:        degree_north\n",
       "    stagger:      \n",
       "    coordinates:  XLONG XLAT\n",
       "    projection:   Mercator(stand_lon=-68.12999725341797, moad_cen_lat=-17.000..."
      ]
     },
     "execution_count": 57,
     "metadata": {},
     "output_type": "execute_result"
    }
   ],
   "source": [
    "latds = wrf.getvar(file_ds,\"XLAT\")\n",
    "latds"
   ]
  },
  {
   "cell_type": "code",
   "execution_count": 68,
   "metadata": {},
   "outputs": [],
   "source": [
    "la,lo=wrf.latlon_coords(latds)\n"
   ]
  },
  {
   "cell_type": "code",
   "execution_count": 84,
   "metadata": {},
   "outputs": [
    {
     "data": {
      "text/plain": [
       "[-16.45932, -15.648087, -16.45932]"
      ]
     },
     "execution_count": 84,
     "metadata": {},
     "output_type": "execute_result"
    }
   ],
   "source": [
    "la0=la.values[0,0]\n",
    "la1=la.values[-1,-1]\n",
    "la2=la.values[0,-1]\n",
    "[la0,la1,la2]"
   ]
  },
  {
   "cell_type": "code",
   "execution_count": null,
   "metadata": {},
   "outputs": [],
   "source": []
  },
  {
   "cell_type": "code",
   "execution_count": null,
   "metadata": {},
   "outputs": [],
   "source": []
  }
 ],
 "metadata": {
  "kernelspec": {
   "display_name": "Python 3",
   "language": "python",
   "name": "python3"
  },
  "language_info": {
   "codemirror_mode": {
    "name": "ipython",
    "version": 3
   },
   "file_extension": ".py",
   "mimetype": "text/x-python",
   "name": "python",
   "nbconvert_exporter": "python",
   "pygments_lexer": "ipython3",
   "version": "3.7.2"
  }
 },
 "nbformat": 4,
 "nbformat_minor": 2
}
