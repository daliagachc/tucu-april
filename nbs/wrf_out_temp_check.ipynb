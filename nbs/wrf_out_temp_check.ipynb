{
 "cells": [
  {
   "cell_type": "code",
   "execution_count": 2,
   "metadata": {
    "lines_to_next_cell": 2
   },
   "outputs": [],
   "source": [
    "# lets have al the imports here\n",
    "from tucu_saltena_fun import *"
   ]
  },
  {
   "cell_type": "code",
   "execution_count": 3,
   "metadata": {},
   "outputs": [
    {
     "data": {
      "text/html": [
       "<div>\n",
       "<style scoped>\n",
       "    .dataframe tbody tr th:only-of-type {\n",
       "        vertical-align: middle;\n",
       "    }\n",
       "\n",
       "    .dataframe tbody tr th {\n",
       "        vertical-align: top;\n",
       "    }\n",
       "\n",
       "    .dataframe thead th {\n",
       "        text-align: right;\n",
       "    }\n",
       "</style>\n",
       "<table border=\"1\" class=\"dataframe\">\n",
       "  <thead>\n",
       "    <tr style=\"text-align: right;\">\n",
       "      <th></th>\n",
       "      <th>name</th>\n",
       "      <th>path</th>\n",
       "      <th>dom</th>\n",
       "    </tr>\n",
       "  </thead>\n",
       "  <tbody>\n",
       "    <tr>\n",
       "      <th>129</th>\n",
       "      <td>wrfout_d03_2018-04-07_04:30:00</td>\n",
       "      <td>../tucu-april-rm-data/WRF/wrfout_d03_2018-04-0...</td>\n",
       "      <td>d03</td>\n",
       "    </tr>\n",
       "    <tr>\n",
       "      <th>41</th>\n",
       "      <td>wrfout_d01_2018-04-07_19:30:00</td>\n",
       "      <td>../tucu-april-rm-data/WRF/wrfout_d01_2018-04-0...</td>\n",
       "      <td>d01</td>\n",
       "    </tr>\n",
       "    <tr>\n",
       "      <th>126</th>\n",
       "      <td>wrfout_d03_2018-04-07_00:00:00</td>\n",
       "      <td>../tucu-april-rm-data/WRF/wrfout_d03_2018-04-0...</td>\n",
       "      <td>d03</td>\n",
       "    </tr>\n",
       "    <tr>\n",
       "      <th>120</th>\n",
       "      <td>wrfout_d03_2018-04-06_15:00:00</td>\n",
       "      <td>../tucu-april-rm-data/WRF/wrfout_d03_2018-04-0...</td>\n",
       "      <td>d03</td>\n",
       "    </tr>\n",
       "    <tr>\n",
       "      <th>55</th>\n",
       "      <td>wrfout_d02_2018-04-05_15:00:00</td>\n",
       "      <td>../tucu-april-rm-data/WRF/wrfout_d02_2018-04-0...</td>\n",
       "      <td>d02</td>\n",
       "    </tr>\n",
       "  </tbody>\n",
       "</table>\n",
       "</div>"
      ],
      "text/plain": [
       "                               name  \\\n",
       "129  wrfout_d03_2018-04-07_04:30:00   \n",
       "41   wrfout_d01_2018-04-07_19:30:00   \n",
       "126  wrfout_d03_2018-04-07_00:00:00   \n",
       "120  wrfout_d03_2018-04-06_15:00:00   \n",
       "55   wrfout_d02_2018-04-05_15:00:00   \n",
       "\n",
       "                                                  path  dom  \n",
       "129  ../tucu-april-rm-data/WRF/wrfout_d03_2018-04-0...  d03  \n",
       "41   ../tucu-april-rm-data/WRF/wrfout_d01_2018-04-0...  d01  \n",
       "126  ../tucu-april-rm-data/WRF/wrfout_d03_2018-04-0...  d03  \n",
       "120  ../tucu-april-rm-data/WRF/wrfout_d03_2018-04-0...  d03  \n",
       "55   ../tucu-april-rm-data/WRF/wrfout_d02_2018-04-0...  d02  "
      ]
     },
     "execution_count": 3,
     "metadata": {},
     "output_type": "execute_result"
    }
   ],
   "source": [
    "# lets plot the file names in the directory\n",
    "from tucu_saltena_fun import print_var_starting_with\n",
    "\n",
    "dir_path = '../tucu-april-rm-data/WRF/'\n",
    "file_list = get_file_list(dir_path, ext='wrfout_d')\n",
    "file_list.sample(5)"
   ]
  },
  {
   "cell_type": "code",
   "execution_count": 4,
   "metadata": {},
   "outputs": [],
   "source": [
    "# lets choose a random path\n",
    "row = file_list[file_list.dom == 'd04'].iloc[1] "
   ]
  },
  {
   "cell_type": "code",
   "execution_count": 5,
   "metadata": {},
   "outputs": [],
   "source": [
    "dd=['d01','d02','d03','d04']\n",
    "mega_l={}\n",
    "for d in dd:\n",
    "    mega_l[d]=get_mega_list(d,file_list)"
   ]
  },
  {
   "cell_type": "code",
   "execution_count": 6,
   "metadata": {
    "lines_to_next_cell": 2
   },
   "outputs": [
    {
     "data": {
      "text/html": [
       "<div>\n",
       "<style scoped>\n",
       "    .dataframe tbody tr th:only-of-type {\n",
       "        vertical-align: middle;\n",
       "    }\n",
       "\n",
       "    .dataframe tbody tr th {\n",
       "        vertical-align: top;\n",
       "    }\n",
       "\n",
       "    .dataframe thead th {\n",
       "        text-align: right;\n",
       "    }\n",
       "</style>\n",
       "<table border=\"1\" class=\"dataframe\">\n",
       "  <thead>\n",
       "    <tr style=\"text-align: right;\">\n",
       "      <th></th>\n",
       "      <th>wrf_index</th>\n",
       "      <th>name</th>\n",
       "      <th>dom</th>\n",
       "      <th>path</th>\n",
       "    </tr>\n",
       "    <tr>\n",
       "      <th>date</th>\n",
       "      <th></th>\n",
       "      <th></th>\n",
       "      <th></th>\n",
       "      <th></th>\n",
       "    </tr>\n",
       "  </thead>\n",
       "  <tbody>\n",
       "    <tr>\n",
       "      <th>2018-04-05 06:00:00</th>\n",
       "      <td>0</td>\n",
       "      <td>wrfout_d03_2018-04-05_06:00:00</td>\n",
       "      <td>d03</td>\n",
       "      <td>../tucu-april-rm-data/WRF/wrfout_d03_2018-04-0...</td>\n",
       "    </tr>\n",
       "    <tr>\n",
       "      <th>2018-04-05 06:15:00</th>\n",
       "      <td>1</td>\n",
       "      <td>wrfout_d03_2018-04-05_06:00:00</td>\n",
       "      <td>d03</td>\n",
       "      <td>../tucu-april-rm-data/WRF/wrfout_d03_2018-04-0...</td>\n",
       "    </tr>\n",
       "    <tr>\n",
       "      <th>2018-04-05 06:30:00</th>\n",
       "      <td>2</td>\n",
       "      <td>wrfout_d03_2018-04-05_06:00:00</td>\n",
       "      <td>d03</td>\n",
       "      <td>../tucu-april-rm-data/WRF/wrfout_d03_2018-04-0...</td>\n",
       "    </tr>\n",
       "    <tr>\n",
       "      <th>2018-04-05 06:45:00</th>\n",
       "      <td>3</td>\n",
       "      <td>wrfout_d03_2018-04-05_06:00:00</td>\n",
       "      <td>d03</td>\n",
       "      <td>../tucu-april-rm-data/WRF/wrfout_d03_2018-04-0...</td>\n",
       "    </tr>\n",
       "    <tr>\n",
       "      <th>2018-04-05 07:00:00</th>\n",
       "      <td>4</td>\n",
       "      <td>wrfout_d03_2018-04-05_06:00:00</td>\n",
       "      <td>d03</td>\n",
       "      <td>../tucu-april-rm-data/WRF/wrfout_d03_2018-04-0...</td>\n",
       "    </tr>\n",
       "    <tr>\n",
       "      <th>2018-04-05 07:15:00</th>\n",
       "      <td>5</td>\n",
       "      <td>wrfout_d03_2018-04-05_06:00:00</td>\n",
       "      <td>d03</td>\n",
       "      <td>../tucu-april-rm-data/WRF/wrfout_d03_2018-04-0...</td>\n",
       "    </tr>\n",
       "    <tr>\n",
       "      <th>2018-04-05 07:30:00</th>\n",
       "      <td>0</td>\n",
       "      <td>wrfout_d03_2018-04-05_07:30:00</td>\n",
       "      <td>d03</td>\n",
       "      <td>../tucu-april-rm-data/WRF/wrfout_d03_2018-04-0...</td>\n",
       "    </tr>\n",
       "    <tr>\n",
       "      <th>2018-04-05 07:45:00</th>\n",
       "      <td>1</td>\n",
       "      <td>wrfout_d03_2018-04-05_07:30:00</td>\n",
       "      <td>d03</td>\n",
       "      <td>../tucu-april-rm-data/WRF/wrfout_d03_2018-04-0...</td>\n",
       "    </tr>\n",
       "    <tr>\n",
       "      <th>2018-04-05 08:00:00</th>\n",
       "      <td>2</td>\n",
       "      <td>wrfout_d03_2018-04-05_07:30:00</td>\n",
       "      <td>d03</td>\n",
       "      <td>../tucu-april-rm-data/WRF/wrfout_d03_2018-04-0...</td>\n",
       "    </tr>\n",
       "    <tr>\n",
       "      <th>2018-04-05 08:15:00</th>\n",
       "      <td>3</td>\n",
       "      <td>wrfout_d03_2018-04-05_07:30:00</td>\n",
       "      <td>d03</td>\n",
       "      <td>../tucu-april-rm-data/WRF/wrfout_d03_2018-04-0...</td>\n",
       "    </tr>\n",
       "    <tr>\n",
       "      <th>2018-04-05 08:30:00</th>\n",
       "      <td>4</td>\n",
       "      <td>wrfout_d03_2018-04-05_07:30:00</td>\n",
       "      <td>d03</td>\n",
       "      <td>../tucu-april-rm-data/WRF/wrfout_d03_2018-04-0...</td>\n",
       "    </tr>\n",
       "    <tr>\n",
       "      <th>2018-04-05 08:45:00</th>\n",
       "      <td>5</td>\n",
       "      <td>wrfout_d03_2018-04-05_07:30:00</td>\n",
       "      <td>d03</td>\n",
       "      <td>../tucu-april-rm-data/WRF/wrfout_d03_2018-04-0...</td>\n",
       "    </tr>\n",
       "    <tr>\n",
       "      <th>2018-04-05 09:00:00</th>\n",
       "      <td>0</td>\n",
       "      <td>wrfout_d03_2018-04-05_09:00:00</td>\n",
       "      <td>d03</td>\n",
       "      <td>../tucu-april-rm-data/WRF/wrfout_d03_2018-04-0...</td>\n",
       "    </tr>\n",
       "    <tr>\n",
       "      <th>2018-04-05 09:15:00</th>\n",
       "      <td>1</td>\n",
       "      <td>wrfout_d03_2018-04-05_09:00:00</td>\n",
       "      <td>d03</td>\n",
       "      <td>../tucu-april-rm-data/WRF/wrfout_d03_2018-04-0...</td>\n",
       "    </tr>\n",
       "    <tr>\n",
       "      <th>2018-04-05 09:30:00</th>\n",
       "      <td>2</td>\n",
       "      <td>wrfout_d03_2018-04-05_09:00:00</td>\n",
       "      <td>d03</td>\n",
       "      <td>../tucu-april-rm-data/WRF/wrfout_d03_2018-04-0...</td>\n",
       "    </tr>\n",
       "    <tr>\n",
       "      <th>2018-04-05 09:45:00</th>\n",
       "      <td>3</td>\n",
       "      <td>wrfout_d03_2018-04-05_09:00:00</td>\n",
       "      <td>d03</td>\n",
       "      <td>../tucu-april-rm-data/WRF/wrfout_d03_2018-04-0...</td>\n",
       "    </tr>\n",
       "    <tr>\n",
       "      <th>2018-04-05 10:00:00</th>\n",
       "      <td>4</td>\n",
       "      <td>wrfout_d03_2018-04-05_09:00:00</td>\n",
       "      <td>d03</td>\n",
       "      <td>../tucu-april-rm-data/WRF/wrfout_d03_2018-04-0...</td>\n",
       "    </tr>\n",
       "    <tr>\n",
       "      <th>2018-04-05 10:15:00</th>\n",
       "      <td>5</td>\n",
       "      <td>wrfout_d03_2018-04-05_09:00:00</td>\n",
       "      <td>d03</td>\n",
       "      <td>../tucu-april-rm-data/WRF/wrfout_d03_2018-04-0...</td>\n",
       "    </tr>\n",
       "    <tr>\n",
       "      <th>2018-04-05 10:30:00</th>\n",
       "      <td>0</td>\n",
       "      <td>wrfout_d03_2018-04-05_10:30:00</td>\n",
       "      <td>d03</td>\n",
       "      <td>../tucu-april-rm-data/WRF/wrfout_d03_2018-04-0...</td>\n",
       "    </tr>\n",
       "    <tr>\n",
       "      <th>2018-04-05 10:45:00</th>\n",
       "      <td>1</td>\n",
       "      <td>wrfout_d03_2018-04-05_10:30:00</td>\n",
       "      <td>d03</td>\n",
       "      <td>../tucu-april-rm-data/WRF/wrfout_d03_2018-04-0...</td>\n",
       "    </tr>\n",
       "    <tr>\n",
       "      <th>2018-04-05 11:00:00</th>\n",
       "      <td>2</td>\n",
       "      <td>wrfout_d03_2018-04-05_10:30:00</td>\n",
       "      <td>d03</td>\n",
       "      <td>../tucu-april-rm-data/WRF/wrfout_d03_2018-04-0...</td>\n",
       "    </tr>\n",
       "    <tr>\n",
       "      <th>2018-04-05 11:15:00</th>\n",
       "      <td>3</td>\n",
       "      <td>wrfout_d03_2018-04-05_10:30:00</td>\n",
       "      <td>d03</td>\n",
       "      <td>../tucu-april-rm-data/WRF/wrfout_d03_2018-04-0...</td>\n",
       "    </tr>\n",
       "    <tr>\n",
       "      <th>2018-04-05 11:30:00</th>\n",
       "      <td>4</td>\n",
       "      <td>wrfout_d03_2018-04-05_10:30:00</td>\n",
       "      <td>d03</td>\n",
       "      <td>../tucu-april-rm-data/WRF/wrfout_d03_2018-04-0...</td>\n",
       "    </tr>\n",
       "    <tr>\n",
       "      <th>2018-04-05 11:45:00</th>\n",
       "      <td>5</td>\n",
       "      <td>wrfout_d03_2018-04-05_10:30:00</td>\n",
       "      <td>d03</td>\n",
       "      <td>../tucu-april-rm-data/WRF/wrfout_d03_2018-04-0...</td>\n",
       "    </tr>\n",
       "    <tr>\n",
       "      <th>2018-04-05 12:00:00</th>\n",
       "      <td>0</td>\n",
       "      <td>wrfout_d03_2018-04-05_12:00:00</td>\n",
       "      <td>d03</td>\n",
       "      <td>../tucu-april-rm-data/WRF/wrfout_d03_2018-04-0...</td>\n",
       "    </tr>\n",
       "    <tr>\n",
       "      <th>2018-04-05 12:15:00</th>\n",
       "      <td>1</td>\n",
       "      <td>wrfout_d03_2018-04-05_12:00:00</td>\n",
       "      <td>d03</td>\n",
       "      <td>../tucu-april-rm-data/WRF/wrfout_d03_2018-04-0...</td>\n",
       "    </tr>\n",
       "    <tr>\n",
       "      <th>2018-04-05 12:30:00</th>\n",
       "      <td>2</td>\n",
       "      <td>wrfout_d03_2018-04-05_12:00:00</td>\n",
       "      <td>d03</td>\n",
       "      <td>../tucu-april-rm-data/WRF/wrfout_d03_2018-04-0...</td>\n",
       "    </tr>\n",
       "    <tr>\n",
       "      <th>2018-04-05 12:45:00</th>\n",
       "      <td>3</td>\n",
       "      <td>wrfout_d03_2018-04-05_12:00:00</td>\n",
       "      <td>d03</td>\n",
       "      <td>../tucu-april-rm-data/WRF/wrfout_d03_2018-04-0...</td>\n",
       "    </tr>\n",
       "    <tr>\n",
       "      <th>2018-04-05 13:00:00</th>\n",
       "      <td>4</td>\n",
       "      <td>wrfout_d03_2018-04-05_12:00:00</td>\n",
       "      <td>d03</td>\n",
       "      <td>../tucu-april-rm-data/WRF/wrfout_d03_2018-04-0...</td>\n",
       "    </tr>\n",
       "    <tr>\n",
       "      <th>2018-04-05 13:15:00</th>\n",
       "      <td>5</td>\n",
       "      <td>wrfout_d03_2018-04-05_12:00:00</td>\n",
       "      <td>d03</td>\n",
       "      <td>../tucu-april-rm-data/WRF/wrfout_d03_2018-04-0...</td>\n",
       "    </tr>\n",
       "    <tr>\n",
       "      <th>...</th>\n",
       "      <td>...</td>\n",
       "      <td>...</td>\n",
       "      <td>...</td>\n",
       "      <td>...</td>\n",
       "    </tr>\n",
       "    <tr>\n",
       "      <th>2018-04-07 22:45:00</th>\n",
       "      <td>1</td>\n",
       "      <td>wrfout_d03_2018-04-07_22:30:00</td>\n",
       "      <td>d03</td>\n",
       "      <td>../tucu-april-rm-data/WRF/wrfout_d03_2018-04-0...</td>\n",
       "    </tr>\n",
       "    <tr>\n",
       "      <th>2018-04-07 23:00:00</th>\n",
       "      <td>2</td>\n",
       "      <td>wrfout_d03_2018-04-07_22:30:00</td>\n",
       "      <td>d03</td>\n",
       "      <td>../tucu-april-rm-data/WRF/wrfout_d03_2018-04-0...</td>\n",
       "    </tr>\n",
       "    <tr>\n",
       "      <th>2018-04-07 23:15:00</th>\n",
       "      <td>3</td>\n",
       "      <td>wrfout_d03_2018-04-07_22:30:00</td>\n",
       "      <td>d03</td>\n",
       "      <td>../tucu-april-rm-data/WRF/wrfout_d03_2018-04-0...</td>\n",
       "    </tr>\n",
       "    <tr>\n",
       "      <th>2018-04-07 23:30:00</th>\n",
       "      <td>4</td>\n",
       "      <td>wrfout_d03_2018-04-07_22:30:00</td>\n",
       "      <td>d03</td>\n",
       "      <td>../tucu-april-rm-data/WRF/wrfout_d03_2018-04-0...</td>\n",
       "    </tr>\n",
       "    <tr>\n",
       "      <th>2018-04-07 23:45:00</th>\n",
       "      <td>5</td>\n",
       "      <td>wrfout_d03_2018-04-07_22:30:00</td>\n",
       "      <td>d03</td>\n",
       "      <td>../tucu-april-rm-data/WRF/wrfout_d03_2018-04-0...</td>\n",
       "    </tr>\n",
       "    <tr>\n",
       "      <th>2018-04-08 00:00:00</th>\n",
       "      <td>0</td>\n",
       "      <td>wrfout_d03_2018-04-08_00:00:00</td>\n",
       "      <td>d03</td>\n",
       "      <td>../tucu-april-rm-data/WRF/wrfout_d03_2018-04-0...</td>\n",
       "    </tr>\n",
       "    <tr>\n",
       "      <th>2018-04-08 00:15:00</th>\n",
       "      <td>1</td>\n",
       "      <td>wrfout_d03_2018-04-08_00:00:00</td>\n",
       "      <td>d03</td>\n",
       "      <td>../tucu-april-rm-data/WRF/wrfout_d03_2018-04-0...</td>\n",
       "    </tr>\n",
       "    <tr>\n",
       "      <th>2018-04-08 00:30:00</th>\n",
       "      <td>2</td>\n",
       "      <td>wrfout_d03_2018-04-08_00:00:00</td>\n",
       "      <td>d03</td>\n",
       "      <td>../tucu-april-rm-data/WRF/wrfout_d03_2018-04-0...</td>\n",
       "    </tr>\n",
       "    <tr>\n",
       "      <th>2018-04-08 00:45:00</th>\n",
       "      <td>3</td>\n",
       "      <td>wrfout_d03_2018-04-08_00:00:00</td>\n",
       "      <td>d03</td>\n",
       "      <td>../tucu-april-rm-data/WRF/wrfout_d03_2018-04-0...</td>\n",
       "    </tr>\n",
       "    <tr>\n",
       "      <th>2018-04-08 01:00:00</th>\n",
       "      <td>4</td>\n",
       "      <td>wrfout_d03_2018-04-08_00:00:00</td>\n",
       "      <td>d03</td>\n",
       "      <td>../tucu-april-rm-data/WRF/wrfout_d03_2018-04-0...</td>\n",
       "    </tr>\n",
       "    <tr>\n",
       "      <th>2018-04-08 01:15:00</th>\n",
       "      <td>5</td>\n",
       "      <td>wrfout_d03_2018-04-08_00:00:00</td>\n",
       "      <td>d03</td>\n",
       "      <td>../tucu-april-rm-data/WRF/wrfout_d03_2018-04-0...</td>\n",
       "    </tr>\n",
       "    <tr>\n",
       "      <th>2018-04-08 01:30:00</th>\n",
       "      <td>0</td>\n",
       "      <td>wrfout_d03_2018-04-08_01:30:00</td>\n",
       "      <td>d03</td>\n",
       "      <td>../tucu-april-rm-data/WRF/wrfout_d03_2018-04-0...</td>\n",
       "    </tr>\n",
       "    <tr>\n",
       "      <th>2018-04-08 01:45:00</th>\n",
       "      <td>1</td>\n",
       "      <td>wrfout_d03_2018-04-08_01:30:00</td>\n",
       "      <td>d03</td>\n",
       "      <td>../tucu-april-rm-data/WRF/wrfout_d03_2018-04-0...</td>\n",
       "    </tr>\n",
       "    <tr>\n",
       "      <th>2018-04-08 02:00:00</th>\n",
       "      <td>2</td>\n",
       "      <td>wrfout_d03_2018-04-08_01:30:00</td>\n",
       "      <td>d03</td>\n",
       "      <td>../tucu-april-rm-data/WRF/wrfout_d03_2018-04-0...</td>\n",
       "    </tr>\n",
       "    <tr>\n",
       "      <th>2018-04-08 02:15:00</th>\n",
       "      <td>3</td>\n",
       "      <td>wrfout_d03_2018-04-08_01:30:00</td>\n",
       "      <td>d03</td>\n",
       "      <td>../tucu-april-rm-data/WRF/wrfout_d03_2018-04-0...</td>\n",
       "    </tr>\n",
       "    <tr>\n",
       "      <th>2018-04-08 02:30:00</th>\n",
       "      <td>4</td>\n",
       "      <td>wrfout_d03_2018-04-08_01:30:00</td>\n",
       "      <td>d03</td>\n",
       "      <td>../tucu-april-rm-data/WRF/wrfout_d03_2018-04-0...</td>\n",
       "    </tr>\n",
       "    <tr>\n",
       "      <th>2018-04-08 02:45:00</th>\n",
       "      <td>5</td>\n",
       "      <td>wrfout_d03_2018-04-08_01:30:00</td>\n",
       "      <td>d03</td>\n",
       "      <td>../tucu-april-rm-data/WRF/wrfout_d03_2018-04-0...</td>\n",
       "    </tr>\n",
       "    <tr>\n",
       "      <th>2018-04-08 03:00:00</th>\n",
       "      <td>0</td>\n",
       "      <td>wrfout_d03_2018-04-08_03:00:00</td>\n",
       "      <td>d03</td>\n",
       "      <td>../tucu-april-rm-data/WRF/wrfout_d03_2018-04-0...</td>\n",
       "    </tr>\n",
       "    <tr>\n",
       "      <th>2018-04-08 03:15:00</th>\n",
       "      <td>1</td>\n",
       "      <td>wrfout_d03_2018-04-08_03:00:00</td>\n",
       "      <td>d03</td>\n",
       "      <td>../tucu-april-rm-data/WRF/wrfout_d03_2018-04-0...</td>\n",
       "    </tr>\n",
       "    <tr>\n",
       "      <th>2018-04-08 03:30:00</th>\n",
       "      <td>2</td>\n",
       "      <td>wrfout_d03_2018-04-08_03:00:00</td>\n",
       "      <td>d03</td>\n",
       "      <td>../tucu-april-rm-data/WRF/wrfout_d03_2018-04-0...</td>\n",
       "    </tr>\n",
       "    <tr>\n",
       "      <th>2018-04-08 03:45:00</th>\n",
       "      <td>3</td>\n",
       "      <td>wrfout_d03_2018-04-08_03:00:00</td>\n",
       "      <td>d03</td>\n",
       "      <td>../tucu-april-rm-data/WRF/wrfout_d03_2018-04-0...</td>\n",
       "    </tr>\n",
       "    <tr>\n",
       "      <th>2018-04-08 04:00:00</th>\n",
       "      <td>4</td>\n",
       "      <td>wrfout_d03_2018-04-08_03:00:00</td>\n",
       "      <td>d03</td>\n",
       "      <td>../tucu-april-rm-data/WRF/wrfout_d03_2018-04-0...</td>\n",
       "    </tr>\n",
       "    <tr>\n",
       "      <th>2018-04-08 04:15:00</th>\n",
       "      <td>5</td>\n",
       "      <td>wrfout_d03_2018-04-08_03:00:00</td>\n",
       "      <td>d03</td>\n",
       "      <td>../tucu-april-rm-data/WRF/wrfout_d03_2018-04-0...</td>\n",
       "    </tr>\n",
       "    <tr>\n",
       "      <th>2018-04-08 04:30:00</th>\n",
       "      <td>0</td>\n",
       "      <td>wrfout_d03_2018-04-08_04:30:00</td>\n",
       "      <td>d03</td>\n",
       "      <td>../tucu-april-rm-data/WRF/wrfout_d03_2018-04-0...</td>\n",
       "    </tr>\n",
       "    <tr>\n",
       "      <th>2018-04-08 04:45:00</th>\n",
       "      <td>1</td>\n",
       "      <td>wrfout_d03_2018-04-08_04:30:00</td>\n",
       "      <td>d03</td>\n",
       "      <td>../tucu-april-rm-data/WRF/wrfout_d03_2018-04-0...</td>\n",
       "    </tr>\n",
       "    <tr>\n",
       "      <th>2018-04-08 05:00:00</th>\n",
       "      <td>2</td>\n",
       "      <td>wrfout_d03_2018-04-08_04:30:00</td>\n",
       "      <td>d03</td>\n",
       "      <td>../tucu-april-rm-data/WRF/wrfout_d03_2018-04-0...</td>\n",
       "    </tr>\n",
       "    <tr>\n",
       "      <th>2018-04-08 05:15:00</th>\n",
       "      <td>3</td>\n",
       "      <td>wrfout_d03_2018-04-08_04:30:00</td>\n",
       "      <td>d03</td>\n",
       "      <td>../tucu-april-rm-data/WRF/wrfout_d03_2018-04-0...</td>\n",
       "    </tr>\n",
       "    <tr>\n",
       "      <th>2018-04-08 05:30:00</th>\n",
       "      <td>4</td>\n",
       "      <td>wrfout_d03_2018-04-08_04:30:00</td>\n",
       "      <td>d03</td>\n",
       "      <td>../tucu-april-rm-data/WRF/wrfout_d03_2018-04-0...</td>\n",
       "    </tr>\n",
       "    <tr>\n",
       "      <th>2018-04-08 05:45:00</th>\n",
       "      <td>5</td>\n",
       "      <td>wrfout_d03_2018-04-08_04:30:00</td>\n",
       "      <td>d03</td>\n",
       "      <td>../tucu-april-rm-data/WRF/wrfout_d03_2018-04-0...</td>\n",
       "    </tr>\n",
       "    <tr>\n",
       "      <th>2018-04-08 06:00:00</th>\n",
       "      <td>0</td>\n",
       "      <td>wrfout_d03_2018-04-08_06:00:00</td>\n",
       "      <td>d03</td>\n",
       "      <td>../tucu-april-rm-data/WRF/wrfout_d03_2018-04-0...</td>\n",
       "    </tr>\n",
       "  </tbody>\n",
       "</table>\n",
       "<p>289 rows × 4 columns</p>\n",
       "</div>"
      ],
      "text/plain": [
       "                     wrf_index                            name  dom  \\\n",
       "date                                                                  \n",
       "2018-04-05 06:00:00          0  wrfout_d03_2018-04-05_06:00:00  d03   \n",
       "2018-04-05 06:15:00          1  wrfout_d03_2018-04-05_06:00:00  d03   \n",
       "2018-04-05 06:30:00          2  wrfout_d03_2018-04-05_06:00:00  d03   \n",
       "2018-04-05 06:45:00          3  wrfout_d03_2018-04-05_06:00:00  d03   \n",
       "2018-04-05 07:00:00          4  wrfout_d03_2018-04-05_06:00:00  d03   \n",
       "2018-04-05 07:15:00          5  wrfout_d03_2018-04-05_06:00:00  d03   \n",
       "2018-04-05 07:30:00          0  wrfout_d03_2018-04-05_07:30:00  d03   \n",
       "2018-04-05 07:45:00          1  wrfout_d03_2018-04-05_07:30:00  d03   \n",
       "2018-04-05 08:00:00          2  wrfout_d03_2018-04-05_07:30:00  d03   \n",
       "2018-04-05 08:15:00          3  wrfout_d03_2018-04-05_07:30:00  d03   \n",
       "2018-04-05 08:30:00          4  wrfout_d03_2018-04-05_07:30:00  d03   \n",
       "2018-04-05 08:45:00          5  wrfout_d03_2018-04-05_07:30:00  d03   \n",
       "2018-04-05 09:00:00          0  wrfout_d03_2018-04-05_09:00:00  d03   \n",
       "2018-04-05 09:15:00          1  wrfout_d03_2018-04-05_09:00:00  d03   \n",
       "2018-04-05 09:30:00          2  wrfout_d03_2018-04-05_09:00:00  d03   \n",
       "2018-04-05 09:45:00          3  wrfout_d03_2018-04-05_09:00:00  d03   \n",
       "2018-04-05 10:00:00          4  wrfout_d03_2018-04-05_09:00:00  d03   \n",
       "2018-04-05 10:15:00          5  wrfout_d03_2018-04-05_09:00:00  d03   \n",
       "2018-04-05 10:30:00          0  wrfout_d03_2018-04-05_10:30:00  d03   \n",
       "2018-04-05 10:45:00          1  wrfout_d03_2018-04-05_10:30:00  d03   \n",
       "2018-04-05 11:00:00          2  wrfout_d03_2018-04-05_10:30:00  d03   \n",
       "2018-04-05 11:15:00          3  wrfout_d03_2018-04-05_10:30:00  d03   \n",
       "2018-04-05 11:30:00          4  wrfout_d03_2018-04-05_10:30:00  d03   \n",
       "2018-04-05 11:45:00          5  wrfout_d03_2018-04-05_10:30:00  d03   \n",
       "2018-04-05 12:00:00          0  wrfout_d03_2018-04-05_12:00:00  d03   \n",
       "2018-04-05 12:15:00          1  wrfout_d03_2018-04-05_12:00:00  d03   \n",
       "2018-04-05 12:30:00          2  wrfout_d03_2018-04-05_12:00:00  d03   \n",
       "2018-04-05 12:45:00          3  wrfout_d03_2018-04-05_12:00:00  d03   \n",
       "2018-04-05 13:00:00          4  wrfout_d03_2018-04-05_12:00:00  d03   \n",
       "2018-04-05 13:15:00          5  wrfout_d03_2018-04-05_12:00:00  d03   \n",
       "...                        ...                             ...  ...   \n",
       "2018-04-07 22:45:00          1  wrfout_d03_2018-04-07_22:30:00  d03   \n",
       "2018-04-07 23:00:00          2  wrfout_d03_2018-04-07_22:30:00  d03   \n",
       "2018-04-07 23:15:00          3  wrfout_d03_2018-04-07_22:30:00  d03   \n",
       "2018-04-07 23:30:00          4  wrfout_d03_2018-04-07_22:30:00  d03   \n",
       "2018-04-07 23:45:00          5  wrfout_d03_2018-04-07_22:30:00  d03   \n",
       "2018-04-08 00:00:00          0  wrfout_d03_2018-04-08_00:00:00  d03   \n",
       "2018-04-08 00:15:00          1  wrfout_d03_2018-04-08_00:00:00  d03   \n",
       "2018-04-08 00:30:00          2  wrfout_d03_2018-04-08_00:00:00  d03   \n",
       "2018-04-08 00:45:00          3  wrfout_d03_2018-04-08_00:00:00  d03   \n",
       "2018-04-08 01:00:00          4  wrfout_d03_2018-04-08_00:00:00  d03   \n",
       "2018-04-08 01:15:00          5  wrfout_d03_2018-04-08_00:00:00  d03   \n",
       "2018-04-08 01:30:00          0  wrfout_d03_2018-04-08_01:30:00  d03   \n",
       "2018-04-08 01:45:00          1  wrfout_d03_2018-04-08_01:30:00  d03   \n",
       "2018-04-08 02:00:00          2  wrfout_d03_2018-04-08_01:30:00  d03   \n",
       "2018-04-08 02:15:00          3  wrfout_d03_2018-04-08_01:30:00  d03   \n",
       "2018-04-08 02:30:00          4  wrfout_d03_2018-04-08_01:30:00  d03   \n",
       "2018-04-08 02:45:00          5  wrfout_d03_2018-04-08_01:30:00  d03   \n",
       "2018-04-08 03:00:00          0  wrfout_d03_2018-04-08_03:00:00  d03   \n",
       "2018-04-08 03:15:00          1  wrfout_d03_2018-04-08_03:00:00  d03   \n",
       "2018-04-08 03:30:00          2  wrfout_d03_2018-04-08_03:00:00  d03   \n",
       "2018-04-08 03:45:00          3  wrfout_d03_2018-04-08_03:00:00  d03   \n",
       "2018-04-08 04:00:00          4  wrfout_d03_2018-04-08_03:00:00  d03   \n",
       "2018-04-08 04:15:00          5  wrfout_d03_2018-04-08_03:00:00  d03   \n",
       "2018-04-08 04:30:00          0  wrfout_d03_2018-04-08_04:30:00  d03   \n",
       "2018-04-08 04:45:00          1  wrfout_d03_2018-04-08_04:30:00  d03   \n",
       "2018-04-08 05:00:00          2  wrfout_d03_2018-04-08_04:30:00  d03   \n",
       "2018-04-08 05:15:00          3  wrfout_d03_2018-04-08_04:30:00  d03   \n",
       "2018-04-08 05:30:00          4  wrfout_d03_2018-04-08_04:30:00  d03   \n",
       "2018-04-08 05:45:00          5  wrfout_d03_2018-04-08_04:30:00  d03   \n",
       "2018-04-08 06:00:00          0  wrfout_d03_2018-04-08_06:00:00  d03   \n",
       "\n",
       "                                                                  path  \n",
       "date                                                                    \n",
       "2018-04-05 06:00:00  ../tucu-april-rm-data/WRF/wrfout_d03_2018-04-0...  \n",
       "2018-04-05 06:15:00  ../tucu-april-rm-data/WRF/wrfout_d03_2018-04-0...  \n",
       "2018-04-05 06:30:00  ../tucu-april-rm-data/WRF/wrfout_d03_2018-04-0...  \n",
       "2018-04-05 06:45:00  ../tucu-april-rm-data/WRF/wrfout_d03_2018-04-0...  \n",
       "2018-04-05 07:00:00  ../tucu-april-rm-data/WRF/wrfout_d03_2018-04-0...  \n",
       "2018-04-05 07:15:00  ../tucu-april-rm-data/WRF/wrfout_d03_2018-04-0...  \n",
       "2018-04-05 07:30:00  ../tucu-april-rm-data/WRF/wrfout_d03_2018-04-0...  \n",
       "2018-04-05 07:45:00  ../tucu-april-rm-data/WRF/wrfout_d03_2018-04-0...  \n",
       "2018-04-05 08:00:00  ../tucu-april-rm-data/WRF/wrfout_d03_2018-04-0...  \n",
       "2018-04-05 08:15:00  ../tucu-april-rm-data/WRF/wrfout_d03_2018-04-0...  \n",
       "2018-04-05 08:30:00  ../tucu-april-rm-data/WRF/wrfout_d03_2018-04-0...  \n",
       "2018-04-05 08:45:00  ../tucu-april-rm-data/WRF/wrfout_d03_2018-04-0...  \n",
       "2018-04-05 09:00:00  ../tucu-april-rm-data/WRF/wrfout_d03_2018-04-0...  \n",
       "2018-04-05 09:15:00  ../tucu-april-rm-data/WRF/wrfout_d03_2018-04-0...  \n",
       "2018-04-05 09:30:00  ../tucu-april-rm-data/WRF/wrfout_d03_2018-04-0...  \n",
       "2018-04-05 09:45:00  ../tucu-april-rm-data/WRF/wrfout_d03_2018-04-0...  \n",
       "2018-04-05 10:00:00  ../tucu-april-rm-data/WRF/wrfout_d03_2018-04-0...  \n",
       "2018-04-05 10:15:00  ../tucu-april-rm-data/WRF/wrfout_d03_2018-04-0...  \n",
       "2018-04-05 10:30:00  ../tucu-april-rm-data/WRF/wrfout_d03_2018-04-0...  \n",
       "2018-04-05 10:45:00  ../tucu-april-rm-data/WRF/wrfout_d03_2018-04-0...  \n",
       "2018-04-05 11:00:00  ../tucu-april-rm-data/WRF/wrfout_d03_2018-04-0...  \n",
       "2018-04-05 11:15:00  ../tucu-april-rm-data/WRF/wrfout_d03_2018-04-0...  \n",
       "2018-04-05 11:30:00  ../tucu-april-rm-data/WRF/wrfout_d03_2018-04-0...  \n",
       "2018-04-05 11:45:00  ../tucu-april-rm-data/WRF/wrfout_d03_2018-04-0...  \n",
       "2018-04-05 12:00:00  ../tucu-april-rm-data/WRF/wrfout_d03_2018-04-0...  \n",
       "2018-04-05 12:15:00  ../tucu-april-rm-data/WRF/wrfout_d03_2018-04-0...  \n",
       "2018-04-05 12:30:00  ../tucu-april-rm-data/WRF/wrfout_d03_2018-04-0...  \n",
       "2018-04-05 12:45:00  ../tucu-april-rm-data/WRF/wrfout_d03_2018-04-0...  \n",
       "2018-04-05 13:00:00  ../tucu-april-rm-data/WRF/wrfout_d03_2018-04-0...  \n",
       "2018-04-05 13:15:00  ../tucu-april-rm-data/WRF/wrfout_d03_2018-04-0...  \n",
       "...                                                                ...  \n",
       "2018-04-07 22:45:00  ../tucu-april-rm-data/WRF/wrfout_d03_2018-04-0...  \n",
       "2018-04-07 23:00:00  ../tucu-april-rm-data/WRF/wrfout_d03_2018-04-0...  \n",
       "2018-04-07 23:15:00  ../tucu-april-rm-data/WRF/wrfout_d03_2018-04-0...  \n",
       "2018-04-07 23:30:00  ../tucu-april-rm-data/WRF/wrfout_d03_2018-04-0...  \n",
       "2018-04-07 23:45:00  ../tucu-april-rm-data/WRF/wrfout_d03_2018-04-0...  \n",
       "2018-04-08 00:00:00  ../tucu-april-rm-data/WRF/wrfout_d03_2018-04-0...  \n",
       "2018-04-08 00:15:00  ../tucu-april-rm-data/WRF/wrfout_d03_2018-04-0...  \n",
       "2018-04-08 00:30:00  ../tucu-april-rm-data/WRF/wrfout_d03_2018-04-0...  \n",
       "2018-04-08 00:45:00  ../tucu-april-rm-data/WRF/wrfout_d03_2018-04-0...  \n",
       "2018-04-08 01:00:00  ../tucu-april-rm-data/WRF/wrfout_d03_2018-04-0...  \n",
       "2018-04-08 01:15:00  ../tucu-april-rm-data/WRF/wrfout_d03_2018-04-0...  \n",
       "2018-04-08 01:30:00  ../tucu-april-rm-data/WRF/wrfout_d03_2018-04-0...  \n",
       "2018-04-08 01:45:00  ../tucu-april-rm-data/WRF/wrfout_d03_2018-04-0...  \n",
       "2018-04-08 02:00:00  ../tucu-april-rm-data/WRF/wrfout_d03_2018-04-0...  \n",
       "2018-04-08 02:15:00  ../tucu-april-rm-data/WRF/wrfout_d03_2018-04-0...  \n",
       "2018-04-08 02:30:00  ../tucu-april-rm-data/WRF/wrfout_d03_2018-04-0...  \n",
       "2018-04-08 02:45:00  ../tucu-april-rm-data/WRF/wrfout_d03_2018-04-0...  \n",
       "2018-04-08 03:00:00  ../tucu-april-rm-data/WRF/wrfout_d03_2018-04-0...  \n",
       "2018-04-08 03:15:00  ../tucu-april-rm-data/WRF/wrfout_d03_2018-04-0...  \n",
       "2018-04-08 03:30:00  ../tucu-april-rm-data/WRF/wrfout_d03_2018-04-0...  \n",
       "2018-04-08 03:45:00  ../tucu-april-rm-data/WRF/wrfout_d03_2018-04-0...  \n",
       "2018-04-08 04:00:00  ../tucu-april-rm-data/WRF/wrfout_d03_2018-04-0...  \n",
       "2018-04-08 04:15:00  ../tucu-april-rm-data/WRF/wrfout_d03_2018-04-0...  \n",
       "2018-04-08 04:30:00  ../tucu-april-rm-data/WRF/wrfout_d03_2018-04-0...  \n",
       "2018-04-08 04:45:00  ../tucu-april-rm-data/WRF/wrfout_d03_2018-04-0...  \n",
       "2018-04-08 05:00:00  ../tucu-april-rm-data/WRF/wrfout_d03_2018-04-0...  \n",
       "2018-04-08 05:15:00  ../tucu-april-rm-data/WRF/wrfout_d03_2018-04-0...  \n",
       "2018-04-08 05:30:00  ../tucu-april-rm-data/WRF/wrfout_d03_2018-04-0...  \n",
       "2018-04-08 05:45:00  ../tucu-april-rm-data/WRF/wrfout_d03_2018-04-0...  \n",
       "2018-04-08 06:00:00  ../tucu-april-rm-data/WRF/wrfout_d03_2018-04-0...  \n",
       "\n",
       "[289 rows x 4 columns]"
      ]
     },
     "execution_count": 6,
     "metadata": {},
     "output_type": "execute_result"
    }
   ],
   "source": [
    "mega_l['d03']"
   ]
  },
  {
   "cell_type": "code",
   "execution_count": 8,
   "metadata": {},
   "outputs": [],
   "source": [
    "mega_list=mega_l['d04']"
   ]
  },
  {
   "cell_type": "code",
   "execution_count": 9,
   "metadata": {},
   "outputs": [
    {
     "data": {
      "text/html": [
       "<div>\n",
       "<style scoped>\n",
       "    .dataframe tbody tr th:only-of-type {\n",
       "        vertical-align: middle;\n",
       "    }\n",
       "\n",
       "    .dataframe tbody tr th {\n",
       "        vertical-align: top;\n",
       "    }\n",
       "\n",
       "    .dataframe thead th {\n",
       "        text-align: right;\n",
       "    }\n",
       "</style>\n",
       "<table border=\"1\" class=\"dataframe\">\n",
       "  <thead>\n",
       "    <tr style=\"text-align: right;\">\n",
       "      <th></th>\n",
       "      <th>wrf_index</th>\n",
       "      <th>name</th>\n",
       "      <th>dom</th>\n",
       "      <th>path</th>\n",
       "    </tr>\n",
       "    <tr>\n",
       "      <th>date</th>\n",
       "      <th></th>\n",
       "      <th></th>\n",
       "      <th></th>\n",
       "      <th></th>\n",
       "    </tr>\n",
       "  </thead>\n",
       "  <tbody>\n",
       "    <tr>\n",
       "      <th>2018-04-06 00:30:00</th>\n",
       "      <td>2</td>\n",
       "      <td>wrfout_d04_2018-04-06_00:00:00</td>\n",
       "      <td>d04</td>\n",
       "      <td>../tucu-april-rm-data/WRF/wrfout_d04_2018-04-0...</td>\n",
       "    </tr>\n",
       "    <tr>\n",
       "      <th>2018-04-07 03:30:00</th>\n",
       "      <td>2</td>\n",
       "      <td>wrfout_d04_2018-04-07_03:00:00</td>\n",
       "      <td>d04</td>\n",
       "      <td>../tucu-april-rm-data/WRF/wrfout_d04_2018-04-0...</td>\n",
       "    </tr>\n",
       "  </tbody>\n",
       "</table>\n",
       "</div>"
      ],
      "text/plain": [
       "                     wrf_index                            name  dom  \\\n",
       "date                                                                  \n",
       "2018-04-06 00:30:00          2  wrfout_d04_2018-04-06_00:00:00  d04   \n",
       "2018-04-07 03:30:00          2  wrfout_d04_2018-04-07_03:00:00  d04   \n",
       "\n",
       "                                                                  path  \n",
       "date                                                                    \n",
       "2018-04-06 00:30:00  ../tucu-april-rm-data/WRF/wrfout_d04_2018-04-0...  \n",
       "2018-04-07 03:30:00  ../tucu-april-rm-data/WRF/wrfout_d04_2018-04-0...  "
      ]
     },
     "execution_count": 9,
     "metadata": {},
     "output_type": "execute_result"
    }
   ],
   "source": [
    "mega_list.sample(2)"
   ]
  },
  {
   "cell_type": "code",
   "execution_count": 10,
   "metadata": {},
   "outputs": [
    {
     "data": {
      "text/plain": [
       "<matplotlib.axes._subplots.AxesSubplot at 0x1c1ed3beb8>"
      ]
     },
     "execution_count": 10,
     "metadata": {},
     "output_type": "execute_result"
    },
    {
     "data": {
      "image/png": "[encoded data removed]",
      "text/plain": [
       "<Figure size 432x288 with 1 Axes>"
      ]
     },
     "metadata": {
      "needs_background": "light"
     },
     "output_type": "display_data"
    }
   ],
   "source": [
    "mega_list.wrf_index.plot()"
   ]
  },
  {
   "cell_type": "code",
   "execution_count": 11,
   "metadata": {
    "lines_to_next_cell": 2
   },
   "outputs": [
    {
     "data": {
      "text/plain": [
       "[<matplotlib.lines.Line2D at 0x1c1f2f0588>]"
      ]
     },
     "execution_count": 11,
     "metadata": {},
     "output_type": "execute_result"
    },
    {
     "data": {
      "image/png": "[encoded data removed]",
      "text/plain": [
       "<Figure size 432x288 with 1 Axes>"
      ]
     },
     "metadata": {
      "needs_background": "light"
     },
     "output_type": "display_data"
    }
   ],
   "source": [
    "plt.plot_date(mega_list.index,mega_list.wrf_index+1)"
   ]
  },
  {
   "cell_type": "code",
   "execution_count": 12,
   "metadata": {},
   "outputs": [
    {
     "data": {
      "text/html": [
       "<div>\n",
       "<style scoped>\n",
       "    .dataframe tbody tr th:only-of-type {\n",
       "        vertical-align: middle;\n",
       "    }\n",
       "\n",
       "    .dataframe tbody tr th {\n",
       "        vertical-align: top;\n",
       "    }\n",
       "\n",
       "    .dataframe thead th {\n",
       "        text-align: right;\n",
       "    }\n",
       "</style>\n",
       "<table border=\"1\" class=\"dataframe\">\n",
       "  <thead>\n",
       "    <tr style=\"text-align: right;\">\n",
       "      <th></th>\n",
       "      <th>wrf_index</th>\n",
       "      <th>name</th>\n",
       "      <th>dom</th>\n",
       "      <th>path</th>\n",
       "    </tr>\n",
       "    <tr>\n",
       "      <th>date</th>\n",
       "      <th></th>\n",
       "      <th></th>\n",
       "      <th></th>\n",
       "      <th></th>\n",
       "    </tr>\n",
       "  </thead>\n",
       "  <tbody>\n",
       "    <tr>\n",
       "      <th>2018-04-07 22:30:00</th>\n",
       "      <td>0</td>\n",
       "      <td>wrfout_d04_2018-04-07_22:30:00</td>\n",
       "      <td>d04</td>\n",
       "      <td>../tucu-april-rm-data/WRF/wrfout_d04_2018-04-0...</td>\n",
       "    </tr>\n",
       "  </tbody>\n",
       "</table>\n",
       "</div>"
      ],
      "text/plain": [
       "                     wrf_index                            name  dom  \\\n",
       "date                                                                  \n",
       "2018-04-07 22:30:00          0  wrfout_d04_2018-04-07_22:30:00  d04   \n",
       "\n",
       "                                                                  path  \n",
       "date                                                                    \n",
       "2018-04-07 22:30:00  ../tucu-april-rm-data/WRF/wrfout_d04_2018-04-0...  "
      ]
     },
     "execution_count": 12,
     "metadata": {},
     "output_type": "execute_result"
    }
   ],
   "source": [
    "mega_list.sample()"
   ]
  },
  {
   "cell_type": "code",
   "execution_count": 13,
   "metadata": {},
   "outputs": [],
   "source": [
    "print_var_starting_with(mega_list.iloc[0].path, \"Tsdf\")"
   ]
  },
  {
   "cell_type": "code",
   "execution_count": 14,
   "metadata": {
    "lines_to_next_cell": 2
   },
   "outputs": [
    {
     "data": {
      "text/plain": [
       "[<matplotlib.lines.Line2D at 0x1c1f350d30>]"
      ]
     },
     "execution_count": 14,
     "metadata": {},
     "output_type": "execute_result"
    },
    {
     "data": {
      "image/png": "[encoded data removed]",
      "text/plain": [
       "<Figure size 432x288 with 1 Axes>"
      ]
     },
     "metadata": {
      "needs_background": "light"
     },
     "output_type": "display_data"
    }
   ],
   "source": [
    "plt.plot_date(mega_list[::30].index,mega_list[::30].index)"
   ]
  },
  {
   "cell_type": "code",
   "execution_count": 15,
   "metadata": {
    "lines_to_next_cell": 2
   },
   "outputs": [
    {
     "data": {
      "text/plain": [
       "[<matplotlib.lines.Line2D at 0x1c1f332908>]"
      ]
     },
     "execution_count": 15,
     "metadata": {},
     "output_type": "execute_result"
    },
    {
     "data": {
      "image/png": "[encoded data removed]",
      "text/plain": [
       "<Figure size 432x288 with 1 Axes>"
      ]
     },
     "metadata": {
      "needs_background": "light"
     },
     "output_type": "display_data"
    }
   ],
   "source": [
    "plt.plot_date('date','wrf_index',data=mega_list[::30].reset_index())"
   ]
  },
  {
   "cell_type": "code",
   "execution_count": 16,
   "metadata": {
    "lines_to_next_cell": 2
   },
   "outputs": [],
   "source": [
    "def plot_from(row, fig, w, h, i):\n",
    "    path=row.path\n",
    "    idx=row.wrf_index\n",
    "\n",
    "    nc_ds = netCDF4.Dataset(path,)\n",
    "    par_name = 'tc'\n",
    "    comment = 'surface'\n",
    "    level = 0\n",
    "    wrf_diag = wrf.getvar(nc_ds, par_name, timeidx=idx)[level]\n",
    "\n",
    "    cart_proj = wrf.get_cartopy(wrf_diag)\n",
    "    ax = fig.add_subplot(w, h, i, projection=cart_proj)\n",
    "#     fig, ax = plt.subplots(subplot_kw={'projection':prog})\n",
    "#     plt.close(fig)\n",
    "    ax = wrf_plot_par(wrf_diag,ax)\n",
    "#     ax.figure\n",
    "    return ax "
   ]
  },
  {
   "cell_type": "code",
   "execution_count": 17,
   "metadata": {},
   "outputs": [
    {
     "data": {
      "text/html": [
       "<div>\n",
       "<style scoped>\n",
       "    .dataframe tbody tr th:only-of-type {\n",
       "        vertical-align: middle;\n",
       "    }\n",
       "\n",
       "    .dataframe tbody tr th {\n",
       "        vertical-align: top;\n",
       "    }\n",
       "\n",
       "    .dataframe thead th {\n",
       "        text-align: right;\n",
       "    }\n",
       "</style>\n",
       "<table border=\"1\" class=\"dataframe\">\n",
       "  <thead>\n",
       "    <tr style=\"text-align: right;\">\n",
       "      <th></th>\n",
       "      <th>wrf_index</th>\n",
       "      <th>name</th>\n",
       "      <th>dom</th>\n",
       "      <th>path</th>\n",
       "    </tr>\n",
       "    <tr>\n",
       "      <th>date</th>\n",
       "      <th></th>\n",
       "      <th></th>\n",
       "      <th></th>\n",
       "      <th></th>\n",
       "    </tr>\n",
       "  </thead>\n",
       "  <tbody>\n",
       "    <tr>\n",
       "      <th>2018-04-05 06:00:00</th>\n",
       "      <td>0</td>\n",
       "      <td>wrfout_d04_2018-04-05_06:00:00</td>\n",
       "      <td>d04</td>\n",
       "      <td>../tucu-april-rm-data/WRF/wrfout_d04_2018-04-0...</td>\n",
       "    </tr>\n",
       "    <tr>\n",
       "      <th>2018-04-05 13:30:00</th>\n",
       "      <td>0</td>\n",
       "      <td>wrfout_d04_2018-04-05_13:30:00</td>\n",
       "      <td>d04</td>\n",
       "      <td>../tucu-april-rm-data/WRF/wrfout_d04_2018-04-0...</td>\n",
       "    </tr>\n",
       "    <tr>\n",
       "      <th>2018-04-05 21:00:00</th>\n",
       "      <td>0</td>\n",
       "      <td>wrfout_d04_2018-04-05_21:00:00</td>\n",
       "      <td>d04</td>\n",
       "      <td>../tucu-april-rm-data/WRF/wrfout_d04_2018-04-0...</td>\n",
       "    </tr>\n",
       "    <tr>\n",
       "      <th>2018-04-06 04:30:00</th>\n",
       "      <td>0</td>\n",
       "      <td>wrfout_d04_2018-04-06_04:30:00</td>\n",
       "      <td>d04</td>\n",
       "      <td>../tucu-april-rm-data/WRF/wrfout_d04_2018-04-0...</td>\n",
       "    </tr>\n",
       "    <tr>\n",
       "      <th>2018-04-06 12:00:00</th>\n",
       "      <td>0</td>\n",
       "      <td>wrfout_d04_2018-04-06_12:00:00</td>\n",
       "      <td>d04</td>\n",
       "      <td>../tucu-april-rm-data/WRF/wrfout_d04_2018-04-0...</td>\n",
       "    </tr>\n",
       "    <tr>\n",
       "      <th>2018-04-06 19:30:00</th>\n",
       "      <td>0</td>\n",
       "      <td>wrfout_d04_2018-04-06_19:30:00</td>\n",
       "      <td>d04</td>\n",
       "      <td>../tucu-april-rm-data/WRF/wrfout_d04_2018-04-0...</td>\n",
       "    </tr>\n",
       "    <tr>\n",
       "      <th>2018-04-07 03:00:00</th>\n",
       "      <td>0</td>\n",
       "      <td>wrfout_d04_2018-04-07_03:00:00</td>\n",
       "      <td>d04</td>\n",
       "      <td>../tucu-april-rm-data/WRF/wrfout_d04_2018-04-0...</td>\n",
       "    </tr>\n",
       "    <tr>\n",
       "      <th>2018-04-07 10:30:00</th>\n",
       "      <td>0</td>\n",
       "      <td>wrfout_d04_2018-04-07_10:30:00</td>\n",
       "      <td>d04</td>\n",
       "      <td>../tucu-april-rm-data/WRF/wrfout_d04_2018-04-0...</td>\n",
       "    </tr>\n",
       "    <tr>\n",
       "      <th>2018-04-07 18:00:00</th>\n",
       "      <td>0</td>\n",
       "      <td>wrfout_d04_2018-04-07_18:00:00</td>\n",
       "      <td>d04</td>\n",
       "      <td>../tucu-april-rm-data/WRF/wrfout_d04_2018-04-0...</td>\n",
       "    </tr>\n",
       "    <tr>\n",
       "      <th>2018-04-08 01:30:00</th>\n",
       "      <td>0</td>\n",
       "      <td>wrfout_d04_2018-04-08_01:30:00</td>\n",
       "      <td>d04</td>\n",
       "      <td>../tucu-april-rm-data/WRF/wrfout_d04_2018-04-0...</td>\n",
       "    </tr>\n",
       "  </tbody>\n",
       "</table>\n",
       "</div>"
      ],
      "text/plain": [
       "                     wrf_index                            name  dom  \\\n",
       "date                                                                  \n",
       "2018-04-05 06:00:00          0  wrfout_d04_2018-04-05_06:00:00  d04   \n",
       "2018-04-05 13:30:00          0  wrfout_d04_2018-04-05_13:30:00  d04   \n",
       "2018-04-05 21:00:00          0  wrfout_d04_2018-04-05_21:00:00  d04   \n",
       "2018-04-06 04:30:00          0  wrfout_d04_2018-04-06_04:30:00  d04   \n",
       "2018-04-06 12:00:00          0  wrfout_d04_2018-04-06_12:00:00  d04   \n",
       "2018-04-06 19:30:00          0  wrfout_d04_2018-04-06_19:30:00  d04   \n",
       "2018-04-07 03:00:00          0  wrfout_d04_2018-04-07_03:00:00  d04   \n",
       "2018-04-07 10:30:00          0  wrfout_d04_2018-04-07_10:30:00  d04   \n",
       "2018-04-07 18:00:00          0  wrfout_d04_2018-04-07_18:00:00  d04   \n",
       "2018-04-08 01:30:00          0  wrfout_d04_2018-04-08_01:30:00  d04   \n",
       "\n",
       "                                                                  path  \n",
       "date                                                                    \n",
       "2018-04-05 06:00:00  ../tucu-april-rm-data/WRF/wrfout_d04_2018-04-0...  \n",
       "2018-04-05 13:30:00  ../tucu-april-rm-data/WRF/wrfout_d04_2018-04-0...  \n",
       "2018-04-05 21:00:00  ../tucu-april-rm-data/WRF/wrfout_d04_2018-04-0...  \n",
       "2018-04-06 04:30:00  ../tucu-april-rm-data/WRF/wrfout_d04_2018-04-0...  \n",
       "2018-04-06 12:00:00  ../tucu-april-rm-data/WRF/wrfout_d04_2018-04-0...  \n",
       "2018-04-06 19:30:00  ../tucu-april-rm-data/WRF/wrfout_d04_2018-04-0...  \n",
       "2018-04-07 03:00:00  ../tucu-april-rm-data/WRF/wrfout_d04_2018-04-0...  \n",
       "2018-04-07 10:30:00  ../tucu-april-rm-data/WRF/wrfout_d04_2018-04-0...  \n",
       "2018-04-07 18:00:00  ../tucu-april-rm-data/WRF/wrfout_d04_2018-04-0...  \n",
       "2018-04-08 01:30:00  ../tucu-april-rm-data/WRF/wrfout_d04_2018-04-0...  "
      ]
     },
     "execution_count": 17,
     "metadata": {},
     "output_type": "execute_result"
    }
   ],
   "source": [
    "mega_list.iloc[::30]"
   ]
  },
  {
   "cell_type": "code",
   "execution_count": 18,
   "metadata": {},
   "outputs": [
    {
     "data": {
      "text/plain": [
       "10"
      ]
     },
     "execution_count": 18,
     "metadata": {},
     "output_type": "execute_result"
    },
    {
     "data": {
      "text/plain": [
       "<Figure size 432x288 with 0 Axes>"
      ]
     },
     "metadata": {},
     "output_type": "display_data"
    }
   ],
   "source": [
    "fig = plt.figure()\n",
    "small_list = mega_list.iloc[::30]\n",
    "len(small_list)"
   ]
  },
  {
   "cell_type": "code",
   "execution_count": 19,
   "metadata": {},
   "outputs": [
    {
     "name": "stdout",
     "output_type": "stream",
     "text": [
      "0 done\n",
      "1 done\n",
      "2 done\n"
     ]
    },
    {
     "ename": "KeyboardInterrupt",
     "evalue": "",
     "output_type": "error",
     "traceback": [
      "\u001b[0;31m---------------------------------------------------------------------------\u001b[0m",
      "\u001b[0;31mKeyboardInterrupt\u001b[0m                         Traceback (most recent call last)",
      "\u001b[0;32m<ipython-input-19-994ca2cb81c2>\u001b[0m in \u001b[0;36m<module>\u001b[0;34m\u001b[0m\n\u001b[1;32m      1\u001b[0m \u001b[0mw\u001b[0m\u001b[0;34m,\u001b[0m \u001b[0mh\u001b[0m\u001b[0;34m,\u001b[0m \u001b[0;34m=\u001b[0m \u001b[0;36m5\u001b[0m\u001b[0;34m,\u001b[0m \u001b[0;36m5\u001b[0m\u001b[0;34m\u001b[0m\u001b[0;34m\u001b[0m\u001b[0m\n\u001b[1;32m      2\u001b[0m \u001b[0;32mfor\u001b[0m \u001b[0mi\u001b[0m\u001b[0;34m,\u001b[0m \u001b[0;34m(\u001b[0m\u001b[0mindex\u001b[0m\u001b[0;34m,\u001b[0m \u001b[0mrow\u001b[0m\u001b[0;34m)\u001b[0m \u001b[0;32min\u001b[0m \u001b[0menumerate\u001b[0m\u001b[0;34m(\u001b[0m\u001b[0msmall_list\u001b[0m\u001b[0;34m.\u001b[0m\u001b[0miterrows\u001b[0m\u001b[0;34m(\u001b[0m\u001b[0;34m)\u001b[0m\u001b[0;34m)\u001b[0m\u001b[0;34m:\u001b[0m\u001b[0;34m\u001b[0m\u001b[0;34m\u001b[0m\u001b[0m\n\u001b[0;32m----> 3\u001b[0;31m     \u001b[0max\u001b[0m \u001b[0;34m=\u001b[0m \u001b[0mplot_from\u001b[0m\u001b[0;34m(\u001b[0m\u001b[0mrow\u001b[0m\u001b[0;34m,\u001b[0m \u001b[0mfig\u001b[0m\u001b[0;34m,\u001b[0m \u001b[0mw\u001b[0m\u001b[0;34m,\u001b[0m\u001b[0mh\u001b[0m\u001b[0;34m,\u001b[0m\u001b[0mi\u001b[0m\u001b[0;34m+\u001b[0m\u001b[0;36m1\u001b[0m \u001b[0;34m)\u001b[0m\u001b[0;34m\u001b[0m\u001b[0;34m\u001b[0m\u001b[0m\n\u001b[0m\u001b[1;32m      4\u001b[0m     \u001b[0mprint\u001b[0m\u001b[0;34m(\u001b[0m\u001b[0mi\u001b[0m\u001b[0;34m,\u001b[0m\u001b[0;34m'done'\u001b[0m\u001b[0;34m)\u001b[0m\u001b[0;34m\u001b[0m\u001b[0;34m\u001b[0m\u001b[0m\n\u001b[1;32m      5\u001b[0m fig.set_size_inches(*[\n",
      "\u001b[0;32m<ipython-input-16-236729b75052>\u001b[0m in \u001b[0;36mplot_from\u001b[0;34m(row, fig, w, h, i)\u001b[0m\n\u001b[1;32m      7\u001b[0m     \u001b[0mcomment\u001b[0m \u001b[0;34m=\u001b[0m \u001b[0;34m'surface'\u001b[0m\u001b[0;34m\u001b[0m\u001b[0;34m\u001b[0m\u001b[0m\n\u001b[1;32m      8\u001b[0m     \u001b[0mlevel\u001b[0m \u001b[0;34m=\u001b[0m \u001b[0;36m0\u001b[0m\u001b[0;34m\u001b[0m\u001b[0;34m\u001b[0m\u001b[0m\n\u001b[0;32m----> 9\u001b[0;31m     \u001b[0mwrf_diag\u001b[0m \u001b[0;34m=\u001b[0m \u001b[0mwrf\u001b[0m\u001b[0;34m.\u001b[0m\u001b[0mgetvar\u001b[0m\u001b[0;34m(\u001b[0m\u001b[0mnc_ds\u001b[0m\u001b[0;34m,\u001b[0m \u001b[0mpar_name\u001b[0m\u001b[0;34m,\u001b[0m \u001b[0mtimeidx\u001b[0m\u001b[0;34m=\u001b[0m\u001b[0midx\u001b[0m\u001b[0;34m)\u001b[0m\u001b[0;34m[\u001b[0m\u001b[0mlevel\u001b[0m\u001b[0;34m]\u001b[0m\u001b[0;34m\u001b[0m\u001b[0;34m\u001b[0m\u001b[0m\n\u001b[0m\u001b[1;32m     10\u001b[0m \u001b[0;34m\u001b[0m\u001b[0m\n\u001b[1;32m     11\u001b[0m     \u001b[0mcart_proj\u001b[0m \u001b[0;34m=\u001b[0m \u001b[0mwrf\u001b[0m\u001b[0;34m.\u001b[0m\u001b[0mget_cartopy\u001b[0m\u001b[0;34m(\u001b[0m\u001b[0mwrf_diag\u001b[0m\u001b[0;34m)\u001b[0m\u001b[0;34m\u001b[0m\u001b[0;34m\u001b[0m\u001b[0m\n",
      "\u001b[0;32m/Volumes/mbProD/anaconda3/lib/python3.6/site-packages/wrf/routines.py\u001b[0m in \u001b[0;36mgetvar\u001b[0;34m(wrfin, varname, timeidx, method, squeeze, cache, meta, **kwargs)\u001b[0m\n\u001b[1;32m    346\u001b[0m \u001b[0;34m\u001b[0m\u001b[0m\n\u001b[1;32m    347\u001b[0m     return _FUNC_MAP[actual_var](wrfin, timeidx, method, squeeze, cache, \n\u001b[0;32m--> 348\u001b[0;31m                                  meta, _key, **kwargs)\n\u001b[0m\u001b[1;32m    349\u001b[0m \u001b[0;34m\u001b[0m\u001b[0m\n",
      "\u001b[0;32m/Volumes/mbProD/anaconda3/lib/python3.6/site-packages/wrf/g_temp.py\u001b[0m in \u001b[0;36mget_tc\u001b[0;34m(wrfin, timeidx, method, squeeze, cache, meta, _key)\u001b[0m\n\u001b[1;32m    511\u001b[0m     \"\"\"\n\u001b[1;32m    512\u001b[0m     return get_temp(wrfin, timeidx, method, squeeze, cache, meta, _key,\n\u001b[0;32m--> 513\u001b[0;31m                     units=\"degC\")\n\u001b[0m\u001b[1;32m    514\u001b[0m \u001b[0;34m\u001b[0m\u001b[0m\n\u001b[1;32m    515\u001b[0m \u001b[0;34m\u001b[0m\u001b[0m\n",
      "\u001b[0;32m/Volumes/mbProD/anaconda3/lib/python3.6/site-packages/wrf/metadecorators.py\u001b[0m in \u001b[0;36mfunc_wrapper\u001b[0;34m(wrapped, instance, args, kwargs)\u001b[0m\n\u001b[1;32m    117\u001b[0m             var_to_copy = extract_vars(wrfin, timeidx, (_copy_varname,), \n\u001b[1;32m    118\u001b[0m                                        \u001b[0mmethod\u001b[0m\u001b[0;34m,\u001b[0m \u001b[0msqueeze\u001b[0m\u001b[0;34m,\u001b[0m \u001b[0mcache\u001b[0m\u001b[0;34m,\u001b[0m\u001b[0;34m\u001b[0m\u001b[0;34m\u001b[0m\u001b[0m\n\u001b[0;32m--> 119\u001b[0;31m                                        meta=True, _key=_key)[_copy_varname]\n\u001b[0m\u001b[1;32m    120\u001b[0m \u001b[0;34m\u001b[0m\u001b[0m\n\u001b[1;32m    121\u001b[0m         \u001b[0;31m# Make a copy so we don't modify a user supplied cache\u001b[0m\u001b[0;34m\u001b[0m\u001b[0;34m\u001b[0m\u001b[0;34m\u001b[0m\u001b[0m\n",
      "\u001b[0;32m/Volumes/mbProD/anaconda3/lib/python3.6/site-packages/wrf/util.py\u001b[0m in \u001b[0;36mextract_vars\u001b[0;34m(wrfin, timeidx, varnames, method, squeeze, cache, meta, _key)\u001b[0m\n\u001b[1;32m   2278\u001b[0m     return {var:_extract_var(wrfin, var, timeidx, None,\n\u001b[1;32m   2279\u001b[0m                              method, squeeze, cache, meta, _key)\n\u001b[0;32m-> 2280\u001b[0;31m             for var in varlist}\n\u001b[0m\u001b[1;32m   2281\u001b[0m \u001b[0;34m\u001b[0m\u001b[0m\n\u001b[1;32m   2282\u001b[0m \u001b[0;34m\u001b[0m\u001b[0m\n",
      "\u001b[0;32m/Volumes/mbProD/anaconda3/lib/python3.6/site-packages/wrf/util.py\u001b[0m in \u001b[0;36m<dictcomp>\u001b[0;34m(.0)\u001b[0m\n\u001b[1;32m   2278\u001b[0m     return {var:_extract_var(wrfin, var, timeidx, None,\n\u001b[1;32m   2279\u001b[0m                              method, squeeze, cache, meta, _key)\n\u001b[0;32m-> 2280\u001b[0;31m             for var in varlist}\n\u001b[0m\u001b[1;32m   2281\u001b[0m \u001b[0;34m\u001b[0m\u001b[0m\n\u001b[1;32m   2282\u001b[0m \u001b[0;34m\u001b[0m\u001b[0m\n",
      "\u001b[0;32m/Volumes/mbProD/anaconda3/lib/python3.6/site-packages/wrf/util.py\u001b[0m in \u001b[0;36m_extract_var\u001b[0;34m(wrfin, varname, timeidx, is_moving, method, squeeze, cache, meta, _key)\u001b[0m\n\u001b[1;32m   2204\u001b[0m                 \u001b[0mis_moving\u001b[0m \u001b[0;34m=\u001b[0m \u001b[0mis_moving_domain\u001b[0m\u001b[0;34m(\u001b[0m\u001b[0mwrfin\u001b[0m\u001b[0;34m,\u001b[0m \u001b[0mvarname\u001b[0m\u001b[0;34m,\u001b[0m \u001b[0m_key\u001b[0m\u001b[0;34m=\u001b[0m\u001b[0m_key\u001b[0m\u001b[0;34m)\u001b[0m\u001b[0;34m\u001b[0m\u001b[0;34m\u001b[0m\u001b[0m\n\u001b[1;32m   2205\u001b[0m             result = _build_data_array(wrfin, varname, timeidx, is_moving,\n\u001b[0;32m-> 2206\u001b[0;31m                                        multifile, _key)\n\u001b[0m\u001b[1;32m   2207\u001b[0m         \u001b[0;32melse\u001b[0m\u001b[0;34m:\u001b[0m\u001b[0;34m\u001b[0m\u001b[0;34m\u001b[0m\u001b[0m\n\u001b[1;32m   2208\u001b[0m             \u001b[0;32mif\u001b[0m \u001b[0;32mnot\u001b[0m \u001b[0mmultitime\u001b[0m\u001b[0;34m:\u001b[0m\u001b[0;34m\u001b[0m\u001b[0;34m\u001b[0m\u001b[0m\n",
      "\u001b[0;32m/Volumes/mbProD/anaconda3/lib/python3.6/site-packages/wrf/util.py\u001b[0m in \u001b[0;36m_build_data_array\u001b[0;34m(wrfnc, varname, timeidx, is_moving_domain, is_multifile, _key)\u001b[0m\n\u001b[1;32m   1241\u001b[0m     \u001b[0mvar\u001b[0m \u001b[0;34m=\u001b[0m \u001b[0mwrfnc\u001b[0m\u001b[0;34m.\u001b[0m\u001b[0mvariables\u001b[0m\u001b[0;34m[\u001b[0m\u001b[0mvarname\u001b[0m\u001b[0;34m]\u001b[0m\u001b[0;34m\u001b[0m\u001b[0;34m\u001b[0m\u001b[0m\n\u001b[1;32m   1242\u001b[0m     \u001b[0;32mif\u001b[0m \u001b[0mlen\u001b[0m\u001b[0;34m(\u001b[0m\u001b[0mvar\u001b[0m\u001b[0;34m.\u001b[0m\u001b[0mshape\u001b[0m\u001b[0;34m)\u001b[0m \u001b[0;34m>\u001b[0m \u001b[0;36m1\u001b[0m\u001b[0;34m:\u001b[0m\u001b[0;34m\u001b[0m\u001b[0;34m\u001b[0m\u001b[0m\n\u001b[0;32m-> 1243\u001b[0;31m         \u001b[0mdata\u001b[0m \u001b[0;34m=\u001b[0m \u001b[0mvar\u001b[0m\u001b[0;34m[\u001b[0m\u001b[0mtime_idx_or_slice\u001b[0m\u001b[0;34m,\u001b[0m \u001b[0;34m:\u001b[0m\u001b[0;34m]\u001b[0m\u001b[0;34m\u001b[0m\u001b[0;34m\u001b[0m\u001b[0m\n\u001b[0m\u001b[1;32m   1244\u001b[0m     \u001b[0;32melse\u001b[0m\u001b[0;34m:\u001b[0m\u001b[0;34m\u001b[0m\u001b[0;34m\u001b[0m\u001b[0m\n\u001b[1;32m   1245\u001b[0m         \u001b[0mdata\u001b[0m \u001b[0;34m=\u001b[0m \u001b[0mvar\u001b[0m\u001b[0;34m[\u001b[0m\u001b[0mtime_idx_or_slice\u001b[0m\u001b[0;34m]\u001b[0m\u001b[0;34m\u001b[0m\u001b[0;34m\u001b[0m\u001b[0m\n",
      "\u001b[0;32mnetCDF4/_netCDF4.pyx\u001b[0m in \u001b[0;36mnetCDF4._netCDF4.Variable.__getitem__\u001b[0;34m()\u001b[0m\n",
      "\u001b[0;32mnetCDF4/_netCDF4.pyx\u001b[0m in \u001b[0;36mnetCDF4._netCDF4.Variable._toma\u001b[0;34m()\u001b[0m\n",
      "\u001b[0;32m/Volumes/mbProD/anaconda3/lib/python3.6/site-packages/numpy/core/_methods.py\u001b[0m in \u001b[0;36m_any\u001b[0;34m(a, axis, dtype, out, keepdims)\u001b[0m\n\u001b[1;32m     40\u001b[0m     \u001b[0;32mreturn\u001b[0m \u001b[0mumr_prod\u001b[0m\u001b[0;34m(\u001b[0m\u001b[0ma\u001b[0m\u001b[0;34m,\u001b[0m \u001b[0maxis\u001b[0m\u001b[0;34m,\u001b[0m \u001b[0mdtype\u001b[0m\u001b[0;34m,\u001b[0m \u001b[0mout\u001b[0m\u001b[0;34m,\u001b[0m \u001b[0mkeepdims\u001b[0m\u001b[0;34m,\u001b[0m \u001b[0minitial\u001b[0m\u001b[0;34m)\u001b[0m\u001b[0;34m\u001b[0m\u001b[0;34m\u001b[0m\u001b[0m\n\u001b[1;32m     41\u001b[0m \u001b[0;34m\u001b[0m\u001b[0m\n\u001b[0;32m---> 42\u001b[0;31m \u001b[0;32mdef\u001b[0m \u001b[0m_any\u001b[0m\u001b[0;34m(\u001b[0m\u001b[0ma\u001b[0m\u001b[0;34m,\u001b[0m \u001b[0maxis\u001b[0m\u001b[0;34m=\u001b[0m\u001b[0;32mNone\u001b[0m\u001b[0;34m,\u001b[0m \u001b[0mdtype\u001b[0m\u001b[0;34m=\u001b[0m\u001b[0;32mNone\u001b[0m\u001b[0;34m,\u001b[0m \u001b[0mout\u001b[0m\u001b[0;34m=\u001b[0m\u001b[0;32mNone\u001b[0m\u001b[0;34m,\u001b[0m \u001b[0mkeepdims\u001b[0m\u001b[0;34m=\u001b[0m\u001b[0;32mFalse\u001b[0m\u001b[0;34m)\u001b[0m\u001b[0;34m:\u001b[0m\u001b[0;34m\u001b[0m\u001b[0;34m\u001b[0m\u001b[0m\n\u001b[0m\u001b[1;32m     43\u001b[0m     \u001b[0;32mreturn\u001b[0m \u001b[0mumr_any\u001b[0m\u001b[0;34m(\u001b[0m\u001b[0ma\u001b[0m\u001b[0;34m,\u001b[0m \u001b[0maxis\u001b[0m\u001b[0;34m,\u001b[0m \u001b[0mdtype\u001b[0m\u001b[0;34m,\u001b[0m \u001b[0mout\u001b[0m\u001b[0;34m,\u001b[0m \u001b[0mkeepdims\u001b[0m\u001b[0;34m)\u001b[0m\u001b[0;34m\u001b[0m\u001b[0;34m\u001b[0m\u001b[0m\n\u001b[1;32m     44\u001b[0m \u001b[0;34m\u001b[0m\u001b[0m\n",
      "\u001b[0;31mKeyboardInterrupt\u001b[0m: "
     ]
    }
   ],
   "source": [
    "w, h, = 5, 5 \n",
    "for i, (index, row) in enumerate(small_list.iterrows()):\n",
    "    ax = plot_from(row, fig, w,h,i+1 )\n",
    "    print(i,'done')\n",
    "fig.set_size_inches(*[\n",
    "    4*x for x in [w,h]\n",
    "])\n",
    "fig"
   ]
  },
  {
   "cell_type": "code",
   "execution_count": null,
   "metadata": {},
   "outputs": [],
   "source": [
    "fig.savefig('/tmp/fig.pdf')"
   ]
  },
  {
   "cell_type": "code",
   "execution_count": null,
   "metadata": {
    "lines_to_next_cell": 2
   },
   "outputs": [],
   "source": [
    "wrf_diag[0][0]"
   ]
  },
  {
   "cell_type": "code",
   "execution_count": null,
   "metadata": {
    "lines_to_next_cell": 2
   },
   "outputs": [],
   "source": [
    "p = print \n",
    "ti "
   ]
  },
  {
   "cell_type": "code",
   "execution_count": null,
   "metadata": {},
   "outputs": [],
   "source": [
    "fig"
   ]
  },
  {
   "cell_type": "code",
   "execution_count": 20,
   "metadata": {},
   "outputs": [
    {
     "ename": "NameError",
     "evalue": "name 'path' is not defined",
     "output_type": "error",
     "traceback": [
      "\u001b[0;31m---------------------------------------------------------------------------\u001b[0m",
      "\u001b[0;31mNameError\u001b[0m                                 Traceback (most recent call last)",
      "\u001b[0;32m<ipython-input-20-3929f337b23e>\u001b[0m in \u001b[0;36m<module>\u001b[0;34m\u001b[0m\n\u001b[0;32m----> 1\u001b[0;31m \u001b[0mds_path\u001b[0m \u001b[0;34m=\u001b[0m \u001b[0mnetCDF4\u001b[0m\u001b[0;34m.\u001b[0m\u001b[0mDataset\u001b[0m\u001b[0;34m(\u001b[0m\u001b[0mpath\u001b[0m\u001b[0;34m)\u001b[0m\u001b[0;34m\u001b[0m\u001b[0;34m\u001b[0m\u001b[0m\n\u001b[0m\u001b[1;32m      2\u001b[0m \u001b[0mpar_name\u001b[0m \u001b[0;34m=\u001b[0m \u001b[0;34m\"wspd_wdir\"\u001b[0m\u001b[0;34m\u001b[0m\u001b[0;34m\u001b[0m\u001b[0m\n\u001b[1;32m      3\u001b[0m \u001b[0mpar_name1\u001b[0m \u001b[0;34m=\u001b[0m \u001b[0;34m'z'\u001b[0m\u001b[0;34m\u001b[0m\u001b[0;34m\u001b[0m\u001b[0m\n\u001b[1;32m      4\u001b[0m \u001b[0mtc\u001b[0m \u001b[0;34m=\u001b[0m \u001b[0mwrf\u001b[0m\u001b[0;34m.\u001b[0m\u001b[0mgetvar\u001b[0m\u001b[0;34m(\u001b[0m\u001b[0mds_path\u001b[0m\u001b[0;34m,\u001b[0m \u001b[0mpar_name\u001b[0m\u001b[0;34m,\u001b[0m \u001b[0munits\u001b[0m\u001b[0;34m=\u001b[0m\u001b[0;34m\"kt\"\u001b[0m\u001b[0;34m)\u001b[0m\u001b[0;34m[\u001b[0m\u001b[0;36m0\u001b[0m\u001b[0;34m,\u001b[0m \u001b[0;34m:\u001b[0m\u001b[0;34m]\u001b[0m\u001b[0;34m\u001b[0m\u001b[0;34m\u001b[0m\u001b[0m\n\u001b[1;32m      5\u001b[0m \u001b[0mz\u001b[0m \u001b[0;34m=\u001b[0m \u001b[0mwrf\u001b[0m\u001b[0;34m.\u001b[0m\u001b[0mgetvar\u001b[0m\u001b[0;34m(\u001b[0m\u001b[0mds_path\u001b[0m\u001b[0;34m,\u001b[0m \u001b[0mpar_name1\u001b[0m\u001b[0;34m)\u001b[0m\u001b[0;34m\u001b[0m\u001b[0;34m\u001b[0m\u001b[0m\n",
      "\u001b[0;31mNameError\u001b[0m: name 'path' is not defined"
     ]
    }
   ],
   "source": [
    "ds_path = netCDF4.Dataset(path)\n",
    "par_name = \"wspd_wdir\"\n",
    "par_name1 = 'z'\n",
    "tc = wrf.getvar(ds_path, par_name, units=\"kt\")[0, :]\n",
    "z = wrf.getvar(ds_path, par_name1)\n",
    "la, lo = wrf.latlon_coords(tc)\n",
    "\n",
    "start_point = wrf.CoordPair(lat=-16.4, lon=-68.8)\n",
    "end_point = wrf.CoordPair(lat=-16.4, lon=-67.5)\n",
    "\n",
    "tmp_cross = wrf.vertcross(tc, z, wrfin=ds_path, start_point=start_point,\n",
    "                          end_point=end_point, latlon=True, meta=True)\n",
    "fig, ax = plt.subplots()\n",
    "\n",
    "ctemp = ax.contourf(wrf.to_np(tmp_cross), levels=20, cmap=matplotlib.cm.get_cmap(\"jet\"))\n",
    "\n",
    "# Add the color bar\n",
    "cb_temp = fig.colorbar(ctemp, ax=ax)\n",
    "cb_temp.ax.tick_params(labelsize=10)\n",
    "\n",
    "# Set the x-ticks to use latitude and longitude labels\n",
    "coord_pairs = wrf.to_np(tmp_cross.coords[\"xy_loc\"])\n",
    "x_ticks = np.arange(coord_pairs.shape[0])\n",
    "x_labels = [pair.latlon_str() for pair in wrf.to_np(coord_pairs)]\n",
    "ax.set_xticks(x_ticks[::20])\n",
    "ax.set_xticklabels(x_labels[::20], rotation=45)\n",
    "\n",
    "# Set the y-ticks to be height\n",
    "vert_vals = wrf.to_np(tmp_cross.coords[\"vertical\"])\n",
    "v_ticks = np.arange(vert_vals.shape[0])\n",
    "ax.set_yticks(v_ticks[::20])\n",
    "ax.set_yticklabels(vert_vals[::20], fontsize=10)\n",
    "ax.set_ylabel('z [m]')\n",
    "ax.set_xlabel('lat lon')\n",
    "ax.set_title('wind speed[knots]')"
   ]
  },
  {
   "cell_type": "code",
   "execution_count": null,
   "metadata": {},
   "outputs": [],
   "source": [
    "\n"
   ]
  },
  {
   "cell_type": "code",
   "execution_count": null,
   "metadata": {},
   "outputs": [],
   "source": [
    "ds_path = netCDF4.Dataset(path)\n",
    "par_name = 'tc'\n",
    "par_name1 = 'wspd_wdir'\n",
    "tc = wrf.getvar(ds_path, par_name)\n",
    "z = wrf.getvar(ds_path, par_name1)[0, :]\n",
    "la, lo = wrf.latlon_coords(tc)\n",
    "\n",
    "start_point = wrf.CoordPair(lat=-16.4, lon=-68.8)\n",
    "end_point = wrf.CoordPair(lat=-16.4, lon=-67.5)\n",
    "\n",
    "tmp_cross = wrf.vertcross(tc, z, wrfin=ds_path, start_point=start_point,\n",
    "                          end_point=end_point, latlon=True, meta=True)\n",
    "fig, ax = plt.subplots()\n",
    "\n",
    "ctemp = ax.contourf(wrf.to_np(tmp_cross), levels=20, cmap=matplotlib.cm.get_cmap(\"jet\"))\n",
    "\n",
    "# Add the color bar\n",
    "cb_temp = fig.colorbar(ctemp, ax=ax)\n",
    "cb_temp.ax.tick_params(labelsize=10)\n",
    "\n",
    "# Set the x-ticks to use latitude and longitude labels\n",
    "coord_pairs = wrf.to_np(tmp_cross.coords[\"xy_loc\"])\n",
    "x_ticks = np.arange(coord_pairs.shape[0])\n",
    "x_labels = [pair.latlon_str() for pair in wrf.to_np(coord_pairs)]\n",
    "ax.set_xticks(x_ticks[::20])\n",
    "ax.set_xticklabels(x_labels[::20], rotation=45)\n",
    "\n",
    "# Set the y-ticks to be height\n",
    "vert_vals = wrf.to_np(tmp_cross.coords[\"vertical\"])\n",
    "v_ticks = np.arange(vert_vals.shape[0])\n",
    "ax.set_yticks(v_ticks[::20])\n",
    "ax.set_yticklabels(vert_vals[::20], fontsize=10)\n",
    "ax.set_ylabel('z [m]')\n",
    "ax.set_xlabel('lat lon')"
   ]
  },
  {
   "cell_type": "code",
   "execution_count": null,
   "metadata": {},
   "outputs": [],
   "source": [
    "\n",
    "\n",
    "\n",
    "wrf.getvar()"
   ]
  },
  {
   "cell_type": "code",
   "execution_count": 21,
   "metadata": {},
   "outputs": [],
   "source": [
    "def get_rows(cols,tot):\n",
    "#     tot = 21\n",
    "#     cols = 5 \n",
    "    rows = int(np.ceil(tot/cols)) \n",
    "    print(rows*cols, 'tot', tot)\n",
    "    return rows "
   ]
  },
  {
   "cell_type": "code",
   "execution_count": null,
   "metadata": {},
   "outputs": [],
   "source": [
    "get_rows(5,21)"
   ]
  },
  {
   "cell_type": "code",
   "execution_count": null,
   "metadata": {},
   "outputs": [],
   "source": [
    "\n"
   ]
  },
  {
   "cell_type": "code",
   "execution_count": null,
   "metadata": {},
   "outputs": [],
   "source": [
    "tot = 21 \n",
    "cols = 5 \n",
    "rows = 22//5\n",
    "print(rows)"
   ]
  },
  {
   "cell_type": "code",
   "execution_count": null,
   "metadata": {},
   "outputs": [],
   "source": [
    "tot = 21 \n",
    "cols = 5 \n",
    "rows = 24//5\n",
    "print(rows)"
   ]
  },
  {
   "cell_type": "code",
   "execution_count": null,
   "metadata": {},
   "outputs": [],
   "source": [
    "np.ceil(3.4)"
   ]
  },
  {
   "cell_type": "code",
   "execution_count": 22,
   "metadata": {},
   "outputs": [],
   "source": [
    "row = mega_list.iloc[1]"
   ]
  },
  {
   "cell_type": "code",
   "execution_count": 23,
   "metadata": {},
   "outputs": [
    {
     "data": {
      "text/plain": [
       "wrf_index                                                    1\n",
       "name                            wrfout_d04_2018-04-05_06:00:00\n",
       "dom                                                        d04\n",
       "path         ../tucu-april-rm-data/WRF/wrfout_d04_2018-04-0...\n",
       "Name: 2018-04-05 06:15:00, dtype: object"
      ]
     },
     "execution_count": 23,
     "metadata": {},
     "output_type": "execute_result"
    }
   ],
   "source": [
    "row"
   ]
  },
  {
   "cell_type": "code",
   "execution_count": 24,
   "metadata": {},
   "outputs": [
    {
     "data": {
      "text/plain": [
       "<xarray.DataArray 'Time' (Time: 6)>\n",
       "array([0, 1, 2, 3, 4, 5])\n",
       "Coordinates:\n",
       "    XTIME    (Time) datetime64[ns] ...\n",
       "Dimensions without coordinates: Time"
      ]
     },
     "execution_count": 24,
     "metadata": {},
     "output_type": "execute_result"
    }
   ],
   "source": [
    "ds = xr.open_dataset(row.path)\n",
    "ds.Time"
   ]
  },
  {
   "cell_type": "code",
   "execution_count": 25,
   "metadata": {},
   "outputs": [],
   "source": [
    "t1=5\n",
    "b1=0\n",
    "ds1 = ds.isel(Time=slice(t1,t1+2),bottom_top=slice(b1,b1+2))[['P','T','PB']].copy()\n",
    "# ds1"
   ]
  },
  {
   "cell_type": "code",
   "execution_count": 26,
   "metadata": {},
   "outputs": [],
   "source": [
    "save_path='/tmp/er'+str(t1)\n",
    "try: os.remove(save_path)\n",
    "except: pass\n",
    "ds1.to_netcdf(save_path)"
   ]
  },
  {
   "cell_type": "code",
   "execution_count": 27,
   "metadata": {},
   "outputs": [
    {
     "ename": "IndexError",
     "evalue": "too many indices for array",
     "output_type": "error",
     "traceback": [
      "\u001b[0;31m---------------------------------------------------------------------------\u001b[0m",
      "\u001b[0;31mIndexError\u001b[0m                                Traceback (most recent call last)",
      "\u001b[0;32m<ipython-input-27-7e8e6bc9b80f>\u001b[0m in \u001b[0;36m<module>\u001b[0;34m\u001b[0m\n\u001b[0;32m----> 1\u001b[0;31m \u001b[0mnds\u001b[0m \u001b[0;34m=\u001b[0m \u001b[0mwrf\u001b[0m\u001b[0;34m.\u001b[0m\u001b[0mgetvar\u001b[0m\u001b[0;34m(\u001b[0m\u001b[0mnetCDF4\u001b[0m\u001b[0;34m.\u001b[0m\u001b[0mDataset\u001b[0m\u001b[0;34m(\u001b[0m\u001b[0msave_path\u001b[0m\u001b[0;34m)\u001b[0m\u001b[0;34m,\u001b[0m\u001b[0;34m'tc'\u001b[0m\u001b[0;34m,\u001b[0m\u001b[0mtimeidx\u001b[0m\u001b[0;34m=\u001b[0m\u001b[0;36m0\u001b[0m\u001b[0;34m)\u001b[0m\u001b[0;34m[\u001b[0m\u001b[0;36m0\u001b[0m\u001b[0;34m]\u001b[0m\u001b[0;34m\u001b[0m\u001b[0;34m\u001b[0m\u001b[0m\n\u001b[0m",
      "\u001b[0;32m/Volumes/mbProD/anaconda3/lib/python3.6/site-packages/wrf/routines.py\u001b[0m in \u001b[0;36mgetvar\u001b[0;34m(wrfin, varname, timeidx, method, squeeze, cache, meta, **kwargs)\u001b[0m\n\u001b[1;32m    346\u001b[0m \u001b[0;34m\u001b[0m\u001b[0m\n\u001b[1;32m    347\u001b[0m     return _FUNC_MAP[actual_var](wrfin, timeidx, method, squeeze, cache, \n\u001b[0;32m--> 348\u001b[0;31m                                  meta, _key, **kwargs)\n\u001b[0m\u001b[1;32m    349\u001b[0m \u001b[0;34m\u001b[0m\u001b[0m\n",
      "\u001b[0;32m/Volumes/mbProD/anaconda3/lib/python3.6/site-packages/wrf/g_temp.py\u001b[0m in \u001b[0;36mget_tc\u001b[0;34m(wrfin, timeidx, method, squeeze, cache, meta, _key)\u001b[0m\n\u001b[1;32m    511\u001b[0m     \"\"\"\n\u001b[1;32m    512\u001b[0m     return get_temp(wrfin, timeidx, method, squeeze, cache, meta, _key,\n\u001b[0;32m--> 513\u001b[0;31m                     units=\"degC\")\n\u001b[0m\u001b[1;32m    514\u001b[0m \u001b[0;34m\u001b[0m\u001b[0m\n\u001b[1;32m    515\u001b[0m \u001b[0;34m\u001b[0m\u001b[0m\n",
      "\u001b[0;32m/Volumes/mbProD/anaconda3/lib/python3.6/site-packages/wrf/metadecorators.py\u001b[0m in \u001b[0;36mfunc_wrapper\u001b[0;34m(wrapped, instance, args, kwargs)\u001b[0m\n\u001b[1;32m    117\u001b[0m             var_to_copy = extract_vars(wrfin, timeidx, (_copy_varname,), \n\u001b[1;32m    118\u001b[0m                                        \u001b[0mmethod\u001b[0m\u001b[0;34m,\u001b[0m \u001b[0msqueeze\u001b[0m\u001b[0;34m,\u001b[0m \u001b[0mcache\u001b[0m\u001b[0;34m,\u001b[0m\u001b[0;34m\u001b[0m\u001b[0;34m\u001b[0m\u001b[0m\n\u001b[0;32m--> 119\u001b[0;31m                                        meta=True, _key=_key)[_copy_varname]\n\u001b[0m\u001b[1;32m    120\u001b[0m \u001b[0;34m\u001b[0m\u001b[0m\n\u001b[1;32m    121\u001b[0m         \u001b[0;31m# Make a copy so we don't modify a user supplied cache\u001b[0m\u001b[0;34m\u001b[0m\u001b[0;34m\u001b[0m\u001b[0;34m\u001b[0m\u001b[0m\n",
      "\u001b[0;32m/Volumes/mbProD/anaconda3/lib/python3.6/site-packages/wrf/util.py\u001b[0m in \u001b[0;36mextract_vars\u001b[0;34m(wrfin, timeidx, varnames, method, squeeze, cache, meta, _key)\u001b[0m\n\u001b[1;32m   2278\u001b[0m     return {var:_extract_var(wrfin, var, timeidx, None,\n\u001b[1;32m   2279\u001b[0m                              method, squeeze, cache, meta, _key)\n\u001b[0;32m-> 2280\u001b[0;31m             for var in varlist}\n\u001b[0m\u001b[1;32m   2281\u001b[0m \u001b[0;34m\u001b[0m\u001b[0m\n\u001b[1;32m   2282\u001b[0m \u001b[0;34m\u001b[0m\u001b[0m\n",
      "\u001b[0;32m/Volumes/mbProD/anaconda3/lib/python3.6/site-packages/wrf/util.py\u001b[0m in \u001b[0;36m<dictcomp>\u001b[0;34m(.0)\u001b[0m\n\u001b[1;32m   2278\u001b[0m     return {var:_extract_var(wrfin, var, timeidx, None,\n\u001b[1;32m   2279\u001b[0m                              method, squeeze, cache, meta, _key)\n\u001b[0;32m-> 2280\u001b[0;31m             for var in varlist}\n\u001b[0m\u001b[1;32m   2281\u001b[0m \u001b[0;34m\u001b[0m\u001b[0m\n\u001b[1;32m   2282\u001b[0m \u001b[0;34m\u001b[0m\u001b[0m\n",
      "\u001b[0;32m/Volumes/mbProD/anaconda3/lib/python3.6/site-packages/wrf/util.py\u001b[0m in \u001b[0;36m_extract_var\u001b[0;34m(wrfin, varname, timeidx, is_moving, method, squeeze, cache, meta, _key)\u001b[0m\n\u001b[1;32m   2202\u001b[0m         \u001b[0;32mif\u001b[0m \u001b[0mxarray_enabled\u001b[0m\u001b[0;34m(\u001b[0m\u001b[0;34m)\u001b[0m \u001b[0;32mand\u001b[0m \u001b[0mmeta\u001b[0m\u001b[0;34m:\u001b[0m\u001b[0;34m\u001b[0m\u001b[0;34m\u001b[0m\u001b[0m\n\u001b[1;32m   2203\u001b[0m             \u001b[0;32mif\u001b[0m \u001b[0mis_moving\u001b[0m \u001b[0;32mis\u001b[0m \u001b[0;32mNone\u001b[0m\u001b[0;34m:\u001b[0m\u001b[0;34m\u001b[0m\u001b[0;34m\u001b[0m\u001b[0m\n\u001b[0;32m-> 2204\u001b[0;31m                 \u001b[0mis_moving\u001b[0m \u001b[0;34m=\u001b[0m \u001b[0mis_moving_domain\u001b[0m\u001b[0;34m(\u001b[0m\u001b[0mwrfin\u001b[0m\u001b[0;34m,\u001b[0m \u001b[0mvarname\u001b[0m\u001b[0;34m,\u001b[0m \u001b[0m_key\u001b[0m\u001b[0;34m=\u001b[0m\u001b[0m_key\u001b[0m\u001b[0;34m)\u001b[0m\u001b[0;34m\u001b[0m\u001b[0;34m\u001b[0m\u001b[0m\n\u001b[0m\u001b[1;32m   2205\u001b[0m             result = _build_data_array(wrfin, varname, timeidx, is_moving,\n\u001b[1;32m   2206\u001b[0m                                        multifile, _key)\n",
      "\u001b[0;32m/Volumes/mbProD/anaconda3/lib/python3.6/site-packages/wrf/util.py\u001b[0m in \u001b[0;36mis_moving_domain\u001b[0;34m(wrfin, varname, latvar, lonvar, _key)\u001b[0m\n\u001b[1;32m    783\u001b[0m     \u001b[0mlat0\u001b[0m \u001b[0;34m=\u001b[0m \u001b[0mlats\u001b[0m\u001b[0;34m[\u001b[0m\u001b[0mzero_idxs\u001b[0m\u001b[0;34m]\u001b[0m\u001b[0;34m\u001b[0m\u001b[0;34m\u001b[0m\u001b[0m\n\u001b[1;32m    784\u001b[0m     \u001b[0mlat1\u001b[0m \u001b[0;34m=\u001b[0m \u001b[0mlats\u001b[0m\u001b[0;34m[\u001b[0m\u001b[0mlast_idxs\u001b[0m\u001b[0;34m]\u001b[0m\u001b[0;34m\u001b[0m\u001b[0;34m\u001b[0m\u001b[0m\n\u001b[0;32m--> 785\u001b[0;31m     \u001b[0mlon0\u001b[0m \u001b[0;34m=\u001b[0m \u001b[0mlons\u001b[0m\u001b[0;34m[\u001b[0m\u001b[0mzero_idxs\u001b[0m\u001b[0;34m]\u001b[0m\u001b[0;34m\u001b[0m\u001b[0;34m\u001b[0m\u001b[0m\n\u001b[0m\u001b[1;32m    786\u001b[0m     \u001b[0mlon1\u001b[0m \u001b[0;34m=\u001b[0m \u001b[0mlons\u001b[0m\u001b[0;34m[\u001b[0m\u001b[0mlast_idxs\u001b[0m\u001b[0;34m]\u001b[0m\u001b[0;34m\u001b[0m\u001b[0;34m\u001b[0m\u001b[0m\n\u001b[1;32m    787\u001b[0m \u001b[0;34m\u001b[0m\u001b[0m\n",
      "\u001b[0;32m/Volumes/mbProD/anaconda3/lib/python3.6/site-packages/numpy/ma/core.py\u001b[0m in \u001b[0;36m__getitem__\u001b[0;34m(self, indx)\u001b[0m\n\u001b[1;32m   3172\u001b[0m         \u001b[0;31m# mask of being reshaped if it hasn't been set up properly yet\u001b[0m\u001b[0;34m\u001b[0m\u001b[0;34m\u001b[0m\u001b[0;34m\u001b[0m\u001b[0m\n\u001b[1;32m   3173\u001b[0m         \u001b[0;31m# So it's easier to stick to the current version\u001b[0m\u001b[0;34m\u001b[0m\u001b[0;34m\u001b[0m\u001b[0;34m\u001b[0m\u001b[0m\n\u001b[0;32m-> 3174\u001b[0;31m         \u001b[0mdout\u001b[0m \u001b[0;34m=\u001b[0m \u001b[0mself\u001b[0m\u001b[0;34m.\u001b[0m\u001b[0mdata\u001b[0m\u001b[0;34m[\u001b[0m\u001b[0mindx\u001b[0m\u001b[0;34m]\u001b[0m\u001b[0;34m\u001b[0m\u001b[0;34m\u001b[0m\u001b[0m\n\u001b[0m\u001b[1;32m   3175\u001b[0m         \u001b[0m_mask\u001b[0m \u001b[0;34m=\u001b[0m \u001b[0mself\u001b[0m\u001b[0;34m.\u001b[0m\u001b[0m_mask\u001b[0m\u001b[0;34m\u001b[0m\u001b[0;34m\u001b[0m\u001b[0m\n\u001b[1;32m   3176\u001b[0m \u001b[0;34m\u001b[0m\u001b[0m\n",
      "\u001b[0;31mIndexError\u001b[0m: too many indices for array"
     ]
    }
   ],
   "source": [
    "nds = wrf.getvar(netCDF4.Dataset(save_path),'tc',timeidx=0)[0]"
   ]
  },
  {
   "cell_type": "code",
   "execution_count": null,
   "metadata": {},
   "outputs": [],
   "source": [
    "nds.plot(x='XLONG',y='XLAT',robust=True,vmin=nds.min(),vmax=nds.max())"
   ]
  },
  {
   "cell_type": "code",
   "execution_count": null,
   "metadata": {},
   "outputs": [],
   "source": [
    "d1 = mega_l['d01']\n",
    "d2 = mega_l['d02']\n",
    "d3 = mega_l['d03']\n",
    "d4 = mega_l['d04']\n",
    "dds = [d1,d2,d3,d4]\n",
    "lds = [len(l) for l in dds]\n",
    "lds"
   ]
  },
  {
   "cell_type": "code",
   "execution_count": null,
   "metadata": {
    "lines_to_next_cell": 2
   },
   "outputs": [],
   "source": [
    "def get_nds(row, t1=0):\n",
    "    ds = xr.open_dataset(row.path)\n",
    "    ds.Time\n",
    "    b1=0\n",
    "    ds1 = ds.isel(Time=slice(t1,t1+2),bottom_top=slice(b1,b1+2))[['P','T','PB']].copy()\n",
    "    # ds1\n",
    "    save_path='/tmp/wrf_tmp'+str(t1)+str(np.random.randint(1000000))\n",
    "    \n",
    "    try: os.remove(save_path)\n",
    "    except: pass\n",
    "    ds1.to_netcdf(save_path)\n",
    "    nds = wrf.getvar(netCDF4.Dataset(save_path),'tc',timeidx=0)[0]\n",
    "    return nds"
   ]
  },
  {
   "cell_type": "code",
   "execution_count": null,
   "metadata": {},
   "outputs": [],
   "source": [
    "ind = 10\n",
    "row3 = mega_l['d03'].iloc[ind]\n",
    "row4 = mega_l['d04'].iloc[ind]"
   ]
  },
  {
   "cell_type": "code",
   "execution_count": null,
   "metadata": {},
   "outputs": [],
   "source": [
    "nds3 = get_nds(row3)\n",
    "nds4 = get_nds(row4)"
   ]
  },
  {
   "cell_type": "code",
   "execution_count": null,
   "metadata": {},
   "outputs": [],
   "source": [
    "def get_fun(fun):\n",
    "    res = np.array([fun(i).values for i in [nds3, nds4]])\n",
    "    return res"
   ]
  },
  {
   "cell_type": "code",
   "execution_count": null,
   "metadata": {},
   "outputs": [],
   "source": [
    "fig, ax = plt.subplots()\n",
    "# nds3.plot.imshow()\n",
    "vm=min(get_fun(xr.DataArray.min))\n",
    "vM=max(get_fun(xr.DataArray.max))\n",
    "m1 = nds3.plot(x='XLONG',y='XLAT',ax=ax,add_colorbar=False,vmin=vm,vmax=vM)\n",
    "nds4.plot(x='XLONG',y='XLAT',ax=ax,add_colorbar=False,vmin=vm,vmax=vM)\n",
    "fig.set_size_inches(10,10)\n",
    "fig.colorbar(m1)\n",
    "\n",
    "gb = wrf.geo_bounds(nds4)\n",
    "\n",
    "gb.bottom_left.lat\n",
    "\n",
    "lam = gb.bottom_left.lat\n",
    "lom = gb.bottom_left.lon\n",
    "laM = gb.top_right.lat\n",
    "loM = gb.top_right.lon\n",
    "\n",
    "lad = laM-lam\n",
    "lod = loM-lom\n",
    "par = .2\n",
    "lap = lad * par \n",
    "lop = lod * par \n",
    "\n",
    "ax.set_ylim(lam-lap,laM+lap)\n",
    "ax.set_xlim(lom-lop,loM+lop)\n",
    "ax.set_title('')\n",
    "\n",
    "ax.scatter(*ye.LOLA_CHC,c='r')"
   ]
  },
  {
   "cell_type": "code",
   "execution_count": null,
   "metadata": {},
   "outputs": [],
   "source": [
    "fig, ax = plt.subplots()\n",
    "# nds3.plot.imshow()\n",
    "vm=min(get_fun(xr.DataArray.min))\n",
    "vM=max(get_fun(xr.DataArray.max))\n",
    "m1 = nds3.plot(x='XLONG',y='XLAT',ax=ax,add_colorbar=False,vmin=vm,vmax=vM)\n",
    "nds4.plot(x='XLONG',y='XLAT',ax=ax,add_colorbar=False,vmin=vm,vmax=vM)\n",
    "fig.set_size_inches(10,10)\n",
    "fig.colorbar(m1)\n",
    "\n",
    "gb = wrf.geo_bounds(nds4)\n",
    "\n",
    "gb.bottom_left.lat\n",
    "\n",
    "lam = gb.bottom_left.lat\n",
    "lom = gb.bottom_left.lon\n",
    "laM = gb.top_right.lat\n",
    "loM = gb.top_right.lon\n",
    "\n",
    "lad = laM-lam\n",
    "lod = loM-lom\n",
    "par = .2\n",
    "lap = lad * par \n",
    "lop = lod * par \n",
    "\n",
    "ax.set_ylim(lam-lap,laM+lap)\n",
    "ax.set_xlim(lom-lop,loM+lop)\n",
    "ax.set_title('')\n",
    "\n",
    "ax.scatter(*ye.LOLA_CHC,c='r')"
   ]
  },
  {
   "cell_type": "code",
   "execution_count": null,
   "metadata": {},
   "outputs": [],
   "source": [
    "ind = 10\n",
    "row3 = mega_l['d01'].iloc[ind]\n",
    "row4 = mega_l['d02'].iloc[ind]\n",
    "\n",
    "nds3 = get_nds(row3)\n",
    "nds4 = get_nds(row4)\n",
    "\n",
    "def get_fun(fun):\n",
    "    res = np.array([fun(i).values for i in [nds3, nds4]])\n",
    "    return res\n",
    "\n",
    "fig, ax = plt.subplots()\n",
    "# nds3.plot.imshow()\n",
    "vm=min(get_fun(xr.DataArray.min))\n",
    "vM=max(get_fun(xr.DataArray.max))\n",
    "m1 = nds3.plot(x='XLONG',y='XLAT',ax=ax,add_colorbar=False,vmin=vm,vmax=vM)\n",
    "nds4.plot(x='XLONG',y='XLAT',ax=ax,add_colorbar=False,vmin=vm,vmax=vM)\n",
    "fig.set_size_inches(10,10)\n",
    "fig.colorbar(m1)\n",
    "\n",
    "gb = wrf.geo_bounds(nds4)\n",
    "\n",
    "gb.bottom_left.lat\n",
    "\n",
    "lam = gb.bottom_left.lat\n",
    "lom = gb.bottom_left.lon\n",
    "laM = gb.top_right.lat\n",
    "loM = gb.top_right.lon\n",
    "\n",
    "lad = laM-lam\n",
    "lod = loM-lom\n",
    "par = .2\n",
    "lap = lad * par \n",
    "lop = lod * par \n",
    "\n",
    "ax.set_ylim(lam-lap,laM+lap)\n",
    "ax.set_xlim(lom-lop,loM+lop)\n",
    "ax.set_title('')\n",
    "\n",
    "ax.scatter(*ye.LOLA_CHC,c='r')\n",
    "ax.scatter(*ye.LOLA_LPZ,c='b')"
   ]
  },
  {
   "cell_type": "code",
   "execution_count": null,
   "metadata": {},
   "outputs": [],
   "source": [
    "ind = 10\n",
    "row3 = mega_l['d03'].iloc[ind]\n",
    "row4 = mega_l['d04'].iloc[ind]"
   ]
  },
  {
   "cell_type": "code",
   "execution_count": null,
   "metadata": {},
   "outputs": [],
   "source": [
    "nds3 = get_nds(row3)\n",
    "nds4 = get_nds(row4)"
   ]
  },
  {
   "cell_type": "code",
   "execution_count": null,
   "metadata": {},
   "outputs": [],
   "source": [
    "def get_fun(fun):\n",
    "    res = np.array([fun(i).values for i in [nds3, nds4]])\n",
    "    return res"
   ]
  },
  {
   "cell_type": "code",
   "execution_count": null,
   "metadata": {},
   "outputs": [],
   "source": [
    "\n"
   ]
  },
  {
   "cell_type": "code",
   "execution_count": null,
   "metadata": {},
   "outputs": [],
   "source": [
    "fig.savefig('/tmp/fig.pdf')"
   ]
  },
  {
   "cell_type": "code",
   "execution_count": null,
   "metadata": {},
   "outputs": [],
   "source": [
    "\n"
   ]
  },
  {
   "cell_type": "code",
   "execution_count": null,
   "metadata": {
    "lines_to_next_cell": 3
   },
   "outputs": [],
   "source": []
  },
  {
   "cell_type": "code",
   "execution_count": null,
   "metadata": {},
   "outputs": [],
   "source": []
  },
  {
   "cell_type": "code",
   "execution_count": null,
   "metadata": {},
   "outputs": [],
   "source": []
  }
 ],
 "metadata": {
  "jupytext": {
   "formats": "ipynb,py:percent",
   "text_representation": {
    "extension": ".py",
    "format_name": "percent",
    "format_version": "1.2",
    "jupytext_version": "0.8.6"
   }
  },
  "kernelspec": {
   "display_name": "Python 3",
   "language": "python",
   "name": "python3"
  },
  "language_info": {
   "codemirror_mode": {
    "name": "ipython",
    "version": 3
   },
   "file_extension": ".py",
   "mimetype": "text/x-python",
   "name": "python",
   "nbconvert_exporter": "python",
   "pygments_lexer": "ipython3",
   "version": "3.6.7"
  }
 },
 "nbformat": 4,
 "nbformat_minor": 2
}
