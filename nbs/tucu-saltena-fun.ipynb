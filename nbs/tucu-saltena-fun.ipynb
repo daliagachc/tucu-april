{
 "cells": [
  {
   "cell_type": "code",
   "execution_count": 82,
   "metadata": {},
   "outputs": [],
   "source": [
    "from di_python.scalebar import scale_bar "
   ]
  },
  {
   "cell_type": "code",
   "execution_count": 136,
   "metadata": {},
   "outputs": [],
   "source": [
    "import importlib\n",
    "import di_python\n",
    "import di_python.ya_esta as ye"
   ]
  },
  {
   "cell_type": "code",
   "execution_count": 136,
   "metadata": {},
   "outputs": [
    {
     "data": {
      "text/plain": [
       "[-68.131389, -16.353333]"
      ]
     },
     "execution_count": 136,
     "metadata": {},
     "output_type": "execute_result"
    }
   ],
   "source": [
    "importlib.reload(ye)\n",
    "ye.LOLA_CHC"
   ]
  },
  {
   "cell_type": "code",
   "execution_count": 40,
   "metadata": {},
   "outputs": [],
   "source": [
    "def get_lola(path):\n",
    "    file_ds = netcdf_dataset(path, 'r')\n",
    "    latds = wrf.getvar(file_ds,\"XLAT\")\n",
    "    la,lo=wrf.latlon_coords(latds)\n",
    "    la0=la.values[0,0]\n",
    "    la1=la.values[-1,-1]\n",
    "    lo0=lo.values[0,0]\n",
    "    lo1=lo.values[-1,-1]\n",
    "    return lo0,lo1,la0,la1\n",
    "\n",
    "\n"
   ]
  },
  {
   "cell_type": "code",
   "execution_count": 44,
   "metadata": {},
   "outputs": [],
   "source": [
    "def ax_draw_sq(ax,lola):\n",
    "    lo0,lo1,la0,la1 = lola\n",
    "   \n",
    "    ax.plot(\n",
    "        [lo0,lo0,lo1,lo1,lo0],\n",
    "        [la0,la1,la1,la0,la0],\n",
    "        transform=cartopy.crs.PlateCarree(),\n",
    "        c='black'\n",
    "        )\n",
    "    \n",
    "    return ax"
   ]
  }
 ],
 "metadata": {
  "kernelspec": {
   "display_name": "Python 3",
   "language": "python",
   "name": "python3"
  },
  "language_info": {
   "codemirror_mode": {
    "name": "ipython",
    "version": 3
   },
   "file_extension": ".py",
   "mimetype": "text/x-python",
   "name": "python",
   "nbconvert_exporter": "python",
   "pygments_lexer": "ipython3",
   "version": "3.6.6"
  }
 },
 "nbformat": 4,
 "nbformat_minor": 2
}
