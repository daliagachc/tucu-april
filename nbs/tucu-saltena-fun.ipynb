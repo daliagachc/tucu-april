{
 "cells": [
  {
   "cell_type": "markdown",
   "metadata": {},
   "source": [
    "# Imports"
   ]
  },
  {
   "cell_type": "code",
   "execution_count": 2,
   "metadata": {},
   "outputs": [],
   "source": [
    "from di_python.scalebar import scale_bar "
   ]
  },
  {
   "cell_type": "code",
   "execution_count": 98,
   "metadata": {},
   "outputs": [],
   "source": [
    "import os\n",
    "import glob\n",
    "import pandas as pd\n",
    "import matplotlib.pyplot as plt\n",
    "from netCDF4 import Dataset as netcdf_dataset\n",
    "import netCDF4\n",
    "import cartopy.geodesic as cge\n",
    "import wrf"
   ]
  },
  {
   "cell_type": "code",
   "execution_count": 3,
   "metadata": {},
   "outputs": [],
   "source": [
    "import importlib\n",
    "import di_python\n",
    "import di_python.ya_esta as ye"
   ]
  },
  {
   "cell_type": "code",
   "execution_count": 4,
   "metadata": {},
   "outputs": [
    {
     "data": {
      "text/plain": [
       "[-68.131389, -16.353333]"
      ]
     },
     "execution_count": 4,
     "metadata": {},
     "output_type": "execute_result"
    }
   ],
   "source": [
    "importlib.reload(ye)\n",
    "ye.LOLA_CHC"
   ]
  },
  {
   "cell_type": "markdown",
   "metadata": {},
   "source": [
    "# Constants "
   ]
  },
  {
   "cell_type": "code",
   "execution_count": 31,
   "metadata": {},
   "outputs": [],
   "source": [
    "REF_LAT = -17\n",
    "REF_LON = -66.3\n",
    "REF_LOLA = [REF_LON, REF_LAT]"
   ]
  },
  {
   "cell_type": "markdown",
   "metadata": {},
   "source": [
    "# Functions  "
   ]
  },
  {
   "cell_type": "code",
   "execution_count": 40,
   "metadata": {},
   "outputs": [],
   "source": [
    "def get_lola(path):\n",
    "    file_ds = netcdf_dataset(path, 'r')\n",
    "    latds = wrf.getvar(file_ds,\"XLAT\")\n",
    "    la,lo=wrf.latlon_coords(latds)\n",
    "    la0=la.values[0,0]\n",
    "    la1=la.values[-1,-1]\n",
    "    lo0=lo.values[0,0]\n",
    "    lo1=lo.values[-1,-1]\n",
    "    return lo0,lo1,la0,la1\n",
    "\n",
    "\n"
   ]
  },
  {
   "cell_type": "code",
   "execution_count": 44,
   "metadata": {},
   "outputs": [],
   "source": [
    "def ax_draw_sq(ax,lola):\n",
    "    lo0,lo1,la0,la1 = lola\n",
    "   \n",
    "    ax.plot(\n",
    "        [lo0,lo0,lo1,lo1,lo0],\n",
    "        [la0,la1,la1,la0,la0],\n",
    "        transform=cartopy.crs.PlateCarree(),\n",
    "        c='black'\n",
    "        )\n",
    "    \n",
    "    return ax"
   ]
  },
  {
   "cell_type": "code",
   "execution_count": 35,
   "metadata": {},
   "outputs": [],
   "source": [
    "def lola_plus_dis(lola,ang,dis_m):\n",
    "    geo = cge.Geodesic()\n",
    "    res = geo.direct(lola, ang, dis_m).base\n",
    "    return res"
   ]
  },
  {
   "cell_type": "markdown",
   "metadata": {},
   "source": [
    "# Playground "
   ]
  }
 ],
 "metadata": {
  "kernelspec": {
   "display_name": "Python 3",
   "language": "python",
   "name": "python3"
  },
  "language_info": {
   "codemirror_mode": {
    "name": "ipython",
    "version": 3
   },
   "file_extension": ".py",
   "mimetype": "text/x-python",
   "name": "python",
   "nbconvert_exporter": "python",
   "pygments_lexer": "ipython3",
   "version": "3.6.7"
  }
 },
 "nbformat": 4,
 "nbformat_minor": 2
}
