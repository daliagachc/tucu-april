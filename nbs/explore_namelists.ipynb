{
 "cells": [
  {
   "cell_type": "code",
   "execution_count": null,
   "metadata": {},
   "outputs": [],
   "source": [
    "import f90nml"
   ]
  },
  {
   "cell_type": "code",
   "execution_count": null,
   "metadata": {},
   "outputs": [],
   "source": [
    "file_path = '../namelist.wps'\n",
    "inp = f90nml.read(file_path)"
   ]
  },
  {
   "cell_type": "code",
   "execution_count": null,
   "metadata": {},
   "outputs": [],
   "source": [
    "doms = 4\n",
    "start_date = '2018-04-05_06:00:00'\n",
    "end_date = '2018-04-08_06:00:00'\n",
    "interval_seconds = 6*3600 # seconds\n",
    "history_interval = 10 #minutes\n",
    "time_step = 90 #secs for wrf. higher number produced error "
   ]
  },
  {
   "cell_type": "code",
   "execution_count": null,
   "metadata": {},
   "outputs": [],
   "source": [
    "shar = inp['share']\n",
    "\n",
    "shar['start_date']=[start_date]*doms \n",
    "shar['end_date']=[end_date]*doms \n",
    "shar['interval_seconds']=interval_seconds \n",
    "\n",
    "geo = inp['geogrid']\n",
    "geo['parent_grid_ratio'] = [1,4,3,3]\n",
    "geo['i_parent_start'] = [1,28,80,61]\n",
    "geo['j_parent_start'] = [1,18,65,110]\n",
    "\n",
    "geo['e_we']= [118, 253, 274, 151]\n",
    "geo['e_sn']= [86, 205, 214, 151]\n",
    "geo['e_vert']= [50, 50, 50, 50]\n",
    "geo['dx']= 38000\n",
    "geo['dy']= 38000\n",
    "geo['map_proj']= 'mercator'\n",
    "geo['ref_lat']= -17\n",
    "geo['ref_lon']= -66.3\n",
    "geo['stand_lon']= geo['ref_lon']\n",
    "\n",
    "ung = inp['ungrib']\n",
    "\n",
    "ung['prefix'] = 'PRESSURE'\n",
    "ung['prefix'] = 'SURFACE'\n",
    "\n",
    "met = inp['metgrid']\n",
    "met['fg_name'] = ['SURFACE','PRESSURE']\n"
   ]
  },
  {
   "cell_type": "code",
   "execution_count": null,
   "metadata": {},
   "outputs": [],
   "source": [
    "inp"
   ]
  },
  {
   "cell_type": "code",
   "execution_count": null,
   "metadata": {},
   "outputs": [],
   "source": [
    "f90nml.write(inp,file_path,force=True)"
   ]
  },
  {
   "cell_type": "markdown",
   "metadata": {},
   "source": [
    "# namelist.input "
   ]
  },
  {
   "cell_type": "code",
   "execution_count": null,
   "metadata": {},
   "outputs": [],
   "source": [
    "wrf_namelist = '../namelist.input'\n",
    "inp_wrf = f90nml.read(wrf_namelist)"
   ]
  },
  {
   "cell_type": "code",
   "execution_count": null,
   "metadata": {},
   "outputs": [],
   "source": [
    "import datetime"
   ]
  },
  {
   "cell_type": "code",
   "execution_count": null,
   "metadata": {},
   "outputs": [],
   "source": [
    "def str2dat(st): \n",
    "    dt = datetime.datetime.strptime(st,'%Y-%m-%d_%H:%M:%S')\n",
    "    return dt \n",
    "\n",
    "start_dt = str2dat(start_date)\n",
    "s_y = start_dt.year\n",
    "s_m = start_dt.month\n",
    "s_d = start_dt.day\n",
    "s_h = start_dt.hour\n",
    "\n",
    "end_dt = str2dat(end_date)\n",
    "e_y = end_dt.year\n",
    "e_m = end_dt.month\n",
    "e_d = end_dt.day\n",
    "e_h = end_dt.hour"
   ]
  },
  {
   "cell_type": "code",
   "execution_count": null,
   "metadata": {},
   "outputs": [],
   "source": [
    "tc_wrf = inp_wrf['time_control']\n",
    "\n",
    "tc_wrf['start_year'] = [s_y]*doms\n",
    "tc_wrf['start_month'] = [s_m]*doms\n",
    "tc_wrf['start_day'] = [s_d]*doms\n",
    "tc_wrf['start_hour'] = [s_h]*doms\n",
    "\n",
    "tc_wrf['end_year'] = [e_y]*doms\n",
    "tc_wrf['end_month'] = [e_m]*doms\n",
    "tc_wrf['end_day'] = [e_d]*doms\n",
    "tc_wrf['end_hour'] = [e_h]*doms\n",
    "\n",
    "tc_wrf['interval_seconds'] = interval_seconds\n",
    "tc_wrf['history_interval'] = [history_interval]*4\n",
    "\n",
    "do_wrf = inp_wrf['domains']\n",
    "\n",
    "do_wrf['time_step'] = time_step \n",
    "do_wrf['e_we'] = geo['e_we'] \n",
    "do_wrf['e_sn'] = geo['e_sn'] \n",
    "\n",
    "acc_rat_list = [geo['parent_grid_ratio'][0]]\n",
    "for i,n in enumerate(geo['parent_grid_ratio'][1:]):\n",
    "    nn = geo['parent_grid_ratio'][i+1] * acc_rat_list[i]\n",
    "    acc_rat_list.append(nn)\n",
    "    \n",
    "do_wrf['dx'] = list(np.round(\n",
    "    np.array(geo['dx'])/acc_rat_list,\n",
    "    4))\n",
    "do_wrf['dy'] = list(np.round(\n",
    "    np.array(geo['dy'])/acc_rat_list,\n",
    "    4))\n",
    "\n",
    "do_wrf['parent_id'] = geo['parent_id']\n",
    "do_wrf['parent_grid_ratio'] = geo['parent_grid_ratio']\n",
    "do_wrf['i_parent_start'] = geo['i_parent_start']\n",
    "do_wrf['j_parent_start'] = geo['j_parent_start']\n",
    "do_wrf['parent_time_step_ratio'] = geo['parent_grid_ratio'] #copying from thomas\n",
    "\n",
    "\n",
    "inp_wrf"
   ]
  },
  {
   "cell_type": "code",
   "execution_count": null,
   "metadata": {},
   "outputs": [],
   "source": [
    "f90nml.write(inp_wrf,wrf_namelist,force=True)"
   ]
  },
  {
   "cell_type": "code",
   "execution_count": null,
   "metadata": {},
   "outputs": [],
   "source": []
  }
 ],
 "metadata": {
  "jupytext": {
   "text_representation": {
    "extension": ".py",
    "format_name": "light",
    "format_version": "1.3",
    "jupytext_version": "0.8.6"
   }
  },
  "kernelspec": {
   "display_name": "Python 3",
   "language": "python",
   "name": "python3"
  }
 },
 "nbformat": 4,
 "nbformat_minor": 2
}
