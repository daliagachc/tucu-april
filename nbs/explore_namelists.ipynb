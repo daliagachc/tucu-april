{
 "cells": [
  {
   "cell_type": "code",
   "execution_count": 2,
   "metadata": {},
   "outputs": [],
   "source": [
    "import f90nml"
   ]
  },
  {
   "cell_type": "code",
   "execution_count": 50,
   "metadata": {},
   "outputs": [],
   "source": [
    "file_path = '../namelist.wps'\n",
    "inp = f90nml.read(file_path)"
   ]
  },
  {
   "cell_type": "code",
   "execution_count": 117,
   "metadata": {},
   "outputs": [],
   "source": [
    "doms = 4\n",
    "start_date = '2018-04-05_06:00:00'\n",
    "end_date = '2018-04-08_06:00:00'\n",
    "interval_seconds = 6*3600 # seconds\n",
    "history_interval = 60 #minutes\n",
    "time_step = 90 #secs for wrf. higher number produced error "
   ]
  },
  {
   "cell_type": "code",
   "execution_count": 84,
   "metadata": {},
   "outputs": [],
   "source": [
    "shar = inp['share']\n",
    "\n",
    "shar['start_date']=[start_date]*doms \n",
    "shar['end_date']=[end_date]*doms \n",
    "shar['interval_seconds']=interval_seconds \n",
    "\n",
    "geo = inp['geogrid']\n",
    "geo['parent_grid_ratio'] = [1,4,3,3]\n",
    "geo['i_parent_start'] = [1,28,80,70]\n",
    "geo['j_parent_start'] = [1,18,65,122]\n",
    "\n",
    "geo['e_we']= [118, 253, 274, 100]\n",
    "geo['e_sn']= [86, 205, 214, 79]\n",
    "geo['dx']= 38000\n",
    "geo['dy']= 38000\n",
    "geo['map_proj']= 'mercator'\n",
    "geo['ref_lat']= -17\n",
    "geo['ref_lon']= -66.3\n",
    "geo['stand_lon']= geo['ref_lon']\n",
    "\n",
    "ung = inp['ungrib']\n",
    "\n",
    "ung['prefix'] = 'PRESSURE'\n",
    "ung['prefix'] = 'SURFACE'\n",
    "\n",
    "met = inp['metgrid']\n",
    "met['fg_name'] = ['SURFACE','PRESSURE']\n"
   ]
  },
  {
   "cell_type": "code",
   "execution_count": 85,
   "metadata": {},
   "outputs": [
    {
     "data": {
      "text/plain": [
       "Namelist([('share',\n",
       "           Namelist([('wrf_core', 'ARW'),\n",
       "                     ('max_dom', 4),\n",
       "                     ('start_date',\n",
       "                      ['2018-04-05_06:00:00',\n",
       "                       '2018-04-05_06:00:00',\n",
       "                       '2018-04-05_06:00:00',\n",
       "                       '2018-04-05_06:00:00']),\n",
       "                     ('end_date',\n",
       "                      ['2018-04-08_06:00:00',\n",
       "                       '2018-04-08_06:00:00',\n",
       "                       '2018-04-08_06:00:00',\n",
       "                       '2018-04-08_06:00:00']),\n",
       "                     ('interval_seconds', 21600),\n",
       "                     ('io_form_geogrid', 2)])),\n",
       "          ('geogrid',\n",
       "           Namelist([('parent_id', [1, 1, 2, 3]),\n",
       "                     ('parent_grid_ratio', [1, 4, 3, 3]),\n",
       "                     ('i_parent_start', [1, 28, 80, 70]),\n",
       "                     ('j_parent_start', [1, 18, 65, 122]),\n",
       "                     ('e_we', [118, 253, 274, 100]),\n",
       "                     ('e_sn', [86, 205, 214, 79]),\n",
       "                     ('geog_data_res',\n",
       "                      ['default', 'default', 'default', 'default']),\n",
       "                     ('dx', 38000),\n",
       "                     ('dy', 38000),\n",
       "                     ('map_proj', 'mercator'),\n",
       "                     ('ref_lat', -17),\n",
       "                     ('ref_lon', -66.3),\n",
       "                     ('truelat1', 30.0),\n",
       "                     ('truelat2', 60.0),\n",
       "                     ('stand_lon', -66.3),\n",
       "                     ('geog_data_path', '/proj/atm/WRF/WPS_GEOG/')])),\n",
       "          ('ungrib', Namelist([('out_format', 'WPS'), ('prefix', 'SURFACE')])),\n",
       "          ('metgrid',\n",
       "           Namelist([('fg_name', ['SURFACE', 'PRESSURE']),\n",
       "                     ('io_form_metgrid', 2)]))])"
      ]
     },
     "execution_count": 85,
     "metadata": {},
     "output_type": "execute_result"
    }
   ],
   "source": [
    "inp"
   ]
  },
  {
   "cell_type": "code",
   "execution_count": 86,
   "metadata": {},
   "outputs": [],
   "source": [
    "f90nml.write(inp,file_path,force=True)"
   ]
  },
  {
   "cell_type": "markdown",
   "metadata": {},
   "source": [
    "# namelist.input "
   ]
  },
  {
   "cell_type": "code",
   "execution_count": 128,
   "metadata": {},
   "outputs": [],
   "source": [
    "wrf_namelist = '../namelist.input'\n",
    "inp_wrf = f90nml.read(wrf_namelist)"
   ]
  },
  {
   "cell_type": "code",
   "execution_count": 129,
   "metadata": {},
   "outputs": [],
   "source": [
    "import datetime"
   ]
  },
  {
   "cell_type": "code",
   "execution_count": 130,
   "metadata": {},
   "outputs": [],
   "source": [
    "def str2dat(st): \n",
    "    dt = datetime.datetime.strptime(st,'%Y-%m-%d_%H:%M:%S')\n",
    "    return dt \n",
    "\n",
    "start_dt = str2dat(start_date)\n",
    "s_y = start_dt.year\n",
    "s_m = start_dt.month\n",
    "s_d = start_dt.day\n",
    "s_h = start_dt.hour\n",
    "\n",
    "end_dt = str2dat(end_date)\n",
    "e_y = end_dt.year\n",
    "e_m = end_dt.month\n",
    "e_d = end_dt.day\n",
    "e_h = end_dt.hour"
   ]
  },
  {
   "cell_type": "code",
   "execution_count": 155,
   "metadata": {},
   "outputs": [
    {
     "data": {
      "text/plain": [
       "Namelist([('time_control',\n",
       "           Namelist([('run_days', 0),\n",
       "                     ('run_hours', 0),\n",
       "                     ('run_minutes', 0),\n",
       "                     ('run_seconds', 0),\n",
       "                     ('start_year', [2018, 2018, 2018, 2018]),\n",
       "                     ('start_month', [4, 4, 4, 4]),\n",
       "                     ('start_day', [5, 5, 5, 5]),\n",
       "                     ('start_hour', [6, 6, 6, 6]),\n",
       "                     ('end_year', [2018, 2018, 2018, 2018]),\n",
       "                     ('end_month', [4, 4, 4, 4]),\n",
       "                     ('end_day', [8, 8, 8, 8]),\n",
       "                     ('end_hour', [6, 6, 6, 6]),\n",
       "                     ('interval_seconds', 21600),\n",
       "                     ('input_from_file', [True, True, True, True]),\n",
       "                     ('history_interval', 60),\n",
       "                     ('frames_per_outfile', [1, 1, 1, 1]),\n",
       "                     ('restart', False),\n",
       "                     ('restart_interval', 360),\n",
       "                     ('io_form_history', 2),\n",
       "                     ('io_form_restart', 2),\n",
       "                     ('io_form_input', 2),\n",
       "                     ('io_form_boundary', 2),\n",
       "                     ('debug_level', 0)])),\n",
       "          ('domains',\n",
       "           Namelist([('time_step', 90),\n",
       "                     ('time_step_fract_num', 0),\n",
       "                     ('time_step_fract_den', 1),\n",
       "                     ('max_dom', 4),\n",
       "                     ('e_we', [118, 253, 274, 100]),\n",
       "                     ('e_sn', [86, 205, 214, 79]),\n",
       "                     ('e_vert', [33, 33, 33, 33]),\n",
       "                     ('p_top_requested', 5000),\n",
       "                     ('num_metgrid_levels', 38),\n",
       "                     ('num_metgrid_soil_levels', 4),\n",
       "                     ('dx', [38000.0, 9500.0, 3166.6667, 1055.5556]),\n",
       "                     ('dy', [38000.0, 9500.0, 3166.6667, 1055.5556]),\n",
       "                     ('grid_id', [1, 2, 3, 4]),\n",
       "                     ('parent_id', [1, 1, 2, 3]),\n",
       "                     ('i_parent_start', [1, 28, 80, 70]),\n",
       "                     ('j_parent_start', [1, 18, 65, 122]),\n",
       "                     ('parent_grid_ratio', [1, 4, 3, 3]),\n",
       "                     ('parent_time_step_ratio', [1, 4, 3, 3]),\n",
       "                     ('feedback', 0),\n",
       "                     ('smooth_option', 0)])),\n",
       "          ('physics',\n",
       "           Namelist([('physics_suite', 'tropical'),\n",
       "                     ('mp_physics', [7, 7, 7, 7]),\n",
       "                     ('cu_physics', [3, 3, 0, 0]),\n",
       "                     ('ra_lw_physics', [5, 5, 5, 5]),\n",
       "                     ('ra_sw_physics', [5, 5, 5, 5]),\n",
       "                     ('bl_pbl_physics', [2, 2, 2, 2]),\n",
       "                     ('sf_sfclay_physics', [2, 2, 2, 2]),\n",
       "                     ('sf_surface_physics', [2, 2, 2, 2]),\n",
       "                     ('radt', [30, 10, 3, 1]),\n",
       "                     ('bldt', [0, 0, 0, 0]),\n",
       "                     ('cudt', [5, 5, 5, 5]),\n",
       "                     ('icloud', 1),\n",
       "                     ('num_land_cat', 21),\n",
       "                     ('sf_urban_physics', [0, 0, 0, 0]),\n",
       "                     ('cam_abs_freq_s', 21600),\n",
       "                     ('levsiz', 59),\n",
       "                     ('paerlev', 29),\n",
       "                     ('cam_abs_dim1', 4),\n",
       "                     ('cam_abs_dim2', 45),\n",
       "                     ('isfflx', 1),\n",
       "                     ('ifsnow', 1),\n",
       "                     ('seaice_threshold', 263.0),\n",
       "                     ('surface_input_source', 1),\n",
       "                     ('num_soil_layers', 4),\n",
       "                     ('rdmaxalb', True),\n",
       "                     ('mp_zero_out', 0),\n",
       "                     ('maxiens', 1),\n",
       "                     ('maxens', 3),\n",
       "                     ('maxens2', 3),\n",
       "                     ('maxens3', 16),\n",
       "                     ('ensdim', 144),\n",
       "                     ('sst_update', 1),\n",
       "                     ('slope_rad', [0, 0, 1, 1]),\n",
       "                     ('topo_shading', [0, 0, 1, 1])])),\n",
       "          ('fdda', Namelist()),\n",
       "          ('dynamics',\n",
       "           Namelist([('hybrid_opt', 2),\n",
       "                     ('w_damping', 1),\n",
       "                     ('diff_opt', 1),\n",
       "                     ('km_opt', 4),\n",
       "                     ('diff_6th_opt', [0, 0, 0, 0]),\n",
       "                     ('diff_6th_factor', [0.12, 0.12, 0.12, 0.12]),\n",
       "                     ('base_temp', 290.0),\n",
       "                     ('damp_opt', 3),\n",
       "                     ('zdamp', [5000.0, 5000.0, 5000.0, 5000.0]),\n",
       "                     ('dampcoef', [0.2, 0.2, 0.2, 0.2]),\n",
       "                     ('khdif', [0, 0, 0, 0]),\n",
       "                     ('kvdif', [0, 0, 0, 0]),\n",
       "                     ('non_hydrostatic', [True, True, True, True]),\n",
       "                     ('moist_adv_opt', [1, 1, 1, 1]),\n",
       "                     ('scalar_adv_opt', [1, 1, 1, 1]),\n",
       "                     ('gwd_opt', 1)])),\n",
       "          ('bdy_control',\n",
       "           Namelist([('spec_bdy_width', 5),\n",
       "                     ('specified', [True, False, False, False]),\n",
       "                     ('spec_zone', 1),\n",
       "                     ('relax_zone', 4),\n",
       "                     ('nested', [False, True, True, True])])),\n",
       "          ('grib2', Namelist()),\n",
       "          ('namelist_quilt',\n",
       "           Namelist([('nio_tasks_per_group', 0), ('nio_groups', 1)]))])"
      ]
     },
     "execution_count": 155,
     "metadata": {},
     "output_type": "execute_result"
    }
   ],
   "source": [
    "tc_wrf = inp_wrf['time_control']\n",
    "\n",
    "tc_wrf['start_year'] = [s_y]*doms\n",
    "tc_wrf['start_month'] = [s_m]*doms\n",
    "tc_wrf['start_day'] = [s_d]*doms\n",
    "tc_wrf['start_hour'] = [s_h]*doms\n",
    "\n",
    "tc_wrf['end_year'] = [e_y]*doms\n",
    "tc_wrf['end_month'] = [e_m]*doms\n",
    "tc_wrf['end_day'] = [e_d]*doms\n",
    "tc_wrf['end_hour'] = [e_h]*doms\n",
    "\n",
    "tc_wrf['interval_seconds'] = interval_seconds\n",
    "tc_wrf['history_interval'] = history_interval\n",
    "\n",
    "do_wrf = inp_wrf['domains']\n",
    "\n",
    "do_wrf['time_step'] = time_step \n",
    "do_wrf['e_we'] = geo['e_we'] \n",
    "do_wrf['e_sn'] = geo['e_sn'] \n",
    "\n",
    "acc_rat_list = [geo['parent_grid_ratio'][0]]\n",
    "for i,n in enumerate(geo['parent_grid_ratio'][1:]):\n",
    "    nn = geo['parent_grid_ratio'][i+1] * acc_rat_list[i]\n",
    "    acc_rat_list.append(nn)\n",
    "    \n",
    "do_wrf['dx'] = list(np.round(\n",
    "    np.array(geo['dx'])/acc_rat_list,\n",
    "    4))\n",
    "do_wrf['dy'] = list(np.round(\n",
    "    np.array(geo['dy'])/acc_rat_list,\n",
    "    4))\n",
    "\n",
    "do_wrf['parent_id'] = geo['parent_id']\n",
    "do_wrf['parent_grid_ratio'] = geo['parent_grid_ratio']\n",
    "do_wrf['i_parent_start'] = geo['i_parent_start']\n",
    "do_wrf['j_parent_start'] = geo['j_parent_start']\n",
    "do_wrf['parent_time_step_ratio'] = geo['parent_grid_ratio'] #copying from thomas\n",
    "\n",
    "\n",
    "inp_wrf"
   ]
  },
  {
   "cell_type": "code",
   "execution_count": 152,
   "metadata": {},
   "outputs": [
    {
     "name": "stdout",
     "output_type": "stream",
     "text": [
      "0\n",
      "1\n",
      "2\n"
     ]
    }
   ],
   "source": []
  },
  {
   "cell_type": "code",
   "execution_count": 153,
   "metadata": {},
   "outputs": [
    {
     "data": {
      "text/plain": [
       "[1, 4, 12, 36]"
      ]
     },
     "execution_count": 153,
     "metadata": {},
     "output_type": "execute_result"
    }
   ],
   "source": [
    "acc_rat_list"
   ]
  },
  {
   "cell_type": "code",
   "execution_count": 137,
   "metadata": {},
   "outputs": [],
   "source": [
    "f90nml.write(inp_wrf,wrf_namelist,force=True)"
   ]
  },
  {
   "cell_type": "code",
   "execution_count": null,
   "metadata": {},
   "outputs": [],
   "source": []
  }
 ],
 "metadata": {
  "kernelspec": {
   "display_name": "Python 3",
   "language": "python",
   "name": "python3"
  },
  "language_info": {
   "codemirror_mode": {
    "name": "ipython",
    "version": 3
   },
   "file_extension": ".py",
   "mimetype": "text/x-python",
   "name": "python",
   "nbconvert_exporter": "python",
   "pygments_lexer": "ipython3",
   "version": "3.6.7"
  }
 },
 "nbformat": 4,
 "nbformat_minor": 2
}
