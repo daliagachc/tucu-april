{
 "cells": [
  {
   "cell_type": "code",
   "execution_count": 2,
   "metadata": {},
   "outputs": [],
   "source": [
    "import f90nml"
   ]
  },
  {
   "cell_type": "code",
   "execution_count": 50,
   "metadata": {},
   "outputs": [],
   "source": [
    "file_path = '../namelist.wps'\n",
    "inp = f90nml.read(file_path)"
   ]
  },
  {
   "cell_type": "code",
   "execution_count": 77,
   "metadata": {},
   "outputs": [],
   "source": [
    "doms = 4\n",
    "start_date = '2018-04-05_06:00:00'\n",
    "end_date = '2018-04-08_06:00:00'\n",
    "interval_seconds = 6*3600"
   ]
  },
  {
   "cell_type": "code",
   "execution_count": 81,
   "metadata": {},
   "outputs": [],
   "source": [
    "shar = inp['share']\n",
    "\n",
    "shar['start_date']=[start_date]*doms \n",
    "shar['end_date']=[end_date]*doms \n",
    "shar['interval_seconds']=interval_seconds \n",
    "\n",
    "geo = inp['geogrid']\n",
    "geo['parent_grid_ratio'] = [1,4,3,3]\n",
    "geo['i_parent_start'] = [1,28,80,70]\n",
    "geo['j_parent_start'] = [1,18,65,122]\n",
    "\n",
    "geo['e_we']= [118, 253, 274, 100]\n",
    "geo['e_sn']= [86, 205, 214, 79]\n",
    "geo['dx']= 38000\n",
    "geo['dy']= 38000\n",
    "geo['map_proj']= 'mercator'\n",
    "geo['ref_lat']= -17\n",
    "geo['ref_lon']= -66.3\n",
    "geo['stand_lon']= geo['ref_lon']\n",
    "\n",
    "ung = inp['ungrib']\n",
    "\n",
    "ung['prefix'] = 'PRESSURE'\n",
    "ung['prefix'] = 'SURFACE'\n",
    "\n",
    "met = inp['metgrid']\n",
    "met['fg_name'] = ['SURFACE','PRESSURE']\n"
   ]
  },
  {
   "cell_type": "code",
   "execution_count": 82,
   "metadata": {},
   "outputs": [
    {
     "data": {
      "text/plain": [
       "Namelist([('share',\n",
       "           Namelist([('wrf_core', 'ARW'),\n",
       "                     ('max_dom', 4),\n",
       "                     ('start_date',\n",
       "                      ['2018-04-05_06:00:00',\n",
       "                       '2018-04-05_06:00:00',\n",
       "                       '2018-04-05_06:00:00',\n",
       "                       '2018-04-05_06:00:00']),\n",
       "                     ('end_date',\n",
       "                      ['2018-04-08_06:00:00',\n",
       "                       '2018-04-08_06:00:00',\n",
       "                       '2018-04-08_06:00:00',\n",
       "                       '2018-04-08_06:00:00']),\n",
       "                     ('interval_seconds', 21600),\n",
       "                     ('io_form_geogrid', 2)])),\n",
       "          ('geogrid',\n",
       "           Namelist([('parent_id', [1, 1, 2, 3]),\n",
       "                     ('parent_grid_ratio', [1, 4, 3, 3]),\n",
       "                     ('i_parent_start', [1, 28, 80, 70]),\n",
       "                     ('j_parent_start', [1, 18, 65, 122]),\n",
       "                     ('e_we', [118, 253, 274, 100]),\n",
       "                     ('e_sn', [86, 205, 214, 79]),\n",
       "                     ('geog_data_res',\n",
       "                      ['default', 'default', 'default', 'default']),\n",
       "                     ('dx', 38000),\n",
       "                     ('dy', 38000),\n",
       "                     ('map_proj', 'mercator'),\n",
       "                     ('ref_lat', -17),\n",
       "                     ('ref_lon', -66.3),\n",
       "                     ('truelat1', 30.0),\n",
       "                     ('truelat2', 60.0),\n",
       "                     ('stand_lon', -66.3),\n",
       "                     ('geog_data_path', '/proj/atm/WRF/WPS_GEOG/')])),\n",
       "          ('ungrib',\n",
       "           Namelist([('out_format', 'WPS'), ('prefix', 'PRESSURE')])),\n",
       "          ('metgrid',\n",
       "           Namelist([('fg_name', ['SURFACE', 'PRESSURE']),\n",
       "                     ('io_form_metgrid', 2)]))])"
      ]
     },
     "execution_count": 82,
     "metadata": {},
     "output_type": "execute_result"
    }
   ],
   "source": [
    "inp"
   ]
  },
  {
   "cell_type": "code",
   "execution_count": 83,
   "metadata": {},
   "outputs": [],
   "source": [
    "f90nml.write(inp,file_path,force=True)"
   ]
  },
  {
   "cell_type": "code",
   "execution_count": null,
   "metadata": {},
   "outputs": [],
   "source": []
  }
 ],
 "metadata": {
  "kernelspec": {
   "display_name": "Python 3",
   "language": "python",
   "name": "python3"
  },
  "language_info": {
   "codemirror_mode": {
    "name": "ipython",
    "version": 3
   },
   "file_extension": ".py",
   "mimetype": "text/x-python",
   "name": "python",
   "nbconvert_exporter": "python",
   "pygments_lexer": "ipython3",
   "version": "3.6.7"
  }
 },
 "nbformat": 4,
 "nbformat_minor": 2
}
