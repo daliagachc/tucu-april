{
 "cells": [
  {
   "cell_type": "markdown",
   "metadata": {},
   "source": [
    "# Imports"
   ]
  },
  {
   "cell_type": "code",
   "execution_count": null,
   "metadata": {},
   "outputs": [],
   "source": [
    "import matplotlib\n",
    "import pandas\n",
    "import xarray\n",
    "\n",
    "from di_python.scalebar import scale_bar"
   ]
  },
  {
   "cell_type": "code",
   "execution_count": null,
   "metadata": {},
   "outputs": [],
   "source": [
    "import os\n",
    "import glob\n",
    "import pandas as pd\n",
    "import matplotlib.pyplot as plt\n",
    "from netCDF4 import Dataset as netcdf_dataset\n",
    "import netCDF4\n",
    "import cartopy.geodesic as cge\n",
    "import wrf\n",
    "import cartopy\n",
    "import numpy as np\n",
    "import xarray as xr\n",
    "import di_python.ya_esta as ye"
   ]
  },
  {
   "cell_type": "code",
   "execution_count": null,
   "metadata": {
    "lines_to_next_cell": 2
   },
   "outputs": [],
   "source": []
  },
  {
   "cell_type": "markdown",
   "metadata": {},
   "source": [
    "# Constants "
   ]
  },
  {
   "cell_type": "code",
   "execution_count": null,
   "metadata": {},
   "outputs": [],
   "source": [
    "LANDUSE_DIC = {\n",
    "    1 : 'Evergreen Needleleaf Forest',\n",
    "    2 : 'Evergreen Broadleaf Forest',\n",
    "    3 : 'Deciduous Needleleaf Forest',\n",
    "    4 : 'Deciduous Broadleaf Forest',\n",
    "    5 : 'Mixed Forests',\n",
    "    6 : 'Closed Shrublands',\n",
    "    7 : 'Open Shrublands',\n",
    "    8 : 'Woody Savannas',\n",
    "    9 : 'Savannas',\n",
    "    10: 'Grasslands',\n",
    "    11: 'Permanent Wetlands',\n",
    "    12: 'Croplands',\n",
    "    13: 'Urban and Built-Up',\n",
    "    14: 'Cropland/Natural Vegetation Mosaic',\n",
    "    15: 'Snow and Ice',\n",
    "    16: 'Barren or Sparsely Vegetated',\n",
    "    17: 'Water',\n",
    "    18: 'Wooded Tundra',\n",
    "    19: 'Mixed Tundra',\n",
    "    20: 'Barren Tundra',\n",
    "    21: 'LAKES',\n",
    "}"
   ]
  },
  {
   "cell_type": "code",
   "execution_count": 31,
   "metadata": {
    "lines_to_next_cell": 2
   },
   "outputs": [],
   "source": [
    "REF_LAT = -17\n",
    "REF_LON = -66.3\n",
    "REF_LOLA = [REF_LON, REF_LAT]"
   ]
  },
  {
   "cell_type": "markdown",
   "metadata": {},
   "source": [
    "# Functions  "
   ]
  },
  {
   "cell_type": "code",
   "execution_count": null,
   "metadata": {
    "lines_to_next_cell": 2
   },
   "outputs": [],
   "source": [
    "def get_lola(path):\n",
    "    file_ds = netcdf_dataset(path, 'r')\n",
    "    latds = wrf.getvar(file_ds, \"CLAT\")\n",
    "    la, lo = wrf.latlon_coords(latds)\n",
    "    la0 = la.values[0, 0]\n",
    "    la1 = la.values[-1, -1]\n",
    "    lo0 = lo.values[0, 0]\n",
    "    lo1 = lo.values[-1, -1]\n",
    "    return lo0, lo1, la0, la1"
   ]
  },
  {
   "cell_type": "code",
   "execution_count": null,
   "metadata": {
    "lines_to_next_cell": 2
   },
   "outputs": [],
   "source": [
    "def ax_draw_sq(ax, lola):\n",
    "    lo0, lo1, la0, la1 = lola\n",
    "\n",
    "    ax.plot(\n",
    "        [lo0, lo0, lo1, lo1, lo0],\n",
    "        [la0, la1, la1, la0, la0],\n",
    "        transform=cartopy.crs.PlateCarree(),\n",
    "        c='black'\n",
    "    )\n",
    "\n",
    "    return ax"
   ]
  },
  {
   "cell_type": "code",
   "execution_count": null,
   "metadata": {
    "lines_to_next_cell": 2
   },
   "outputs": [],
   "source": [
    "def lola_plus_dis(lola, ang, dis_m):\n",
    "    geo = cge.Geodesic()\n",
    "    res = geo.direct(lola, ang, dis_m).base\n",
    "    return res"
   ]
  },
  {
   "cell_type": "code",
   "execution_count": null,
   "metadata": {
    "lines_to_next_cell": 2
   },
   "outputs": [],
   "source": [
    "def get_file_list(dir_path, ext='wrfout_d0'):\n",
    "    all_files = pd.DataFrame(os.listdir(dir_path), columns=['name'])\n",
    "    boo = all_files.name.str.contains(ext) & all_files.name.str.contains('d0')\n",
    "    met_em_files = all_files[boo]\n",
    "    met_em_files = met_em_files.sort_values('name')\n",
    "    met_em_files['path'] = met_em_files.apply(\n",
    "        lambda x:\n",
    "        os.path.join(dir_path, x['name']),\n",
    "        axis=1)\n",
    "    met_em_files = met_em_files.reset_index(drop=True)\n",
    "    met_em_files['dom'] = met_em_files.name.str.extract(r'(d0\\d*)')\n",
    "    return met_em_files\n",
    "\n",
    "\n",
    "def wrf_plot_par(wrf_diag, ax, comment=''):\n",
    "    la, lo = wrf.latlon_coords(wrf_diag)\n",
    "\n",
    "    name = wrf_diag.name\n",
    "    dt64 = ye.dt64_2_iso(wrf_diag.Time.values)\n",
    "\n",
    "    #     cart_proj = wrf.get_cartopy(wrf_diag)\n",
    "    ctrans = cartopy.crs.PlateCarree()\n",
    "    #     fig,ax = plt.subplots(subplot_kw={'projection':cart_proj})\n",
    "    fig = ax.get_figure()\n",
    "    mapa = ax.contourf(\n",
    "        wrf.to_np(lo),\n",
    "        wrf.to_np(la),\n",
    "        wrf.to_np(wrf_diag),\n",
    "        10,\n",
    "        transform=ctrans,\n",
    "\n",
    "    )\n",
    "\n",
    "    gl = ax.gridlines(color=\"black\", linestyle=\"dotted\", draw_labels=True, crs=ctrans)\n",
    "    gl.xlabels_top = False\n",
    "    gl.ylabels_right = False\n",
    "    gl.xlocator = matplotlib.ticker.MaxNLocator(nbins=5)\n",
    "    gl.ylocator = matplotlib.ticker.MaxNLocator(nbins=5)\n",
    "    ax.set_title('{} {}\\n{} [{}]\\n{}'.format(name, dt64, wrf_diag.description, wrf_diag.units, comment))\n",
    "    cb = plt.colorbar(mapa, ax=ax)\n",
    "    plt.close()\n",
    "    plt.close(fig)\n",
    "    return ax\n",
    "\n",
    "\n",
    "def print_var_starting_with(path, start_string):\n",
    "    xar = xr.open_dataset(path)\n",
    "    ser = pd.Series(list(xar.variables))\n",
    "    li = ser[ser.str.startswith(start_string)]\n",
    "    li = list(li)\n",
    "    for l in li:\n",
    "        va = xar[l]\n",
    "        #     print(va)\n",
    "        try:\n",
    "            des = va.attrs['description']\n",
    "        except:\n",
    "            des = ''\n",
    "        print(l, '-', des)\n",
    "        print('---------------')\n",
    "\n",
    "\n",
    "def get_mega_list(d_string, file_list):\n",
    "    file_list_short = file_list[file_list.dom == d_string]\n",
    "    res = file_list_short.apply(\n",
    "\n",
    "        lambda row: set_dt_to_path(row),\n",
    "        axis=1\n",
    "    )\n",
    "\n",
    "    mega_list = pd.concat(list(res))\n",
    "    return mega_list\n",
    "\n",
    "def set_dt_to_path(row):\n",
    "    path = row.path\n",
    "    ds = xr.open_dataset(path)\n",
    "    index = ds.Time.values\n",
    "    dates = ds.XTIME.values\n",
    "    ndw = pd.DataFrame({'date':dates,'wrf_index':index})\n",
    "    ndw = ndw.set_index('date')\n",
    "    ndw['name']= row['name']\n",
    "    ndw['dom']= row['dom']\n",
    "    ndw['path']= row['path']\n",
    "    return ndw\n",
    "\n",
    "\n",
    "\n"
   ]
  }
 ],
 "metadata": {
  "jupytext": {
   "formats": "ipynb,py:percent",
   "text_representation": {
    "extension": ".py",
    "format_name": "percent",
    "format_version": "1.2",
    "jupytext_version": "0.8.6"
   }
  },
  "kernelspec": {
   "display_name": "Python 3",
   "language": "python",
   "name": "python3"
  },
  "language_info": {
   "codemirror_mode": {
    "name": "ipython",
    "version": 3
   },
   "file_extension": ".py",
   "mimetype": "text/x-python",
   "name": "python",
   "nbconvert_exporter": "python",
   "pygments_lexer": "ipython3",
   "version": "3.6.7"
  }
 },
 "nbformat": 4,
 "nbformat_minor": 2
}
