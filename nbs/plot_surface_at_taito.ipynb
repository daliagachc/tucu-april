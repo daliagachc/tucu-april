{
 "cells": [
  {
   "cell_type": "code",
   "execution_count": 169,
   "metadata": {},
   "outputs": [],
   "source": [
    "import tucu_saltena_fun as fu\n",
    "import di_python.ya_esta as ye\n",
    "import importlib\n",
    "import os\n",
    "importlib.reload(fu);"
   ]
  },
  {
   "cell_type": "code",
   "execution_count": 164,
   "metadata": {},
   "outputs": [
    {
     "name": "stdout",
     "output_type": "stream",
     "text": [
      "mac_diego\n"
     ]
    }
   ],
   "source": [
    "PY_ID = fu.get_py_id()\n",
    "print(PY_ID)"
   ]
  },
  {
   "cell_type": "code",
   "execution_count": 165,
   "metadata": {},
   "outputs": [],
   "source": [
    "if PY_ID=='taito_diego':\n",
    "    TMP_DIR = '/tmp/aliagadi'\n",
    "    dir_path = '../tucu-april-data/WRF/'\n",
    "    plot_path = '/tmp/aliagadi/plots'\n",
    "if PY_ID=='mac_diego':\n",
    "    TMP_DIR = '/tmp/wrf_tmp'\n",
    "    dir_path = '../tucu-april-rm-data/WRF/'\n",
    "    plot_path = '/tmp/wrf_tmp'"
   ]
  },
  {
   "cell_type": "code",
   "execution_count": 166,
   "metadata": {},
   "outputs": [],
   "source": [
    "\n",
    "file_list = fu.get_file_list(dir_path, ext='wrfout')"
   ]
  },
  {
   "cell_type": "code",
   "execution_count": 11,
   "metadata": {},
   "outputs": [],
   "source": [
    "dd=['d01','d02','d03','d04']\n",
    "mega_l={}\n",
    "for d in dd:\n",
    "    mega_l[d]=fu.get_mega_list(d,file_list)"
   ]
  },
  {
   "cell_type": "code",
   "execution_count": 117,
   "metadata": {},
   "outputs": [],
   "source": [
    "d_pairs = [\n",
    "    {'d3':'d01','d4':'d02','par':.2},\n",
    "    {'d3':'d02','d4':'d03','par':.2},\n",
    "    {'d3':'d03','d4':'d04','par':.5},\n",
    "    ]"
   ]
  },
  {
   "cell_type": "code",
   "execution_count": 175,
   "metadata": {},
   "outputs": [],
   "source": [
    "iind = len(mega_l['d01'])\n",
    "di = 3"
   ]
  },
  {
   "cell_type": "code",
   "execution_count": null,
   "metadata": {},
   "outputs": [
    {
     "name": "stdout",
     "output_type": "stream",
     "text": [
      "d01-d02_t-0.png\n",
      "/tmp/wrf_tmp/d01-d02\n",
      "/tmp/wrf_tmp/d01-d02/d01-d02_t-0.png\n"
     ]
    }
   ],
   "source": [
    "for ind in range(iind):\n",
    "    for dic_i in range(di):\n",
    "        fu.save_plots_double_domain(\n",
    "           dic_i    =dic_i    ,      \n",
    "           ind      =ind      ,       \n",
    "           plot_path=plot_path, \n",
    "           d_pairs  =d_pairs  ,  \n",
    "           mega_l   =mega_l   , \n",
    "        )\n",
    "        "
   ]
  },
  {
   "cell_type": "code",
   "execution_count": 170,
   "metadata": {},
   "outputs": [
    {
     "name": "stdout",
     "output_type": "stream",
     "text": [
      "d03-d04_t-90.png\n",
      "/tmp/wrf_tmp/d03-d04\n",
      "/tmp/wrf_tmp/d03-d04/d03-d04_t-90.png\n"
     ]
    }
   ],
   "source": []
  },
  {
   "cell_type": "code",
   "execution_count": null,
   "metadata": {},
   "outputs": [],
   "source": []
  }
 ],
 "metadata": {
  "jupytext": {
   "main_language": "python",
   "text_representation": {
    "extension": ".py",
    "format_name": "percent",
    "format_version": "1.2",
    "jupytext_version": "0.8.6"
   }
  },
  "kernelspec": {
   "display_name": "Python 3",
   "language": "python",
   "name": "python3"
  },
  "language_info": {
   "codemirror_mode": {
    "name": "ipython",
    "version": 3
   },
   "file_extension": ".py",
   "mimetype": "text/x-python",
   "name": "python",
   "nbconvert_exporter": "python",
   "pygments_lexer": "ipython3",
   "version": "3.6.7"
  }
 },
 "nbformat": 4,
 "nbformat_minor": 2
}
