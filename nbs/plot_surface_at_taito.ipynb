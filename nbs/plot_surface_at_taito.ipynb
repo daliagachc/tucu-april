{
 "cells": [
  {
   "cell_type": "code",
   "execution_count": 203,
   "metadata": {},
   "outputs": [],
   "source": [
    "import tucu_saltena_fun as fu\n",
    "import di_python.ya_esta as ye\n",
    "import importlib\n",
    "import os\n",
    "importlib.reload(fu);"
   ]
  },
  {
   "cell_type": "code",
   "execution_count": 191,
   "metadata": {},
   "outputs": [
    {
     "name": "stdout",
     "output_type": "stream",
     "text": [
      "mac_diego\n"
     ]
    }
   ],
   "source": [
    "PY_ID = fu.get_py_id()\n",
    "print(PY_ID)"
   ]
  },
  {
   "cell_type": "code",
   "execution_count": 192,
   "metadata": {},
   "outputs": [],
   "source": [
    "if PY_ID=='taito_diego':\n",
    "    TMP_DIR = '/tmp/aliagadi'\n",
    "    dir_path = '../tucu-april-data/WRF/'\n",
    "    plot_path = '/tmp/aliagadi/plots'\n",
    "if PY_ID=='mac_diego':\n",
    "    TMP_DIR = '/tmp/wrf_tmp'\n",
    "    dir_path = '../tucu-april-rm-data/WRF/'\n",
    "    plot_path = '/tmp/wrf_tmp'"
   ]
  },
  {
   "cell_type": "code",
   "execution_count": 193,
   "metadata": {},
   "outputs": [],
   "source": [
    "\n",
    "file_list = fu.get_file_list(dir_path, ext='wrfout')"
   ]
  },
  {
   "cell_type": "code",
   "execution_count": 194,
   "metadata": {},
   "outputs": [],
   "source": [
    "dd=['d01','d02','d03','d04']\n",
    "mega_l={}\n",
    "for d in dd:\n",
    "    mega_l[d]=fu.get_mega_list(d,file_list)"
   ]
  },
  {
   "cell_type": "code",
   "execution_count": 195,
   "metadata": {},
   "outputs": [],
   "source": [
    "d_pairs = [\n",
    "    {'d3':'d01','d4':'d02','par':.2},\n",
    "    {'d3':'d02','d4':'d03','par':.2},\n",
    "    {'d3':'d03','d4':'d04','par':.5},\n",
    "    ]"
   ]
  },
  {
   "cell_type": "code",
   "execution_count": 196,
   "metadata": {},
   "outputs": [],
   "source": [
    "iind = len(mega_l['d01'])\n",
    "di = 3"
   ]
  },
  {
   "cell_type": "code",
   "execution_count": 204,
   "metadata": {},
   "outputs": [
    {
     "name": "stdout",
     "output_type": "stream",
     "text": [
      "d01-d02_t-2018-04-05T06:00:00.png\n",
      "/tmp/wrf_tmp/d01-d02\n",
      "/tmp/wrf_tmp/d01-d02/d01-d02_t-2018-04-05T06:00:00.png\n",
      "d02-d03_t-2018-04-05T06:00:00.png\n",
      "/tmp/wrf_tmp/d02-d03\n",
      "/tmp/wrf_tmp/d02-d03/d02-d03_t-2018-04-05T06:00:00.png\n",
      "d03-d04_t-2018-04-05T06:00:00.png\n",
      "/tmp/wrf_tmp/d03-d04\n",
      "/tmp/wrf_tmp/d03-d04/d03-d04_t-2018-04-05T06:00:00.png\n",
      "d01-d02_t-2018-04-05T06:15:00.png\n",
      "/tmp/wrf_tmp/d01-d02\n",
      "/tmp/wrf_tmp/d01-d02/d01-d02_t-2018-04-05T06:15:00.png\n",
      "d02-d03_t-2018-04-05T06:15:00.png\n",
      "/tmp/wrf_tmp/d02-d03\n",
      "/tmp/wrf_tmp/d02-d03/d02-d03_t-2018-04-05T06:15:00.png\n",
      "d03-d04_t-2018-04-05T06:15:00.png\n",
      "/tmp/wrf_tmp/d03-d04\n",
      "/tmp/wrf_tmp/d03-d04/d03-d04_t-2018-04-05T06:15:00.png\n",
      "d01-d02_t-2018-04-05T06:30:00.png\n",
      "/tmp/wrf_tmp/d01-d02\n",
      "/tmp/wrf_tmp/d01-d02/d01-d02_t-2018-04-05T06:30:00.png\n",
      "d02-d03_t-2018-04-05T06:30:00.png\n",
      "/tmp/wrf_tmp/d02-d03\n",
      "/tmp/wrf_tmp/d02-d03/d02-d03_t-2018-04-05T06:30:00.png\n",
      "d03-d04_t-2018-04-05T06:30:00.png\n",
      "/tmp/wrf_tmp/d03-d04\n",
      "/tmp/wrf_tmp/d03-d04/d03-d04_t-2018-04-05T06:30:00.png\n",
      "d01-d02_t-2018-04-05T06:45:00.png\n",
      "/tmp/wrf_tmp/d01-d02\n",
      "/tmp/wrf_tmp/d01-d02/d01-d02_t-2018-04-05T06:45:00.png\n",
      "d02-d03_t-2018-04-05T06:45:00.png\n",
      "/tmp/wrf_tmp/d02-d03\n",
      "/tmp/wrf_tmp/d02-d03/d02-d03_t-2018-04-05T06:45:00.png\n",
      "d03-d04_t-2018-04-05T06:45:00.png\n",
      "/tmp/wrf_tmp/d03-d04\n",
      "/tmp/wrf_tmp/d03-d04/d03-d04_t-2018-04-05T06:45:00.png\n",
      "d01-d02_t-2018-04-05T07:00:00.png\n",
      "/tmp/wrf_tmp/d01-d02\n",
      "/tmp/wrf_tmp/d01-d02/d01-d02_t-2018-04-05T07:00:00.png\n",
      "d02-d03_t-2018-04-05T07:00:00.png\n",
      "/tmp/wrf_tmp/d02-d03\n",
      "/tmp/wrf_tmp/d02-d03/d02-d03_t-2018-04-05T07:00:00.png\n",
      "d03-d04_t-2018-04-05T07:00:00.png\n",
      "/tmp/wrf_tmp/d03-d04\n",
      "/tmp/wrf_tmp/d03-d04/d03-d04_t-2018-04-05T07:00:00.png\n",
      "d01-d02_t-2018-04-05T07:15:00.png\n",
      "/tmp/wrf_tmp/d01-d02\n",
      "/tmp/wrf_tmp/d01-d02/d01-d02_t-2018-04-05T07:15:00.png\n",
      "d02-d03_t-2018-04-05T07:15:00.png\n",
      "/tmp/wrf_tmp/d02-d03\n",
      "/tmp/wrf_tmp/d02-d03/d02-d03_t-2018-04-05T07:15:00.png\n",
      "d03-d04_t-2018-04-05T07:15:00.png\n",
      "/tmp/wrf_tmp/d03-d04\n",
      "/tmp/wrf_tmp/d03-d04/d03-d04_t-2018-04-05T07:15:00.png\n",
      "d01-d02_t-2018-04-05T07:30:00.png\n",
      "/tmp/wrf_tmp/d01-d02\n",
      "/tmp/wrf_tmp/d01-d02/d01-d02_t-2018-04-05T07:30:00.png\n",
      "d02-d03_t-2018-04-05T07:30:00.png\n",
      "/tmp/wrf_tmp/d02-d03\n",
      "/tmp/wrf_tmp/d02-d03/d02-d03_t-2018-04-05T07:30:00.png\n",
      "d03-d04_t-2018-04-05T07:30:00.png\n",
      "/tmp/wrf_tmp/d03-d04\n",
      "/tmp/wrf_tmp/d03-d04/d03-d04_t-2018-04-05T07:30:00.png\n",
      "d01-d02_t-2018-04-05T07:45:00.png\n",
      "/tmp/wrf_tmp/d01-d02\n",
      "/tmp/wrf_tmp/d01-d02/d01-d02_t-2018-04-05T07:45:00.png\n",
      "d02-d03_t-2018-04-05T07:45:00.png\n",
      "/tmp/wrf_tmp/d02-d03\n",
      "/tmp/wrf_tmp/d02-d03/d02-d03_t-2018-04-05T07:45:00.png\n",
      "d03-d04_t-2018-04-05T07:45:00.png\n",
      "/tmp/wrf_tmp/d03-d04\n",
      "/tmp/wrf_tmp/d03-d04/d03-d04_t-2018-04-05T07:45:00.png\n",
      "d01-d02_t-2018-04-05T08:00:00.png\n",
      "/tmp/wrf_tmp/d01-d02\n",
      "/tmp/wrf_tmp/d01-d02/d01-d02_t-2018-04-05T08:00:00.png\n",
      "d02-d03_t-2018-04-05T08:00:00.png\n",
      "/tmp/wrf_tmp/d02-d03\n",
      "/tmp/wrf_tmp/d02-d03/d02-d03_t-2018-04-05T08:00:00.png\n",
      "d03-d04_t-2018-04-05T08:00:00.png\n",
      "/tmp/wrf_tmp/d03-d04\n",
      "/tmp/wrf_tmp/d03-d04/d03-d04_t-2018-04-05T08:00:00.png\n",
      "d01-d02_t-2018-04-05T08:15:00.png\n",
      "/tmp/wrf_tmp/d01-d02\n",
      "/tmp/wrf_tmp/d01-d02/d01-d02_t-2018-04-05T08:15:00.png\n"
     ]
    },
    {
     "ename": "RuntimeError",
     "evalue": "Input/output error",
     "output_type": "error",
     "traceback": [
      "\u001b[0;31m----------------------------------------------------------------------\u001b[0m",
      "\u001b[0;31mRuntimeError\u001b[0m                         Traceback (most recent call last)",
      "\u001b[0;32m<ipython-input-204-4904d55d5901>\u001b[0m in \u001b[0;36m<module>\u001b[0;34m\u001b[0m\n\u001b[1;32m      6\u001b[0m            \u001b[0mplot_path\u001b[0m\u001b[0;34m=\u001b[0m\u001b[0mplot_path\u001b[0m\u001b[0;34m,\u001b[0m\u001b[0;34m\u001b[0m\u001b[0;34m\u001b[0m\u001b[0m\n\u001b[1;32m      7\u001b[0m            \u001b[0md_pairs\u001b[0m  \u001b[0;34m=\u001b[0m\u001b[0md_pairs\u001b[0m  \u001b[0;34m,\u001b[0m\u001b[0;34m\u001b[0m\u001b[0;34m\u001b[0m\u001b[0m\n\u001b[0;32m----> 8\u001b[0;31m            \u001b[0mmega_l\u001b[0m   \u001b[0;34m=\u001b[0m\u001b[0mmega_l\u001b[0m   \u001b[0;34m,\u001b[0m\u001b[0;34m\u001b[0m\u001b[0;34m\u001b[0m\u001b[0m\n\u001b[0m\u001b[1;32m      9\u001b[0m         )\n\u001b[1;32m     10\u001b[0m \u001b[0;34m\u001b[0m\u001b[0m\n",
      "\u001b[0;32m~/tucus/tucu-april/nbs/tucu_saltena_fun.py\u001b[0m in \u001b[0;36msave_plots_double_domain\u001b[0;34m(dic_i, ind, plot_path, d_pairs, mega_l)\u001b[0m\n\u001b[1;32m    298\u001b[0m \u001b[0;34m\u001b[0m\u001b[0m\n\u001b[1;32m    299\u001b[0m     \u001b[0mnds3\u001b[0m \u001b[0;34m=\u001b[0m \u001b[0mwrf\u001b[0m\u001b[0;34m.\u001b[0m\u001b[0mgetvar\u001b[0m\u001b[0;34m(\u001b[0m\u001b[0mnetCDF4\u001b[0m\u001b[0;34m.\u001b[0m\u001b[0mDataset\u001b[0m\u001b[0;34m(\u001b[0m\u001b[0mrow3\u001b[0m\u001b[0;34m.\u001b[0m\u001b[0mpath\u001b[0m\u001b[0;34m)\u001b[0m\u001b[0;34m,\u001b[0m \u001b[0;34m'tc'\u001b[0m\u001b[0;34m,\u001b[0m \u001b[0mtimeidx\u001b[0m\u001b[0;34m=\u001b[0m\u001b[0mrow3\u001b[0m\u001b[0;34m.\u001b[0m\u001b[0mwrf_index\u001b[0m\u001b[0;34m)\u001b[0m\u001b[0;34m[\u001b[0m\u001b[0;36m0\u001b[0m\u001b[0;34m]\u001b[0m\u001b[0;34m\u001b[0m\u001b[0;34m\u001b[0m\u001b[0m\n\u001b[0;32m--> 300\u001b[0;31m     \u001b[0mnds4\u001b[0m \u001b[0;34m=\u001b[0m \u001b[0mwrf\u001b[0m\u001b[0;34m.\u001b[0m\u001b[0mgetvar\u001b[0m\u001b[0;34m(\u001b[0m\u001b[0mnetCDF4\u001b[0m\u001b[0;34m.\u001b[0m\u001b[0mDataset\u001b[0m\u001b[0;34m(\u001b[0m\u001b[0mrow4\u001b[0m\u001b[0;34m.\u001b[0m\u001b[0mpath\u001b[0m\u001b[0;34m)\u001b[0m\u001b[0;34m,\u001b[0m \u001b[0;34m'tc'\u001b[0m\u001b[0;34m,\u001b[0m \u001b[0mtimeidx\u001b[0m\u001b[0;34m=\u001b[0m\u001b[0mrow4\u001b[0m\u001b[0;34m.\u001b[0m\u001b[0mwrf_index\u001b[0m\u001b[0;34m)\u001b[0m\u001b[0;34m[\u001b[0m\u001b[0;36m0\u001b[0m\u001b[0;34m]\u001b[0m\u001b[0;34m\u001b[0m\u001b[0;34m\u001b[0m\u001b[0m\n\u001b[0m\u001b[1;32m    301\u001b[0m \u001b[0;34m\u001b[0m\u001b[0m\n\u001b[1;32m    302\u001b[0m     \u001b[0mmin_since_run\u001b[0m \u001b[0;34m=\u001b[0m \u001b[0mye\u001b[0m\u001b[0;34m.\u001b[0m\u001b[0mdt64_2_iso\u001b[0m\u001b[0;34m(\u001b[0m\u001b[0mnds3\u001b[0m\u001b[0;34m.\u001b[0m\u001b[0mTime\u001b[0m\u001b[0;34m.\u001b[0m\u001b[0mvalues\u001b[0m\u001b[0;34m)\u001b[0m\u001b[0;34m\u001b[0m\u001b[0;34m\u001b[0m\u001b[0m\n",
      "\u001b[0;32m/Volumes/mbProD/anaconda3/lib/python3.6/site-packages/wrf/routines.py\u001b[0m in \u001b[0;36mgetvar\u001b[0;34m(wrfin, varname, timeidx, method, squeeze, cache, meta, **kwargs)\u001b[0m\n\u001b[1;32m    346\u001b[0m \u001b[0;34m\u001b[0m\u001b[0m\n\u001b[1;32m    347\u001b[0m     return _FUNC_MAP[actual_var](wrfin, timeidx, method, squeeze, cache, \n\u001b[0;32m--> 348\u001b[0;31m                                  meta, _key, **kwargs)\n\u001b[0m\u001b[1;32m    349\u001b[0m \u001b[0;34m\u001b[0m\u001b[0m\n",
      "\u001b[0;32m/Volumes/mbProD/anaconda3/lib/python3.6/site-packages/wrf/g_temp.py\u001b[0m in \u001b[0;36mget_tc\u001b[0;34m(wrfin, timeidx, method, squeeze, cache, meta, _key)\u001b[0m\n\u001b[1;32m    511\u001b[0m     \"\"\"\n\u001b[1;32m    512\u001b[0m     return get_temp(wrfin, timeidx, method, squeeze, cache, meta, _key,\n\u001b[0;32m--> 513\u001b[0;31m                     units=\"degC\")\n\u001b[0m\u001b[1;32m    514\u001b[0m \u001b[0;34m\u001b[0m\u001b[0m\n\u001b[1;32m    515\u001b[0m \u001b[0;34m\u001b[0m\u001b[0m\n",
      "\u001b[0;32m/Volumes/mbProD/anaconda3/lib/python3.6/site-packages/wrf/metadecorators.py\u001b[0m in \u001b[0;36mfunc_wrapper\u001b[0;34m(wrapped, instance, args, kwargs)\u001b[0m\n\u001b[1;32m    117\u001b[0m             var_to_copy = extract_vars(wrfin, timeidx, (_copy_varname,), \n\u001b[1;32m    118\u001b[0m                                        \u001b[0mmethod\u001b[0m\u001b[0;34m,\u001b[0m \u001b[0msqueeze\u001b[0m\u001b[0;34m,\u001b[0m \u001b[0mcache\u001b[0m\u001b[0;34m,\u001b[0m\u001b[0;34m\u001b[0m\u001b[0;34m\u001b[0m\u001b[0m\n\u001b[0;32m--> 119\u001b[0;31m                                        meta=True, _key=_key)[_copy_varname]\n\u001b[0m\u001b[1;32m    120\u001b[0m \u001b[0;34m\u001b[0m\u001b[0m\n\u001b[1;32m    121\u001b[0m         \u001b[0;31m# Make a copy so we don't modify a user supplied cache\u001b[0m\u001b[0;34m\u001b[0m\u001b[0;34m\u001b[0m\u001b[0;34m\u001b[0m\u001b[0m\n",
      "\u001b[0;32m/Volumes/mbProD/anaconda3/lib/python3.6/site-packages/wrf/util.py\u001b[0m in \u001b[0;36mextract_vars\u001b[0;34m(wrfin, timeidx, varnames, method, squeeze, cache, meta, _key)\u001b[0m\n\u001b[1;32m   2278\u001b[0m     return {var:_extract_var(wrfin, var, timeidx, None,\n\u001b[1;32m   2279\u001b[0m                              method, squeeze, cache, meta, _key)\n\u001b[0;32m-> 2280\u001b[0;31m             for var in varlist}\n\u001b[0m\u001b[1;32m   2281\u001b[0m \u001b[0;34m\u001b[0m\u001b[0m\n\u001b[1;32m   2282\u001b[0m \u001b[0;34m\u001b[0m\u001b[0m\n",
      "\u001b[0;32m/Volumes/mbProD/anaconda3/lib/python3.6/site-packages/wrf/util.py\u001b[0m in \u001b[0;36m<dictcomp>\u001b[0;34m(.0)\u001b[0m\n\u001b[1;32m   2278\u001b[0m     return {var:_extract_var(wrfin, var, timeidx, None,\n\u001b[1;32m   2279\u001b[0m                              method, squeeze, cache, meta, _key)\n\u001b[0;32m-> 2280\u001b[0;31m             for var in varlist}\n\u001b[0m\u001b[1;32m   2281\u001b[0m \u001b[0;34m\u001b[0m\u001b[0m\n\u001b[1;32m   2282\u001b[0m \u001b[0;34m\u001b[0m\u001b[0m\n",
      "\u001b[0;32m/Volumes/mbProD/anaconda3/lib/python3.6/site-packages/wrf/util.py\u001b[0m in \u001b[0;36m_extract_var\u001b[0;34m(wrfin, varname, timeidx, is_moving, method, squeeze, cache, meta, _key)\u001b[0m\n\u001b[1;32m   2204\u001b[0m                 \u001b[0mis_moving\u001b[0m \u001b[0;34m=\u001b[0m \u001b[0mis_moving_domain\u001b[0m\u001b[0;34m(\u001b[0m\u001b[0mwrfin\u001b[0m\u001b[0;34m,\u001b[0m \u001b[0mvarname\u001b[0m\u001b[0;34m,\u001b[0m \u001b[0m_key\u001b[0m\u001b[0;34m=\u001b[0m\u001b[0m_key\u001b[0m\u001b[0;34m)\u001b[0m\u001b[0;34m\u001b[0m\u001b[0;34m\u001b[0m\u001b[0m\n\u001b[1;32m   2205\u001b[0m             result = _build_data_array(wrfin, varname, timeidx, is_moving,\n\u001b[0;32m-> 2206\u001b[0;31m                                        multifile, _key)\n\u001b[0m\u001b[1;32m   2207\u001b[0m         \u001b[0;32melse\u001b[0m\u001b[0;34m:\u001b[0m\u001b[0;34m\u001b[0m\u001b[0;34m\u001b[0m\u001b[0m\n\u001b[1;32m   2208\u001b[0m             \u001b[0;32mif\u001b[0m \u001b[0;32mnot\u001b[0m \u001b[0mmultitime\u001b[0m\u001b[0;34m:\u001b[0m\u001b[0;34m\u001b[0m\u001b[0;34m\u001b[0m\u001b[0m\n",
      "\u001b[0;32m/Volumes/mbProD/anaconda3/lib/python3.6/site-packages/wrf/util.py\u001b[0m in \u001b[0;36m_build_data_array\u001b[0;34m(wrfnc, varname, timeidx, is_moving_domain, is_multifile, _key)\u001b[0m\n\u001b[1;32m   1241\u001b[0m     \u001b[0mvar\u001b[0m \u001b[0;34m=\u001b[0m \u001b[0mwrfnc\u001b[0m\u001b[0;34m.\u001b[0m\u001b[0mvariables\u001b[0m\u001b[0;34m[\u001b[0m\u001b[0mvarname\u001b[0m\u001b[0;34m]\u001b[0m\u001b[0;34m\u001b[0m\u001b[0;34m\u001b[0m\u001b[0m\n\u001b[1;32m   1242\u001b[0m     \u001b[0;32mif\u001b[0m \u001b[0mlen\u001b[0m\u001b[0;34m(\u001b[0m\u001b[0mvar\u001b[0m\u001b[0;34m.\u001b[0m\u001b[0mshape\u001b[0m\u001b[0;34m)\u001b[0m \u001b[0;34m>\u001b[0m \u001b[0;36m1\u001b[0m\u001b[0;34m:\u001b[0m\u001b[0;34m\u001b[0m\u001b[0;34m\u001b[0m\u001b[0m\n\u001b[0;32m-> 1243\u001b[0;31m         \u001b[0mdata\u001b[0m \u001b[0;34m=\u001b[0m \u001b[0mvar\u001b[0m\u001b[0;34m[\u001b[0m\u001b[0mtime_idx_or_slice\u001b[0m\u001b[0;34m,\u001b[0m \u001b[0;34m:\u001b[0m\u001b[0;34m]\u001b[0m\u001b[0;34m\u001b[0m\u001b[0;34m\u001b[0m\u001b[0m\n\u001b[0m\u001b[1;32m   1244\u001b[0m     \u001b[0;32melse\u001b[0m\u001b[0;34m:\u001b[0m\u001b[0;34m\u001b[0m\u001b[0;34m\u001b[0m\u001b[0m\n\u001b[1;32m   1245\u001b[0m         \u001b[0mdata\u001b[0m \u001b[0;34m=\u001b[0m \u001b[0mvar\u001b[0m\u001b[0;34m[\u001b[0m\u001b[0mtime_idx_or_slice\u001b[0m\u001b[0;34m]\u001b[0m\u001b[0;34m\u001b[0m\u001b[0;34m\u001b[0m\u001b[0m\n",
      "\u001b[0;32mnetCDF4/_netCDF4.pyx\u001b[0m in \u001b[0;36mnetCDF4._netCDF4.Variable.__getitem__\u001b[0;34m()\u001b[0m\n",
      "\u001b[0;32mnetCDF4/_netCDF4.pyx\u001b[0m in \u001b[0;36mnetCDF4._netCDF4.Variable._get\u001b[0;34m()\u001b[0m\n",
      "\u001b[0;32mnetCDF4/_netCDF4.pyx\u001b[0m in \u001b[0;36mnetCDF4._netCDF4._ensure_nc_success\u001b[0;34m()\u001b[0m\n",
      "\u001b[0;31mRuntimeError\u001b[0m: Input/output error"
     ]
    }
   ],
   "source": [
    "for ind in range(iind):\n",
    "    for dic_i in range(di):\n",
    "        fu.save_plots_double_domain(\n",
    "           dic_i    =dic_i    ,      \n",
    "           ind      =ind      ,       \n",
    "           plot_path=plot_path, \n",
    "           d_pairs  =d_pairs  ,  \n",
    "           mega_l   =mega_l   , \n",
    "        )\n",
    "        "
   ]
  },
  {
   "cell_type": "code",
   "execution_count": null,
   "metadata": {},
   "outputs": [],
   "source": []
  }
 ],
 "metadata": {
  "jupytext": {
   "main_language": "python",
   "text_representation": {
    "extension": ".py",
    "format_name": "percent",
    "format_version": "1.2",
    "jupytext_version": "0.8.6"
   }
  },
  "kernelspec": {
   "display_name": "Python 3",
   "language": "python",
   "name": "python3"
  },
  "language_info": {
   "codemirror_mode": {
    "name": "ipython",
    "version": 3
   },
   "file_extension": ".py",
   "mimetype": "text/x-python",
   "name": "python",
   "nbconvert_exporter": "python",
   "pygments_lexer": "ipython3",
   "version": "3.6.7"
  }
 },
 "nbformat": 4,
 "nbformat_minor": 2
}
