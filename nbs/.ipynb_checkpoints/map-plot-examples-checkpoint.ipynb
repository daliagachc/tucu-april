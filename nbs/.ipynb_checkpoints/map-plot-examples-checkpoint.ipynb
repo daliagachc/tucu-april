{
 "cells": [
  {
   "cell_type": "code",
   "execution_count": 1,
   "metadata": {
    "attributes": {
     "classes": [],
     "id": "",
     "n": "1"
    }
   },
   "outputs": [],
   "source": [
    "import os\n",
    "import glob\n",
    "import pandas as pd\n",
    "import matplotlib.pyplot as plt\n",
    "from netCDF4 import Dataset as netcdf_dataset"
   ]
  },
  {
   "cell_type": "code",
   "execution_count": 4,
   "metadata": {
    "attributes": {
     "classes": [],
     "id": "",
     "n": "72"
    }
   },
   "outputs": [],
   "source": [
    "# to mount \n",
    "#sudo sshfs -o allow_other aliagadi@sisu-login2.csc.fi:/wrk/aliagadi/DONOTREMOVE/saltena_2018/tucu-april-data/ ./tucu-april-data\n",
    "dir = '../tucu-april-data/WPS/'\n",
    "dir = '../tucu-april-data/WRF/'"
   ]
  },
  {
   "cell_type": "code",
   "execution_count": 5,
   "metadata": {
    "attributes": {
     "classes": [],
     "id": "",
     "n": "73"
    }
   },
   "outputs": [],
   "source": [
    "all_files = pd.DataFrame(os.listdir(dir),columns = ['name'])"
   ]
  },
  {
   "cell_type": "code",
   "execution_count": 6,
   "metadata": {
    "attributes": {
     "classes": [],
     "id": "",
     "n": "75"
    }
   },
   "outputs": [
    {
     "data": {
      "text/html": [
       "<div>\n",
       "<style scoped>\n",
       "    .dataframe tbody tr th:only-of-type {\n",
       "        vertical-align: middle;\n",
       "    }\n",
       "\n",
       "    .dataframe tbody tr th {\n",
       "        vertical-align: top;\n",
       "    }\n",
       "\n",
       "    .dataframe thead th {\n",
       "        text-align: right;\n",
       "    }\n",
       "</style>\n",
       "<table border=\"1\" class=\"dataframe\">\n",
       "  <thead>\n",
       "    <tr style=\"text-align: right;\">\n",
       "      <th></th>\n",
       "      <th>index</th>\n",
       "      <th>name</th>\n",
       "    </tr>\n",
       "  </thead>\n",
       "  <tbody>\n",
       "    <tr>\n",
       "      <th>0</th>\n",
       "      <td>14</td>\n",
       "      <td>wrfout_d04_2018-04-05_12:00:00</td>\n",
       "    </tr>\n",
       "    <tr>\n",
       "      <th>1</th>\n",
       "      <td>51</td>\n",
       "      <td>wrfout_d04_2018-04-05_06:00:00</td>\n",
       "    </tr>\n",
       "    <tr>\n",
       "      <th>2</th>\n",
       "      <td>81</td>\n",
       "      <td>wrfout_d04_2018-04-05_18:00:00</td>\n",
       "    </tr>\n",
       "  </tbody>\n",
       "</table>\n",
       "</div>"
      ],
      "text/plain": [
       "   index                            name\n",
       "0     14  wrfout_d04_2018-04-05_12:00:00\n",
       "1     51  wrfout_d04_2018-04-05_06:00:00\n",
       "2     81  wrfout_d04_2018-04-05_18:00:00"
      ]
     },
     "execution_count": 6,
     "metadata": {},
     "output_type": "execute_result"
    }
   ],
   "source": [
    "boo = all_files.name.str.contains('wrfout_d0') & all_files.name.str.contains('d04')\n",
    "met_em_files = all_files[boo].reset_index()\n",
    "met_em_files.head()"
   ]
  },
  {
   "cell_type": "code",
   "execution_count": 7,
   "metadata": {
    "attributes": {
     "classes": [],
     "id": "",
     "n": "76"
    }
   },
   "outputs": [
    {
     "data": {
      "text/plain": [
       "'../tucu-april-data/WRF/wrfout_d04_2018-04-05_06:00:00'"
      ]
     },
     "execution_count": 7,
     "metadata": {},
     "output_type": "execute_result"
    }
   ],
   "source": [
    "file_path = os.path.join(dir,met_em_files.name[1])\n",
    "file_path"
   ]
  },
  {
   "cell_type": "code",
   "execution_count": 8,
   "metadata": {
    "attributes": {
     "classes": [],
     "id": "",
     "n": "77"
    }
   },
   "outputs": [],
   "source": [
    "rootgrp = netcdf_dataset(file_path, \"r\")"
   ]
  },
  {
   "cell_type": "code",
   "execution_count": 9,
   "metadata": {
    "attributes": {
     "classes": [],
     "id": "",
     "n": "78"
    }
   },
   "outputs": [
    {
     "data": {
      "text/plain": [
       "'NETCDF3_64BIT_OFFSET'"
      ]
     },
     "execution_count": 9,
     "metadata": {},
     "output_type": "execute_result"
    }
   ],
   "source": [
    "rootgrp.data_model"
   ]
  },
  {
   "cell_type": "code",
   "execution_count": 10,
   "metadata": {
    "attributes": {
     "classes": [],
     "id": "",
     "n": "79"
    }
   },
   "outputs": [
    {
     "data": {
      "text/plain": [
       "OrderedDict()"
      ]
     },
     "execution_count": 10,
     "metadata": {},
     "output_type": "execute_result"
    }
   ],
   "source": [
    "rootgrp.groups"
   ]
  },
  {
   "cell_type": "code",
   "execution_count": 11,
   "metadata": {
    "attributes": {
     "classes": [],
     "id": "",
     "n": "80"
    }
   },
   "outputs": [],
   "source": [
    "fdic = rootgrp.variables"
   ]
  },
  {
   "cell_type": "code",
   "execution_count": 12,
   "metadata": {
    "attributes": {
     "classes": [],
     "id": "",
     "n": "81"
    }
   },
   "outputs": [
    {
     "data": {
      "text/plain": [
       "['Times', 'XLAT', 'XLONG']"
      ]
     },
     "execution_count": 12,
     "metadata": {},
     "output_type": "execute_result"
    }
   ],
   "source": [
    "kk = fdic.keys()\n",
    "kk = list(kk)\n",
    "kk[:3]"
   ]
  },
  {
   "cell_type": "code",
   "execution_count": 13,
   "metadata": {
    "attributes": {
     "classes": [],
     "id": "",
     "n": "82"
    }
   },
   "outputs": [
    {
     "data": {
      "text/plain": [
       "<class 'netCDF4._netCDF4.Variable'>\n",
       "|S1 Times(Time, DateStrLen)\n",
       "unlimited dimensions: Time\n",
       "current shape = (1, 19)\n",
       "filling on, default _FillValue of \u0000 used"
      ]
     },
     "execution_count": 13,
     "metadata": {},
     "output_type": "execute_result"
    }
   ],
   "source": [
    "rootgrp.variables['Times']"
   ]
  },
  {
   "cell_type": "code",
   "execution_count": 14,
   "metadata": {
    "attributes": {
     "classes": [],
     "id": "",
     "n": "91"
    }
   },
   "outputs": [
    {
     "data": {
      "text/plain": [
       "['TITLE',\n",
       " 'START_DATE',\n",
       " 'SIMULATION_START_DATE',\n",
       " 'WEST-EAST_GRID_DIMENSION',\n",
       " 'SOUTH-NORTH_GRID_DIMENSION']"
      ]
     },
     "execution_count": 14,
     "metadata": {},
     "output_type": "execute_result"
    }
   ],
   "source": [
    "rootgrp.ncattrs()[:5]"
   ]
  },
  {
   "cell_type": "code",
   "execution_count": 15,
   "metadata": {
    "attributes": {
     "classes": [],
     "id": "",
     "n": "86"
    }
   },
   "outputs": [
    {
     "data": {
      "text/plain": [
       "['Time',\n",
       " 'DateStrLen',\n",
       " 'west_east',\n",
       " 'south_north',\n",
       " 'bottom_top',\n",
       " 'bottom_top_stag',\n",
       " 'soil_layers_stag',\n",
       " 'west_east_stag',\n",
       " 'south_north_stag']"
      ]
     },
     "execution_count": 15,
     "metadata": {},
     "output_type": "execute_result"
    }
   ],
   "source": [
    "list(rootgrp.dimensions.keys())"
   ]
  },
  {
   "cell_type": "code",
   "execution_count": 16,
   "metadata": {
    "attributes": {
     "classes": [],
     "id": "",
     "n": "87"
    }
   },
   "outputs": [
    {
     "data": {
      "text/plain": [
       "<class 'netCDF4._netCDF4.Dimension'> (unlimited): name = 'Time', size = 1"
      ]
     },
     "execution_count": 16,
     "metadata": {},
     "output_type": "execute_result"
    }
   ],
   "source": [
    "rootgrp.dimensions['Time']"
   ]
  },
  {
   "cell_type": "code",
   "execution_count": 17,
   "metadata": {
    "attributes": {
     "classes": [],
     "id": "",
     "n": "88"
    }
   },
   "outputs": [
    {
     "data": {
      "text/plain": [
       "<class 'netCDF4._netCDF4.Dimension'>: name = 'west_east', size = 99"
      ]
     },
     "execution_count": 17,
     "metadata": {},
     "output_type": "execute_result"
    }
   ],
   "source": [
    "rootgrp.dimensions['west_east']"
   ]
  },
  {
   "cell_type": "code",
   "execution_count": 18,
   "metadata": {
    "attributes": {
     "classes": [],
     "id": "",
     "n": "89"
    }
   },
   "outputs": [],
   "source": [
    "wrffile = rootgrp"
   ]
  },
  {
   "cell_type": "code",
   "execution_count": 19,
   "metadata": {
    "attributes": {
     "classes": [],
     "id": "",
     "n": "92"
    }
   },
   "outputs": [
    {
     "data": {
      "text/plain": [
       "['Times', 'XLAT', 'XLONG', 'LU_INDEX', 'ZNU']"
      ]
     },
     "execution_count": 19,
     "metadata": {},
     "output_type": "execute_result"
    }
   ],
   "source": [
    "list(wrffile.variables)[:5]"
   ]
  },
  {
   "cell_type": "code",
   "execution_count": 20,
   "metadata": {
    "attributes": {
     "classes": [],
     "id": "",
     "n": "93"
    }
   },
   "outputs": [
    {
     "data": {
      "text/plain": [
       "OrderedDict([('FieldType', 104),\n",
       "             ('MemoryOrder', 'XY '),\n",
       "             ('description', 'LONGITUDE, WEST IS NEGATIVE'),\n",
       "             ('units', 'degree_east'),\n",
       "             ('stagger', ''),\n",
       "             ('coordinates', 'XLONG XLAT')])"
      ]
     },
     "execution_count": 20,
     "metadata": {},
     "output_type": "execute_result"
    }
   ],
   "source": [
    "pres=wrffile.variables['XLONG']\n",
    "pres.__dict__"
   ]
  },
  {
   "cell_type": "code",
   "execution_count": 21,
   "metadata": {
    "attributes": {
     "classes": [],
     "id": "",
     "n": "94"
    }
   },
   "outputs": [],
   "source": [
    "import numpy as np"
   ]
  },
  {
   "cell_type": "code",
   "execution_count": 22,
   "metadata": {
    "attributes": {
     "classes": [],
     "id": "",
     "n": "98"
    }
   },
   "outputs": [
    {
     "data": {
      "text/html": [
       "<div>\n",
       "<style scoped>\n",
       "    .dataframe tbody tr th:only-of-type {\n",
       "        vertical-align: middle;\n",
       "    }\n",
       "\n",
       "    .dataframe tbody tr th {\n",
       "        vertical-align: top;\n",
       "    }\n",
       "\n",
       "    .dataframe thead th {\n",
       "        text-align: right;\n",
       "    }\n",
       "</style>\n",
       "<table border=\"1\" class=\"dataframe\">\n",
       "  <thead>\n",
       "    <tr style=\"text-align: right;\">\n",
       "      <th></th>\n",
       "      <th>0</th>\n",
       "      <th>1</th>\n",
       "      <th>2</th>\n",
       "      <th>3</th>\n",
       "      <th>4</th>\n",
       "      <th>5</th>\n",
       "      <th>6</th>\n",
       "      <th>7</th>\n",
       "      <th>8</th>\n",
       "      <th>9</th>\n",
       "      <th>10</th>\n",
       "      <th>11</th>\n",
       "      <th>12</th>\n",
       "      <th>13</th>\n",
       "    </tr>\n",
       "  </thead>\n",
       "  <tbody>\n",
       "    <tr>\n",
       "      <th>0</th>\n",
       "      <td>Times</td>\n",
       "      <td>XLAT</td>\n",
       "      <td>XLONG</td>\n",
       "      <td>LU_INDEX</td>\n",
       "      <td>ZNU</td>\n",
       "      <td>ZNW</td>\n",
       "      <td>ZS</td>\n",
       "      <td>DZS</td>\n",
       "      <td>VAR_SSO</td>\n",
       "      <td>U</td>\n",
       "      <td>V</td>\n",
       "      <td>W</td>\n",
       "      <td>PH</td>\n",
       "      <td>PHB</td>\n",
       "    </tr>\n",
       "    <tr>\n",
       "      <th>1</th>\n",
       "      <td>T</td>\n",
       "      <td>THM</td>\n",
       "      <td>HFX_FORCE</td>\n",
       "      <td>LH_FORCE</td>\n",
       "      <td>TSK_FORCE</td>\n",
       "      <td>HFX_FORCE_TEND</td>\n",
       "      <td>LH_FORCE_TEND</td>\n",
       "      <td>TSK_FORCE_TEND</td>\n",
       "      <td>MU</td>\n",
       "      <td>MUB</td>\n",
       "      <td>NEST_POS</td>\n",
       "      <td>P</td>\n",
       "      <td>PB</td>\n",
       "      <td>FNM</td>\n",
       "    </tr>\n",
       "    <tr>\n",
       "      <th>2</th>\n",
       "      <td>FNP</td>\n",
       "      <td>RDNW</td>\n",
       "      <td>RDN</td>\n",
       "      <td>DNW</td>\n",
       "      <td>DN</td>\n",
       "      <td>CFN</td>\n",
       "      <td>CFN1</td>\n",
       "      <td>THIS_IS_AN_IDEAL_RUN</td>\n",
       "      <td>P_HYD</td>\n",
       "      <td>Q2</td>\n",
       "      <td>T2</td>\n",
       "      <td>TH2</td>\n",
       "      <td>PSFC</td>\n",
       "      <td>U10</td>\n",
       "    </tr>\n",
       "    <tr>\n",
       "      <th>3</th>\n",
       "      <td>V10</td>\n",
       "      <td>RDX</td>\n",
       "      <td>RDY</td>\n",
       "      <td>RESM</td>\n",
       "      <td>ZETATOP</td>\n",
       "      <td>CF1</td>\n",
       "      <td>CF2</td>\n",
       "      <td>CF3</td>\n",
       "      <td>ITIMESTEP</td>\n",
       "      <td>XTIME</td>\n",
       "      <td>QVAPOR</td>\n",
       "      <td>QCLOUD</td>\n",
       "      <td>QRAIN</td>\n",
       "      <td>QICE</td>\n",
       "    </tr>\n",
       "    <tr>\n",
       "      <th>4</th>\n",
       "      <td>QSNOW</td>\n",
       "      <td>QGRAUP</td>\n",
       "      <td>SHDMAX</td>\n",
       "      <td>SHDMIN</td>\n",
       "      <td>SNOALB</td>\n",
       "      <td>TSLB</td>\n",
       "      <td>SMOIS</td>\n",
       "      <td>SH2O</td>\n",
       "      <td>SMCREL</td>\n",
       "      <td>SEAICE</td>\n",
       "      <td>XICEM</td>\n",
       "      <td>SFROFF</td>\n",
       "      <td>UDROFF</td>\n",
       "      <td>IVGTYP</td>\n",
       "    </tr>\n",
       "    <tr>\n",
       "      <th>5</th>\n",
       "      <td>ISLTYP</td>\n",
       "      <td>VEGFRA</td>\n",
       "      <td>GRDFLX</td>\n",
       "      <td>ACGRDFLX</td>\n",
       "      <td>ACSNOM</td>\n",
       "      <td>SNOW</td>\n",
       "      <td>SNOWH</td>\n",
       "      <td>CANWAT</td>\n",
       "      <td>SSTSK</td>\n",
       "      <td>COSZEN</td>\n",
       "      <td>LAI</td>\n",
       "      <td>DTAUX3D</td>\n",
       "      <td>DTAUY3D</td>\n",
       "      <td>DUSFCG</td>\n",
       "    </tr>\n",
       "    <tr>\n",
       "      <th>6</th>\n",
       "      <td>DVSFCG</td>\n",
       "      <td>VAR</td>\n",
       "      <td>CON</td>\n",
       "      <td>OA1</td>\n",
       "      <td>OA2</td>\n",
       "      <td>OA3</td>\n",
       "      <td>OA4</td>\n",
       "      <td>OL1</td>\n",
       "      <td>OL2</td>\n",
       "      <td>OL3</td>\n",
       "      <td>OL4</td>\n",
       "      <td>MAPFAC_M</td>\n",
       "      <td>MAPFAC_U</td>\n",
       "      <td>MAPFAC_V</td>\n",
       "    </tr>\n",
       "    <tr>\n",
       "      <th>7</th>\n",
       "      <td>MAPFAC_MX</td>\n",
       "      <td>MAPFAC_MY</td>\n",
       "      <td>MAPFAC_UX</td>\n",
       "      <td>MAPFAC_UY</td>\n",
       "      <td>MAPFAC_VX</td>\n",
       "      <td>MF_VX_INV</td>\n",
       "      <td>MAPFAC_VY</td>\n",
       "      <td>F</td>\n",
       "      <td>E</td>\n",
       "      <td>SINALPHA</td>\n",
       "      <td>COSALPHA</td>\n",
       "      <td>HGT</td>\n",
       "      <td>TSK</td>\n",
       "      <td>P_TOP</td>\n",
       "    </tr>\n",
       "    <tr>\n",
       "      <th>8</th>\n",
       "      <td>T00</td>\n",
       "      <td>P00</td>\n",
       "      <td>TLP</td>\n",
       "      <td>TISO</td>\n",
       "      <td>TLP_STRAT</td>\n",
       "      <td>P_STRAT</td>\n",
       "      <td>MAX_MSTFX</td>\n",
       "      <td>MAX_MSTFY</td>\n",
       "      <td>RAINC</td>\n",
       "      <td>RAINSH</td>\n",
       "      <td>RAINNC</td>\n",
       "      <td>SNOWNC</td>\n",
       "      <td>GRAUPELNC</td>\n",
       "      <td>HAILNC</td>\n",
       "    </tr>\n",
       "    <tr>\n",
       "      <th>9</th>\n",
       "      <td>CLDFRA</td>\n",
       "      <td>SWDOWN</td>\n",
       "      <td>GLW</td>\n",
       "      <td>SWNORM</td>\n",
       "      <td>ACSWUPT</td>\n",
       "      <td>ACSWUPTC</td>\n",
       "      <td>ACSWDNT</td>\n",
       "      <td>ACSWDNTC</td>\n",
       "      <td>ACSWUPB</td>\n",
       "      <td>ACSWUPBC</td>\n",
       "      <td>ACSWDNB</td>\n",
       "      <td>ACSWDNBC</td>\n",
       "      <td>ACLWUPT</td>\n",
       "      <td>None</td>\n",
       "    </tr>\n",
       "    <tr>\n",
       "      <th>10</th>\n",
       "      <td>ACLWUPTC</td>\n",
       "      <td>ACLWDNT</td>\n",
       "      <td>ACLWDNTC</td>\n",
       "      <td>ACLWUPB</td>\n",
       "      <td>ACLWUPBC</td>\n",
       "      <td>ACLWDNB</td>\n",
       "      <td>ACLWDNBC</td>\n",
       "      <td>SWUPT</td>\n",
       "      <td>SWUPTC</td>\n",
       "      <td>SWDNT</td>\n",
       "      <td>SWDNTC</td>\n",
       "      <td>SWUPB</td>\n",
       "      <td>SWUPBC</td>\n",
       "      <td>None</td>\n",
       "    </tr>\n",
       "    <tr>\n",
       "      <th>11</th>\n",
       "      <td>SWDNB</td>\n",
       "      <td>SWDNBC</td>\n",
       "      <td>LWUPT</td>\n",
       "      <td>LWUPTC</td>\n",
       "      <td>LWDNT</td>\n",
       "      <td>LWDNTC</td>\n",
       "      <td>LWUPB</td>\n",
       "      <td>LWUPBC</td>\n",
       "      <td>LWDNB</td>\n",
       "      <td>LWDNBC</td>\n",
       "      <td>OLR</td>\n",
       "      <td>XLAT_U</td>\n",
       "      <td>XLONG_U</td>\n",
       "      <td>None</td>\n",
       "    </tr>\n",
       "    <tr>\n",
       "      <th>12</th>\n",
       "      <td>XLAT_V</td>\n",
       "      <td>XLONG_V</td>\n",
       "      <td>ALBEDO</td>\n",
       "      <td>CLAT</td>\n",
       "      <td>ALBBCK</td>\n",
       "      <td>EMISS</td>\n",
       "      <td>NOAHRES</td>\n",
       "      <td>TMN</td>\n",
       "      <td>XLAND</td>\n",
       "      <td>UST</td>\n",
       "      <td>PBLH</td>\n",
       "      <td>HFX</td>\n",
       "      <td>QFX</td>\n",
       "      <td>None</td>\n",
       "    </tr>\n",
       "    <tr>\n",
       "      <th>13</th>\n",
       "      <td>LH</td>\n",
       "      <td>ACHFX</td>\n",
       "      <td>ACLHF</td>\n",
       "      <td>SNOWC</td>\n",
       "      <td>SR</td>\n",
       "      <td>SAVE_TOPO_FROM_REAL</td>\n",
       "      <td>ISEEDARR_SPPT</td>\n",
       "      <td>ISEEDARR_SKEBS</td>\n",
       "      <td>ISEEDARR_RAND_PERTURB</td>\n",
       "      <td>ISEEDARRAY_SPP_CONV</td>\n",
       "      <td>ISEEDARRAY_SPP_PBL</td>\n",
       "      <td>ISEEDARRAY_SPP_LSM</td>\n",
       "      <td>C1H</td>\n",
       "      <td>None</td>\n",
       "    </tr>\n",
       "    <tr>\n",
       "      <th>14</th>\n",
       "      <td>C2H</td>\n",
       "      <td>C1F</td>\n",
       "      <td>C2F</td>\n",
       "      <td>C3H</td>\n",
       "      <td>C4H</td>\n",
       "      <td>C3F</td>\n",
       "      <td>C4F</td>\n",
       "      <td>PCB</td>\n",
       "      <td>PC</td>\n",
       "      <td>LANDMASK</td>\n",
       "      <td>LAKEMASK</td>\n",
       "      <td>SST</td>\n",
       "      <td>SST_INPUT</td>\n",
       "      <td>None</td>\n",
       "    </tr>\n",
       "  </tbody>\n",
       "</table>\n",
       "</div>"
      ],
      "text/plain": [
       "           0          1          2          3          4   \\\n",
       "0       Times       XLAT      XLONG   LU_INDEX        ZNU   \n",
       "1           T        THM  HFX_FORCE   LH_FORCE  TSK_FORCE   \n",
       "2         FNP       RDNW        RDN        DNW         DN   \n",
       "3         V10        RDX        RDY       RESM    ZETATOP   \n",
       "4       QSNOW     QGRAUP     SHDMAX     SHDMIN     SNOALB   \n",
       "5      ISLTYP     VEGFRA     GRDFLX   ACGRDFLX     ACSNOM   \n",
       "6      DVSFCG        VAR        CON        OA1        OA2   \n",
       "7   MAPFAC_MX  MAPFAC_MY  MAPFAC_UX  MAPFAC_UY  MAPFAC_VX   \n",
       "8         T00        P00        TLP       TISO  TLP_STRAT   \n",
       "9      CLDFRA     SWDOWN        GLW     SWNORM    ACSWUPT   \n",
       "10   ACLWUPTC    ACLWDNT   ACLWDNTC    ACLWUPB   ACLWUPBC   \n",
       "11      SWDNB     SWDNBC      LWUPT     LWUPTC      LWDNT   \n",
       "12     XLAT_V    XLONG_V     ALBEDO       CLAT     ALBBCK   \n",
       "13         LH      ACHFX      ACLHF      SNOWC         SR   \n",
       "14        C2H        C1F        C2F        C3H        C4H   \n",
       "\n",
       "                     5              6                     7   \\\n",
       "0                   ZNW             ZS                   DZS   \n",
       "1        HFX_FORCE_TEND  LH_FORCE_TEND        TSK_FORCE_TEND   \n",
       "2                   CFN           CFN1  THIS_IS_AN_IDEAL_RUN   \n",
       "3                   CF1            CF2                   CF3   \n",
       "4                  TSLB          SMOIS                  SH2O   \n",
       "5                  SNOW          SNOWH                CANWAT   \n",
       "6                   OA3            OA4                   OL1   \n",
       "7             MF_VX_INV      MAPFAC_VY                     F   \n",
       "8               P_STRAT      MAX_MSTFX             MAX_MSTFY   \n",
       "9              ACSWUPTC        ACSWDNT              ACSWDNTC   \n",
       "10              ACLWDNB       ACLWDNBC                 SWUPT   \n",
       "11               LWDNTC          LWUPB                LWUPBC   \n",
       "12                EMISS        NOAHRES                   TMN   \n",
       "13  SAVE_TOPO_FROM_REAL  ISEEDARR_SPPT        ISEEDARR_SKEBS   \n",
       "14                  C3F            C4F                   PCB   \n",
       "\n",
       "                       8                    9                   10  \\\n",
       "0                 VAR_SSO                    U                   V   \n",
       "1                      MU                  MUB            NEST_POS   \n",
       "2                   P_HYD                   Q2                  T2   \n",
       "3               ITIMESTEP                XTIME              QVAPOR   \n",
       "4                  SMCREL               SEAICE               XICEM   \n",
       "5                   SSTSK               COSZEN                 LAI   \n",
       "6                     OL2                  OL3                 OL4   \n",
       "7                       E             SINALPHA            COSALPHA   \n",
       "8                   RAINC               RAINSH              RAINNC   \n",
       "9                 ACSWUPB             ACSWUPBC             ACSWDNB   \n",
       "10                 SWUPTC                SWDNT              SWDNTC   \n",
       "11                  LWDNB               LWDNBC                 OLR   \n",
       "12                  XLAND                  UST                PBLH   \n",
       "13  ISEEDARR_RAND_PERTURB  ISEEDARRAY_SPP_CONV  ISEEDARRAY_SPP_PBL   \n",
       "14                     PC             LANDMASK            LAKEMASK   \n",
       "\n",
       "                    11         12        13  \n",
       "0                    W         PH       PHB  \n",
       "1                    P         PB       FNM  \n",
       "2                  TH2       PSFC       U10  \n",
       "3               QCLOUD      QRAIN      QICE  \n",
       "4               SFROFF     UDROFF    IVGTYP  \n",
       "5              DTAUX3D    DTAUY3D    DUSFCG  \n",
       "6             MAPFAC_M   MAPFAC_U  MAPFAC_V  \n",
       "7                  HGT        TSK     P_TOP  \n",
       "8               SNOWNC  GRAUPELNC    HAILNC  \n",
       "9             ACSWDNBC    ACLWUPT      None  \n",
       "10               SWUPB     SWUPBC      None  \n",
       "11              XLAT_U    XLONG_U      None  \n",
       "12                 HFX        QFX      None  \n",
       "13  ISEEDARRAY_SPP_LSM        C1H      None  \n",
       "14                 SST  SST_INPUT      None  "
      ]
     },
     "execution_count": 22,
     "metadata": {},
     "output_type": "execute_result"
    }
   ],
   "source": [
    "ll = list(wrffile.variables)[:]\n",
    "ar = np.array_split(ll,15)\n",
    "pd.DataFrame(ar)"
   ]
  },
  {
   "cell_type": "code",
   "execution_count": 23,
   "metadata": {
    "attributes": {
     "classes": [],
     "id": "",
     "n": "99"
    }
   },
   "outputs": [],
   "source": [
    "import wrf"
   ]
  },
  {
   "cell_type": "code",
   "execution_count": 24,
   "metadata": {
    "attributes": {
     "classes": [],
     "id": "",
     "n": "100"
    }
   },
   "outputs": [],
   "source": [
    "terrain = wrf.getvar(wrffile, 'ter')"
   ]
  },
  {
   "cell_type": "code",
   "execution_count": 25,
   "metadata": {
    "attributes": {
     "classes": [],
     "id": "",
     "n": "102"
    }
   },
   "outputs": [],
   "source": [
    "cart_proj = wrf.get_cartopy(terrain)\n",
    "lats, lons = wrf.latlon_coords(terrain)"
   ]
  },
  {
   "cell_type": "code",
   "execution_count": 26,
   "metadata": {
    "attributes": {
     "classes": [],
     "id": "",
     "n": "126"
    }
   },
   "outputs": [],
   "source": [
    "import matplotlib.pyplot as plt"
   ]
  },
  {
   "cell_type": "code",
   "execution_count": 27,
   "metadata": {
    "attributes": {
     "classes": [],
     "id": "",
     "n": "175"
    }
   },
   "outputs": [],
   "source": [
    "import cartopy\n",
    "import matplotlib"
   ]
  },
  {
   "cell_type": "code",
   "execution_count": 28,
   "metadata": {
    "attributes": {
     "classes": [],
     "id": "",
     "n": "190"
    }
   },
   "outputs": [
    {
     "data": {
      "text/plain": [
       "{'globe': <cartopy._crs.Globe at 0x7f4521c40e80>,\n",
       " '_xlimits': (-17330852.900858227, 17330852.900858227),\n",
       " '_ylimits': (-13439750.694108617, 16266746.13771868),\n",
       " '_x_limits': (-17330852.900858227, 17330852.900858227),\n",
       " '_y_limits': (-13439750.694108617, 16266746.13771868),\n",
       " '_threshold': 48141.25805793952}"
      ]
     },
     "execution_count": 28,
     "metadata": {},
     "output_type": "execute_result"
    }
   ],
   "source": [
    "cart_proj.__dict__"
   ]
  },
  {
   "cell_type": "code",
   "execution_count": 29,
   "metadata": {
    "attributes": {
     "classes": [],
     "id": "",
     "n": "271"
    }
   },
   "outputs": [],
   "source": [
    "lom = -68.25\n",
    "loM = -67.95\n",
    "lam = -16.45\n",
    "laM = -16.25"
   ]
  },
  {
   "cell_type": "code",
   "execution_count": 30,
   "metadata": {
    "attributes": {
     "classes": [],
     "id": "",
     "n": "276"
    }
   },
   "outputs": [
    {
     "name": "stderr",
     "output_type": "stream",
     "text": [
      "/home/aliaga/anaconda3/envs/b36/lib/python3.7/site-packages/cartopy/io/__init__.py:260: DownloadWarning: Downloading: http://naciscdn.org/naturalearth/10m/cultural/ne_10m_populated_places.zip\n",
      "  warnings.warn('Downloading: {}'.format(url), DownloadWarning)\n"
     ]
    },
    {
     "data": {
      "image/png": "[encoded data removed]",
      "text/plain": [
       "<Figure size 648x720 with 2 Axes>"
      ]
     },
     "execution_count": 30,
     "metadata": {},
     "output_type": "execute_result"
    }
   ],
   "source": [
    "fig = plt.figure(figsize=(9,10))\n",
    "geo_axes = plt.axes(projection=cart_proj)\n",
    "plt.close()\n",
    "\n",
    "states = cartopy.feature.NaturalEarthFeature(category='cultural', \n",
    "                             scale='10m', \n",
    "                             facecolor='none',\n",
    "                             name='populated_places')\n",
    "\n",
    "\n",
    "\n",
    "# Set the contour levels\n",
    "levels = np.arange(1500., 6000., 50.)\n",
    "\n",
    "# geo_axes.contour(wrf.to_np(lons), wrf.to_np(lats), \n",
    "#                wrf.to_np(terrain), levels=levels, \n",
    "#                colors=\"black\",\n",
    "#                transform=cartopy.crs.PlateCarree())\n",
    "\n",
    "cf = geo_axes.contourf(wrf.to_np(lons), wrf.to_np(lats), \n",
    "                wrf.to_np(terrain), levels=levels,\n",
    "                transform=cartopy.crs.PlateCarree(),\n",
    "                cmap=matplotlib.cm.get_cmap(\"terrain\"))\n",
    "\n",
    "geo_axes.add_feature(states, linewidth=2.0, edgecolor='white', zorder=2)\n",
    "\n",
    "plt.colorbar(mappable=cf,ax=geo_axes)\n",
    "plt.close()\n",
    "\n",
    "# geo_axes.figure\n",
    "\n",
    "gl = geo_axes.gridlines(crs=cartopy.crs.PlateCarree(), draw_labels=True,\n",
    "                  linewidth=2, color='black', alpha=0.5, linestyle='--')\n",
    "gl.xlabels_top = False\n",
    "gl.ylabels_right = False\n",
    "\n",
    "chc_loc_arr=([-68.1282],[-16.347])\n",
    "geo_axes.scatter(*chc_loc_arr,\n",
    "                 transform=cartopy.crs.PlateCarree(),\n",
    "                 s=100,\n",
    "                 c='black'\n",
    "                )\n",
    "\n",
    "geo_axes.plot([lom,lom,loM,loM,lom],[lam,laM,laM,lam,lam],\n",
    "                 transform=cartopy.crs.PlateCarree(),\n",
    "                 c='black'\n",
    "                )\n",
    "\n",
    "ccrs = cartopy.crs\n",
    "\n",
    "geo_axes.figure"
   ]
  },
  {
   "cell_type": "markdown",
   "metadata": {},
   "source": [
    "lets zoom in the are around chc lets add something else here it"
   ]
  },
  {
   "cell_type": "code",
   "execution_count": 31,
   "metadata": {
    "attributes": {
     "classes": [],
     "id": "",
     "n": "277"
    }
   },
   "outputs": [
    {
     "data": {
      "image/png": "[encoded data removed]",
      "text/plain": [
       "<Figure size 648x720 with 2 Axes>"
      ]
     },
     "execution_count": 31,
     "metadata": {},
     "output_type": "execute_result"
    }
   ],
   "source": [
    "fig = plt.figure(figsize=(9,10))\n",
    "geo_axes = plt.axes(projection=cart_proj)\n",
    "geo_axes.set_extent([lom, loM,lam, laM], crs=ccrs.PlateCarree())\n",
    "plt.close()\n",
    "\n",
    "states = cartopy.feature.NaturalEarthFeature(category='cultural', \n",
    "                             scale='10m', \n",
    "                             facecolor='none',\n",
    "                             name='populated_places')\n",
    "\n",
    "\n",
    "\n",
    "# Set the contour levels\n",
    "levels = np.arange(4500., 5400., 50.)\n",
    "\n",
    "# geo_axes.contour(wrf.to_np(lons), wrf.to_np(lats), \n",
    "#                wrf.to_np(terrain), levels=levels, \n",
    "#                colors=\"black\",\n",
    "#                transform=cartopy.crs.PlateCarree())\n",
    "\n",
    "cf = geo_axes.contourf(wrf.to_np(lons), wrf.to_np(lats), \n",
    "                wrf.to_np(terrain), levels=levels,\n",
    "                transform=cartopy.crs.PlateCarree(),\n",
    "                cmap=matplotlib.cm.get_cmap(\"terrain\"))\n",
    "\n",
    "geo_axes.add_feature(states, linewidth=2.0, edgecolor='white', zorder=2)\n",
    "\n",
    "plt.colorbar(mappable=cf,ax=geo_axes)\n",
    "plt.close()\n",
    "\n",
    "# geo_axes.figure\n",
    "\n",
    "gl = geo_axes.gridlines(crs=cartopy.crs.PlateCarree(), draw_labels=True,\n",
    "                  linewidth=2, color='black', alpha=0.5, linestyle='--')\n",
    "gl.xlabels_top = False\n",
    "gl.ylabels_right = False\n",
    "\n",
    "geo_axes.scatter([-68.1282],[-16.347],\n",
    "                 transform=cartopy.crs.PlateCarree(),\n",
    "                 s=100,\n",
    "                 c='black'\n",
    "                )\n",
    "\n",
    "ccrs = cartopy.crs\n",
    "\n",
    "geo_axes.figure"
   ]
  }
 ],
 "metadata": {
  "kernelspec": {
   "display_name": "Python 3",
   "language": "python",
   "name": "python3"
  },
  "language_info": {
   "codemirror_mode": {
    "name": "ipython",
    "version": 3
   },
   "file_extension": ".py",
   "mimetype": "text/x-python",
   "name": "python",
   "nbconvert_exporter": "python",
   "pygments_lexer": "ipython3",
   "version": "3.7.2"
  }
 },
 "nbformat": 4,
 "nbformat_minor": 2
}
